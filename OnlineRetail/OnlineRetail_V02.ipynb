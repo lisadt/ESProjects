{
 "cells": [
  {
   "cell_type": "code",
   "execution_count": 1,
   "metadata": {},
   "outputs": [],
   "source": [
    "import pandas as pd\n",
    "import numpy as np\n",
    "df=pd.read_csv(r'C:\\Users\\escag\\ESProjects\\OnlineRetail\\OnlineRetail.csv', encoding='latin1')"
   ]
  },
  {
   "cell_type": "code",
   "execution_count": 2,
   "metadata": {},
   "outputs": [
    {
     "data": {
      "text/html": [
       "<div>\n",
       "<style scoped>\n",
       "    .dataframe tbody tr th:only-of-type {\n",
       "        vertical-align: middle;\n",
       "    }\n",
       "\n",
       "    .dataframe tbody tr th {\n",
       "        vertical-align: top;\n",
       "    }\n",
       "\n",
       "    .dataframe thead th {\n",
       "        text-align: right;\n",
       "    }\n",
       "</style>\n",
       "<table border=\"1\" class=\"dataframe\">\n",
       "  <thead>\n",
       "    <tr style=\"text-align: right;\">\n",
       "      <th></th>\n",
       "      <th>InvoiceNo</th>\n",
       "      <th>StockCode</th>\n",
       "      <th>Description</th>\n",
       "      <th>Quantity</th>\n",
       "      <th>InvoiceDate</th>\n",
       "      <th>UnitPrice</th>\n",
       "      <th>CustomerID</th>\n",
       "      <th>Country</th>\n",
       "    </tr>\n",
       "  </thead>\n",
       "  <tbody>\n",
       "    <tr>\n",
       "      <th>0</th>\n",
       "      <td>536365</td>\n",
       "      <td>85123A</td>\n",
       "      <td>WHITE HANGING HEART T-LIGHT HOLDER</td>\n",
       "      <td>6</td>\n",
       "      <td>12/1/2010 8:26</td>\n",
       "      <td>2.55</td>\n",
       "      <td>17850.0</td>\n",
       "      <td>United Kingdom</td>\n",
       "    </tr>\n",
       "    <tr>\n",
       "      <th>1</th>\n",
       "      <td>536365</td>\n",
       "      <td>71053</td>\n",
       "      <td>WHITE METAL LANTERN</td>\n",
       "      <td>6</td>\n",
       "      <td>12/1/2010 8:26</td>\n",
       "      <td>3.39</td>\n",
       "      <td>17850.0</td>\n",
       "      <td>United Kingdom</td>\n",
       "    </tr>\n",
       "    <tr>\n",
       "      <th>2</th>\n",
       "      <td>536365</td>\n",
       "      <td>84406B</td>\n",
       "      <td>CREAM CUPID HEARTS COAT HANGER</td>\n",
       "      <td>8</td>\n",
       "      <td>12/1/2010 8:26</td>\n",
       "      <td>2.75</td>\n",
       "      <td>17850.0</td>\n",
       "      <td>United Kingdom</td>\n",
       "    </tr>\n",
       "    <tr>\n",
       "      <th>3</th>\n",
       "      <td>536365</td>\n",
       "      <td>84029G</td>\n",
       "      <td>KNITTED UNION FLAG HOT WATER BOTTLE</td>\n",
       "      <td>6</td>\n",
       "      <td>12/1/2010 8:26</td>\n",
       "      <td>3.39</td>\n",
       "      <td>17850.0</td>\n",
       "      <td>United Kingdom</td>\n",
       "    </tr>\n",
       "    <tr>\n",
       "      <th>4</th>\n",
       "      <td>536365</td>\n",
       "      <td>84029E</td>\n",
       "      <td>RED WOOLLY HOTTIE WHITE HEART.</td>\n",
       "      <td>6</td>\n",
       "      <td>12/1/2010 8:26</td>\n",
       "      <td>3.39</td>\n",
       "      <td>17850.0</td>\n",
       "      <td>United Kingdom</td>\n",
       "    </tr>\n",
       "  </tbody>\n",
       "</table>\n",
       "</div>"
      ],
      "text/plain": [
       "  InvoiceNo StockCode                          Description  Quantity  \\\n",
       "0    536365    85123A   WHITE HANGING HEART T-LIGHT HOLDER         6   \n",
       "1    536365     71053                  WHITE METAL LANTERN         6   \n",
       "2    536365    84406B       CREAM CUPID HEARTS COAT HANGER         8   \n",
       "3    536365    84029G  KNITTED UNION FLAG HOT WATER BOTTLE         6   \n",
       "4    536365    84029E       RED WOOLLY HOTTIE WHITE HEART.         6   \n",
       "\n",
       "      InvoiceDate  UnitPrice  CustomerID         Country  \n",
       "0  12/1/2010 8:26       2.55     17850.0  United Kingdom  \n",
       "1  12/1/2010 8:26       3.39     17850.0  United Kingdom  \n",
       "2  12/1/2010 8:26       2.75     17850.0  United Kingdom  \n",
       "3  12/1/2010 8:26       3.39     17850.0  United Kingdom  \n",
       "4  12/1/2010 8:26       3.39     17850.0  United Kingdom  "
      ]
     },
     "execution_count": 2,
     "metadata": {},
     "output_type": "execute_result"
    }
   ],
   "source": [
    "df.head()"
   ]
  },
  {
   "cell_type": "code",
   "execution_count": 3,
   "metadata": {},
   "outputs": [
    {
     "name": "stdout",
     "output_type": "stream",
     "text": [
      "<class 'pandas.core.frame.DataFrame'>\n",
      "RangeIndex: 541909 entries, 0 to 541908\n",
      "Data columns (total 8 columns):\n",
      " #   Column       Non-Null Count   Dtype  \n",
      "---  ------       --------------   -----  \n",
      " 0   InvoiceNo    541909 non-null  object \n",
      " 1   StockCode    541909 non-null  object \n",
      " 2   Description  540455 non-null  object \n",
      " 3   Quantity     541909 non-null  int64  \n",
      " 4   InvoiceDate  541909 non-null  object \n",
      " 5   UnitPrice    541909 non-null  float64\n",
      " 6   CustomerID   406829 non-null  float64\n",
      " 7   Country      541909 non-null  object \n",
      "dtypes: float64(2), int64(1), object(5)\n",
      "memory usage: 33.1+ MB\n"
     ]
    }
   ],
   "source": [
    "df.info()"
   ]
  },
  {
   "cell_type": "markdown",
   "metadata": {},
   "source": [
    "## Data Exploration and Cleaning"
   ]
  },
  {
   "cell_type": "code",
   "execution_count": 4,
   "metadata": {},
   "outputs": [
    {
     "data": {
      "text/html": [
       "<div>\n",
       "<style scoped>\n",
       "    .dataframe tbody tr th:only-of-type {\n",
       "        vertical-align: middle;\n",
       "    }\n",
       "\n",
       "    .dataframe tbody tr th {\n",
       "        vertical-align: top;\n",
       "    }\n",
       "\n",
       "    .dataframe thead th {\n",
       "        text-align: right;\n",
       "    }\n",
       "</style>\n",
       "<table border=\"1\" class=\"dataframe\">\n",
       "  <thead>\n",
       "    <tr style=\"text-align: right;\">\n",
       "      <th></th>\n",
       "      <th>InvoiceNo</th>\n",
       "      <th>StockCode</th>\n",
       "      <th>Description</th>\n",
       "      <th>Quantity</th>\n",
       "      <th>InvoiceDate</th>\n",
       "      <th>UnitPrice</th>\n",
       "      <th>CustomerID</th>\n",
       "      <th>Country</th>\n",
       "    </tr>\n",
       "  </thead>\n",
       "  <tbody>\n",
       "    <tr>\n",
       "      <th>540422</th>\n",
       "      <td>C581484</td>\n",
       "      <td>23843</td>\n",
       "      <td>PAPER CRAFT , LITTLE BIRDIE</td>\n",
       "      <td>-80995</td>\n",
       "      <td>12/9/2011 9:27</td>\n",
       "      <td>2.08</td>\n",
       "      <td>16446.0</td>\n",
       "      <td>United Kingdom</td>\n",
       "    </tr>\n",
       "    <tr>\n",
       "      <th>61624</th>\n",
       "      <td>C541433</td>\n",
       "      <td>23166</td>\n",
       "      <td>MEDIUM CERAMIC TOP STORAGE JAR</td>\n",
       "      <td>-74215</td>\n",
       "      <td>1/18/2011 10:17</td>\n",
       "      <td>1.04</td>\n",
       "      <td>12346.0</td>\n",
       "      <td>United Kingdom</td>\n",
       "    </tr>\n",
       "    <tr>\n",
       "      <th>225529</th>\n",
       "      <td>556690</td>\n",
       "      <td>23005</td>\n",
       "      <td>printing smudges/thrown away</td>\n",
       "      <td>-9600</td>\n",
       "      <td>6/14/2011 10:37</td>\n",
       "      <td>0.00</td>\n",
       "      <td>NaN</td>\n",
       "      <td>United Kingdom</td>\n",
       "    </tr>\n",
       "    <tr>\n",
       "      <th>225530</th>\n",
       "      <td>556691</td>\n",
       "      <td>23005</td>\n",
       "      <td>printing smudges/thrown away</td>\n",
       "      <td>-9600</td>\n",
       "      <td>6/14/2011 10:37</td>\n",
       "      <td>0.00</td>\n",
       "      <td>NaN</td>\n",
       "      <td>United Kingdom</td>\n",
       "    </tr>\n",
       "    <tr>\n",
       "      <th>4287</th>\n",
       "      <td>C536757</td>\n",
       "      <td>84347</td>\n",
       "      <td>ROTATING SILVER ANGELS T-LIGHT HLDR</td>\n",
       "      <td>-9360</td>\n",
       "      <td>12/2/2010 14:23</td>\n",
       "      <td>0.03</td>\n",
       "      <td>15838.0</td>\n",
       "      <td>United Kingdom</td>\n",
       "    </tr>\n",
       "    <tr>\n",
       "      <th>...</th>\n",
       "      <td>...</td>\n",
       "      <td>...</td>\n",
       "      <td>...</td>\n",
       "      <td>...</td>\n",
       "      <td>...</td>\n",
       "      <td>...</td>\n",
       "      <td>...</td>\n",
       "      <td>...</td>\n",
       "    </tr>\n",
       "    <tr>\n",
       "      <th>240697</th>\n",
       "      <td>C558112</td>\n",
       "      <td>22796</td>\n",
       "      <td>PHOTO FRAME 3 CLASSIC HANGING</td>\n",
       "      <td>-1</td>\n",
       "      <td>6/26/2011 16:08</td>\n",
       "      <td>9.95</td>\n",
       "      <td>17114.0</td>\n",
       "      <td>United Kingdom</td>\n",
       "    </tr>\n",
       "    <tr>\n",
       "      <th>240696</th>\n",
       "      <td>C558112</td>\n",
       "      <td>23091</td>\n",
       "      <td>ZINC HERB GARDEN CONTAINER</td>\n",
       "      <td>-1</td>\n",
       "      <td>6/26/2011 16:08</td>\n",
       "      <td>6.25</td>\n",
       "      <td>17114.0</td>\n",
       "      <td>United Kingdom</td>\n",
       "    </tr>\n",
       "    <tr>\n",
       "      <th>240694</th>\n",
       "      <td>C558112</td>\n",
       "      <td>82486</td>\n",
       "      <td>WOOD S/3 CABINET ANT WHITE FINISH</td>\n",
       "      <td>-1</td>\n",
       "      <td>6/26/2011 16:08</td>\n",
       "      <td>8.95</td>\n",
       "      <td>17114.0</td>\n",
       "      <td>United Kingdom</td>\n",
       "    </tr>\n",
       "    <tr>\n",
       "      <th>242447</th>\n",
       "      <td>C558347</td>\n",
       "      <td>S</td>\n",
       "      <td>SAMPLES</td>\n",
       "      <td>-1</td>\n",
       "      <td>6/28/2011 14:47</td>\n",
       "      <td>9.90</td>\n",
       "      <td>NaN</td>\n",
       "      <td>United Kingdom</td>\n",
       "    </tr>\n",
       "    <tr>\n",
       "      <th>249284</th>\n",
       "      <td>C558897</td>\n",
       "      <td>M</td>\n",
       "      <td>Manual</td>\n",
       "      <td>-1</td>\n",
       "      <td>7/4/2011 15:55</td>\n",
       "      <td>389.68</td>\n",
       "      <td>12619.0</td>\n",
       "      <td>Germany</td>\n",
       "    </tr>\n",
       "  </tbody>\n",
       "</table>\n",
       "<p>10624 rows × 8 columns</p>\n",
       "</div>"
      ],
      "text/plain": [
       "       InvoiceNo StockCode                          Description  Quantity  \\\n",
       "540422   C581484     23843          PAPER CRAFT , LITTLE BIRDIE    -80995   \n",
       "61624    C541433     23166       MEDIUM CERAMIC TOP STORAGE JAR    -74215   \n",
       "225529    556690     23005         printing smudges/thrown away     -9600   \n",
       "225530    556691     23005         printing smudges/thrown away     -9600   \n",
       "4287     C536757     84347  ROTATING SILVER ANGELS T-LIGHT HLDR     -9360   \n",
       "...          ...       ...                                  ...       ...   \n",
       "240697   C558112     22796        PHOTO FRAME 3 CLASSIC HANGING        -1   \n",
       "240696   C558112     23091           ZINC HERB GARDEN CONTAINER        -1   \n",
       "240694   C558112     82486    WOOD S/3 CABINET ANT WHITE FINISH        -1   \n",
       "242447   C558347         S                              SAMPLES        -1   \n",
       "249284   C558897         M                               Manual        -1   \n",
       "\n",
       "            InvoiceDate  UnitPrice  CustomerID         Country  \n",
       "540422   12/9/2011 9:27       2.08     16446.0  United Kingdom  \n",
       "61624   1/18/2011 10:17       1.04     12346.0  United Kingdom  \n",
       "225529  6/14/2011 10:37       0.00         NaN  United Kingdom  \n",
       "225530  6/14/2011 10:37       0.00         NaN  United Kingdom  \n",
       "4287    12/2/2010 14:23       0.03     15838.0  United Kingdom  \n",
       "...                 ...        ...         ...             ...  \n",
       "240697  6/26/2011 16:08       9.95     17114.0  United Kingdom  \n",
       "240696  6/26/2011 16:08       6.25     17114.0  United Kingdom  \n",
       "240694  6/26/2011 16:08       8.95     17114.0  United Kingdom  \n",
       "242447  6/28/2011 14:47       9.90         NaN  United Kingdom  \n",
       "249284   7/4/2011 15:55     389.68     12619.0         Germany  \n",
       "\n",
       "[10624 rows x 8 columns]"
      ]
     },
     "execution_count": 4,
     "metadata": {},
     "output_type": "execute_result"
    }
   ],
   "source": [
    "df[df.Quantity <0].sort_values(by='Quantity') # Negative values are returns"
   ]
  },
  {
   "cell_type": "code",
   "execution_count": 5,
   "metadata": {},
   "outputs": [
    {
     "data": {
      "text/plain": [
       "4373"
      ]
     },
     "execution_count": 5,
     "metadata": {},
     "output_type": "execute_result"
    }
   ],
   "source": [
    "len(df.CustomerID.unique())"
   ]
  },
  {
   "cell_type": "code",
   "execution_count": 6,
   "metadata": {},
   "outputs": [
    {
     "data": {
      "text/plain": [
       "InvoiceNo           0\n",
       "StockCode           0\n",
       "Description      1454\n",
       "Quantity            0\n",
       "InvoiceDate         0\n",
       "UnitPrice           0\n",
       "CustomerID     135080\n",
       "Country             0\n",
       "dtype: int64"
      ]
     },
     "execution_count": 6,
     "metadata": {},
     "output_type": "execute_result"
    }
   ],
   "source": [
    "# Check missing data\n",
    "df.isnull().sum() "
   ]
  },
  {
   "cell_type": "code",
   "execution_count": 7,
   "metadata": {},
   "outputs": [
    {
     "data": {
      "text/plain": [
       "(541909, 8)"
      ]
     },
     "execution_count": 7,
     "metadata": {},
     "output_type": "execute_result"
    }
   ],
   "source": [
    "df.shape"
   ]
  },
  {
   "cell_type": "code",
   "execution_count": 8,
   "metadata": {},
   "outputs": [],
   "source": [
    "#df['CustomerID'].fillna('Missing', inplace=True)\n",
    "#df['Description'].fillna('Missing', inplace=True)\n",
    "#df.isnull().sum() "
   ]
  },
  {
   "cell_type": "markdown",
   "metadata": {},
   "source": [
    "### Extract time and date"
   ]
  },
  {
   "cell_type": "code",
   "execution_count": 9,
   "metadata": {},
   "outputs": [],
   "source": [
    "import datetime as dt"
   ]
  },
  {
   "cell_type": "code",
   "execution_count": 10,
   "metadata": {},
   "outputs": [],
   "source": [
    "df['InvoiceDate']= pd.to_datetime(df['InvoiceDate'])\n",
    "df['Invoice_Date'] = df['InvoiceDate'].dt.date\n",
    "df['Invoice_Time'] = df['InvoiceDate'].dt.time"
   ]
  },
  {
   "cell_type": "code",
   "execution_count": 11,
   "metadata": {},
   "outputs": [
    {
     "data": {
      "text/html": [
       "<div>\n",
       "<style scoped>\n",
       "    .dataframe tbody tr th:only-of-type {\n",
       "        vertical-align: middle;\n",
       "    }\n",
       "\n",
       "    .dataframe tbody tr th {\n",
       "        vertical-align: top;\n",
       "    }\n",
       "\n",
       "    .dataframe thead th {\n",
       "        text-align: right;\n",
       "    }\n",
       "</style>\n",
       "<table border=\"1\" class=\"dataframe\">\n",
       "  <thead>\n",
       "    <tr style=\"text-align: right;\">\n",
       "      <th></th>\n",
       "      <th>InvoiceNo</th>\n",
       "      <th>StockCode</th>\n",
       "      <th>Description</th>\n",
       "      <th>Quantity</th>\n",
       "      <th>UnitPrice</th>\n",
       "      <th>CustomerID</th>\n",
       "      <th>Country</th>\n",
       "      <th>Invoice_Date</th>\n",
       "      <th>Invoice_Time</th>\n",
       "    </tr>\n",
       "  </thead>\n",
       "  <tbody>\n",
       "    <tr>\n",
       "      <th>0</th>\n",
       "      <td>536365</td>\n",
       "      <td>85123A</td>\n",
       "      <td>WHITE HANGING HEART T-LIGHT HOLDER</td>\n",
       "      <td>6</td>\n",
       "      <td>2.55</td>\n",
       "      <td>17850.0</td>\n",
       "      <td>United Kingdom</td>\n",
       "      <td>2010-12-01</td>\n",
       "      <td>08:26:00</td>\n",
       "    </tr>\n",
       "    <tr>\n",
       "      <th>1</th>\n",
       "      <td>536365</td>\n",
       "      <td>71053</td>\n",
       "      <td>WHITE METAL LANTERN</td>\n",
       "      <td>6</td>\n",
       "      <td>3.39</td>\n",
       "      <td>17850.0</td>\n",
       "      <td>United Kingdom</td>\n",
       "      <td>2010-12-01</td>\n",
       "      <td>08:26:00</td>\n",
       "    </tr>\n",
       "    <tr>\n",
       "      <th>2</th>\n",
       "      <td>536365</td>\n",
       "      <td>84406B</td>\n",
       "      <td>CREAM CUPID HEARTS COAT HANGER</td>\n",
       "      <td>8</td>\n",
       "      <td>2.75</td>\n",
       "      <td>17850.0</td>\n",
       "      <td>United Kingdom</td>\n",
       "      <td>2010-12-01</td>\n",
       "      <td>08:26:00</td>\n",
       "    </tr>\n",
       "    <tr>\n",
       "      <th>3</th>\n",
       "      <td>536365</td>\n",
       "      <td>84029G</td>\n",
       "      <td>KNITTED UNION FLAG HOT WATER BOTTLE</td>\n",
       "      <td>6</td>\n",
       "      <td>3.39</td>\n",
       "      <td>17850.0</td>\n",
       "      <td>United Kingdom</td>\n",
       "      <td>2010-12-01</td>\n",
       "      <td>08:26:00</td>\n",
       "    </tr>\n",
       "    <tr>\n",
       "      <th>4</th>\n",
       "      <td>536365</td>\n",
       "      <td>84029E</td>\n",
       "      <td>RED WOOLLY HOTTIE WHITE HEART.</td>\n",
       "      <td>6</td>\n",
       "      <td>3.39</td>\n",
       "      <td>17850.0</td>\n",
       "      <td>United Kingdom</td>\n",
       "      <td>2010-12-01</td>\n",
       "      <td>08:26:00</td>\n",
       "    </tr>\n",
       "  </tbody>\n",
       "</table>\n",
       "</div>"
      ],
      "text/plain": [
       "  InvoiceNo StockCode                          Description  Quantity  \\\n",
       "0    536365    85123A   WHITE HANGING HEART T-LIGHT HOLDER         6   \n",
       "1    536365     71053                  WHITE METAL LANTERN         6   \n",
       "2    536365    84406B       CREAM CUPID HEARTS COAT HANGER         8   \n",
       "3    536365    84029G  KNITTED UNION FLAG HOT WATER BOTTLE         6   \n",
       "4    536365    84029E       RED WOOLLY HOTTIE WHITE HEART.         6   \n",
       "\n",
       "   UnitPrice  CustomerID         Country Invoice_Date Invoice_Time  \n",
       "0       2.55     17850.0  United Kingdom   2010-12-01     08:26:00  \n",
       "1       3.39     17850.0  United Kingdom   2010-12-01     08:26:00  \n",
       "2       2.75     17850.0  United Kingdom   2010-12-01     08:26:00  \n",
       "3       3.39     17850.0  United Kingdom   2010-12-01     08:26:00  \n",
       "4       3.39     17850.0  United Kingdom   2010-12-01     08:26:00  "
      ]
     },
     "execution_count": 11,
     "metadata": {},
     "output_type": "execute_result"
    }
   ],
   "source": [
    "df.drop('InvoiceDate', axis=1, inplace=True)\n",
    "df.head()"
   ]
  },
  {
   "cell_type": "markdown",
   "metadata": {},
   "source": [
    "#### -----------------------------------------------------------------------------------------------------------------------------------------------------------------"
   ]
  },
  {
   "cell_type": "code",
   "execution_count": 12,
   "metadata": {},
   "outputs": [
    {
     "data": {
      "text/plain": [
       "array(['WHITE HANGING HEART T-LIGHT HOLDER', 'WHITE METAL LANTERN',\n",
       "       'CREAM CUPID HEARTS COAT HANGER', ..., 'lost',\n",
       "       'CREAM HANGING HEART T-LIGHT HOLDER',\n",
       "       'PAPER CRAFT , LITTLE BIRDIE'], dtype=object)"
      ]
     },
     "execution_count": 12,
     "metadata": {},
     "output_type": "execute_result"
    }
   ],
   "source": [
    "df.Description.unique()"
   ]
  },
  {
   "cell_type": "code",
   "execution_count": 13,
   "metadata": {},
   "outputs": [],
   "source": [
    "df['Sales']=df['Quantity']*df['UnitPrice']"
   ]
  },
  {
   "cell_type": "code",
   "execution_count": 14,
   "metadata": {},
   "outputs": [
    {
     "data": {
      "text/html": [
       "<div>\n",
       "<style scoped>\n",
       "    .dataframe tbody tr th:only-of-type {\n",
       "        vertical-align: middle;\n",
       "    }\n",
       "\n",
       "    .dataframe tbody tr th {\n",
       "        vertical-align: top;\n",
       "    }\n",
       "\n",
       "    .dataframe thead th {\n",
       "        text-align: right;\n",
       "    }\n",
       "</style>\n",
       "<table border=\"1\" class=\"dataframe\">\n",
       "  <thead>\n",
       "    <tr style=\"text-align: right;\">\n",
       "      <th></th>\n",
       "      <th>mean</th>\n",
       "      <th>median</th>\n",
       "      <th>sum</th>\n",
       "      <th>max</th>\n",
       "      <th>count</th>\n",
       "    </tr>\n",
       "    <tr>\n",
       "      <th>CustomerID</th>\n",
       "      <th></th>\n",
       "      <th></th>\n",
       "      <th></th>\n",
       "      <th></th>\n",
       "      <th></th>\n",
       "    </tr>\n",
       "  </thead>\n",
       "  <tbody>\n",
       "    <tr>\n",
       "      <th>17448.0</th>\n",
       "      <td>-4287.630000</td>\n",
       "      <td>-4287.63</td>\n",
       "      <td>-4287.63</td>\n",
       "      <td>-4287.63</td>\n",
       "      <td>1</td>\n",
       "    </tr>\n",
       "    <tr>\n",
       "      <th>15369.0</th>\n",
       "      <td>-1592.490000</td>\n",
       "      <td>-1592.49</td>\n",
       "      <td>-1592.49</td>\n",
       "      <td>-1592.49</td>\n",
       "      <td>1</td>\n",
       "    </tr>\n",
       "    <tr>\n",
       "      <th>14213.0</th>\n",
       "      <td>-238.440000</td>\n",
       "      <td>-237.60</td>\n",
       "      <td>-1192.20</td>\n",
       "      <td>-122.40</td>\n",
       "      <td>5</td>\n",
       "    </tr>\n",
       "    <tr>\n",
       "      <th>17603.0</th>\n",
       "      <td>-77.686667</td>\n",
       "      <td>12.48</td>\n",
       "      <td>-1165.30</td>\n",
       "      <td>250.00</td>\n",
       "      <td>15</td>\n",
       "    </tr>\n",
       "    <tr>\n",
       "      <th>12503.0</th>\n",
       "      <td>-1126.000000</td>\n",
       "      <td>-1126.00</td>\n",
       "      <td>-1126.00</td>\n",
       "      <td>-1126.00</td>\n",
       "      <td>1</td>\n",
       "    </tr>\n",
       "    <tr>\n",
       "      <th>...</th>\n",
       "      <td>...</td>\n",
       "      <td>...</td>\n",
       "      <td>...</td>\n",
       "      <td>...</td>\n",
       "      <td>...</td>\n",
       "    </tr>\n",
       "    <tr>\n",
       "      <th>12415.0</th>\n",
       "      <td>159.030141</td>\n",
       "      <td>114.84</td>\n",
       "      <td>123725.45</td>\n",
       "      <td>1718.40</td>\n",
       "      <td>778</td>\n",
       "    </tr>\n",
       "    <tr>\n",
       "      <th>14911.0</th>\n",
       "      <td>22.458516</td>\n",
       "      <td>16.80</td>\n",
       "      <td>132572.62</td>\n",
       "      <td>1687.17</td>\n",
       "      <td>5903</td>\n",
       "    </tr>\n",
       "    <tr>\n",
       "      <th>17450.0</th>\n",
       "      <td>534.137236</td>\n",
       "      <td>240.00</td>\n",
       "      <td>187482.17</td>\n",
       "      <td>7144.72</td>\n",
       "      <td>351</td>\n",
       "    </tr>\n",
       "    <tr>\n",
       "      <th>18102.0</th>\n",
       "      <td>592.236697</td>\n",
       "      <td>390.00</td>\n",
       "      <td>256438.49</td>\n",
       "      <td>3828.00</td>\n",
       "      <td>433</td>\n",
       "    </tr>\n",
       "    <tr>\n",
       "      <th>14646.0</th>\n",
       "      <td>134.047492</td>\n",
       "      <td>105.60</td>\n",
       "      <td>279489.02</td>\n",
       "      <td>4992.00</td>\n",
       "      <td>2085</td>\n",
       "    </tr>\n",
       "  </tbody>\n",
       "</table>\n",
       "<p>4372 rows × 5 columns</p>\n",
       "</div>"
      ],
      "text/plain": [
       "                   mean   median        sum      max  count\n",
       "CustomerID                                                 \n",
       "17448.0    -4287.630000 -4287.63   -4287.63 -4287.63      1\n",
       "15369.0    -1592.490000 -1592.49   -1592.49 -1592.49      1\n",
       "14213.0     -238.440000  -237.60   -1192.20  -122.40      5\n",
       "17603.0      -77.686667    12.48   -1165.30   250.00     15\n",
       "12503.0    -1126.000000 -1126.00   -1126.00 -1126.00      1\n",
       "...                 ...      ...        ...      ...    ...\n",
       "12415.0      159.030141   114.84  123725.45  1718.40    778\n",
       "14911.0       22.458516    16.80  132572.62  1687.17   5903\n",
       "17450.0      534.137236   240.00  187482.17  7144.72    351\n",
       "18102.0      592.236697   390.00  256438.49  3828.00    433\n",
       "14646.0      134.047492   105.60  279489.02  4992.00   2085\n",
       "\n",
       "[4372 rows x 5 columns]"
      ]
     },
     "execution_count": 14,
     "metadata": {},
     "output_type": "execute_result"
    }
   ],
   "source": [
    "df.groupby('CustomerID')['Sales'].agg(['mean', 'median','sum', 'max', 'count' ]).sort_values(by='sum')"
   ]
  },
  {
   "cell_type": "code",
   "execution_count": 15,
   "metadata": {},
   "outputs": [
    {
     "data": {
      "text/plain": [
       "Index(['InvoiceNo', 'StockCode', 'Description', 'Quantity', 'UnitPrice',\n",
       "       'CustomerID', 'Country', 'Invoice_Date', 'Invoice_Time', 'Sales'],\n",
       "      dtype='object')"
      ]
     },
     "execution_count": 15,
     "metadata": {},
     "output_type": "execute_result"
    }
   ],
   "source": [
    "df.columns"
   ]
  },
  {
   "cell_type": "markdown",
   "metadata": {},
   "source": [
    "### Create Daily, Monthly and Quarterly Total Revenues"
   ]
  },
  {
   "cell_type": "code",
   "execution_count": 16,
   "metadata": {},
   "outputs": [
    {
     "name": "stdout",
     "output_type": "stream",
     "text": [
      "2010-12-01   2011-12-09\n"
     ]
    }
   ],
   "source": [
    "print(df['Invoice_Date'].min(), \" \" , df['Invoice_Date'].max()) ## Only 9 days are covered in the last month of the data set"
   ]
  },
  {
   "cell_type": "code",
   "execution_count": 17,
   "metadata": {},
   "outputs": [],
   "source": [
    "# DAILY SALES\n",
    "df['Invoice_Date']=df['Invoice_Date'].astype('datetime64[ns]')\n",
    "DaySales=df.groupby('Invoice_Date')[['Sales']].sum() ## Total of daily sales\n",
    "DaySales.rename({'Sales': 'SumDaySale'}, axis=1, inplace=True)\n",
    "df=df.merge(DaySales, left_on=df['Invoice_Date'], right_index=True)"
   ]
  },
  {
   "cell_type": "code",
   "execution_count": 18,
   "metadata": {},
   "outputs": [],
   "source": [
    "# QUARTERLY SALES\n",
    "df['Invoice_Q']=df['Invoice_Date'].dt.to_period('Q')\n",
    "QSales=df.groupby(df['Invoice_Date'].dt.to_period('Q'))[['Sales']].sum() # Total of Quarterly sales\n",
    "QSales.rename({'Sales': 'SumQSale'}, axis=1, inplace=True)\n",
    "QSales.index.rename('Invoice_Q', inplace=True)\n",
    "df=df.merge(QSales, on='Invoice_Q')"
   ]
  },
  {
   "cell_type": "code",
   "execution_count": 19,
   "metadata": {},
   "outputs": [
    {
     "data": {
      "text/html": [
       "<div>\n",
       "<style scoped>\n",
       "    .dataframe tbody tr th:only-of-type {\n",
       "        vertical-align: middle;\n",
       "    }\n",
       "\n",
       "    .dataframe tbody tr th {\n",
       "        vertical-align: top;\n",
       "    }\n",
       "\n",
       "    .dataframe thead th {\n",
       "        text-align: right;\n",
       "    }\n",
       "</style>\n",
       "<table border=\"1\" class=\"dataframe\">\n",
       "  <thead>\n",
       "    <tr style=\"text-align: right;\">\n",
       "      <th></th>\n",
       "      <th>SumQSale</th>\n",
       "    </tr>\n",
       "    <tr>\n",
       "      <th>Invoice_Q</th>\n",
       "      <th></th>\n",
       "    </tr>\n",
       "  </thead>\n",
       "  <tbody>\n",
       "    <tr>\n",
       "      <th>2010Q4</th>\n",
       "      <td>748957.020</td>\n",
       "    </tr>\n",
       "    <tr>\n",
       "      <th>2011Q1</th>\n",
       "      <td>1741329.990</td>\n",
       "    </tr>\n",
       "    <tr>\n",
       "      <th>2011Q2</th>\n",
       "      <td>1907663.751</td>\n",
       "    </tr>\n",
       "    <tr>\n",
       "      <th>2011Q3</th>\n",
       "      <td>2383668.243</td>\n",
       "    </tr>\n",
       "    <tr>\n",
       "      <th>2011Q4</th>\n",
       "      <td>2966128.930</td>\n",
       "    </tr>\n",
       "  </tbody>\n",
       "</table>\n",
       "</div>"
      ],
      "text/plain": [
       "              SumQSale\n",
       "Invoice_Q             \n",
       "2010Q4      748957.020\n",
       "2011Q1     1741329.990\n",
       "2011Q2     1907663.751\n",
       "2011Q3     2383668.243\n",
       "2011Q4     2966128.930"
      ]
     },
     "execution_count": 19,
     "metadata": {},
     "output_type": "execute_result"
    }
   ],
   "source": [
    "QSales"
   ]
  },
  {
   "cell_type": "code",
   "execution_count": 20,
   "metadata": {},
   "outputs": [],
   "source": [
    "# Monthly SALES\n",
    "df['Invoice_M']=df['Invoice_Date'].dt.to_period('m')\n",
    "MonthSales=df.groupby(df['Invoice_Date'].dt.to_period('m'))[['Sales']].sum() # Total of Monthly Sales\n",
    "MonthSales.rename({'Sales': 'SumMonthSale'}, axis=1, inplace=True)\n",
    "MonthSales.index.rename('Invoice_M', inplace=True)\n",
    "df=df.merge(MonthSales, on='Invoice_M')"
   ]
  },
  {
   "cell_type": "markdown",
   "metadata": {},
   "source": [
    "### Create total sales per Customer"
   ]
  },
  {
   "cell_type": "code",
   "execution_count": 21,
   "metadata": {},
   "outputs": [],
   "source": [
    "CustomerTot=df.groupby('CustomerID')[['Sales']].sum()\n",
    "CustomerTot.rename({'Sales': 'ClientCumSales'}, inplace=True, axis=1)"
   ]
  },
  {
   "cell_type": "code",
   "execution_count": 22,
   "metadata": {},
   "outputs": [],
   "source": [
    "CustomerTotDay=df.groupby(['CustomerID', 'Invoice_Date'])[['Sales']].sum()\n",
    "CustomerTotDay.rename({'Sales': 'ClientDayCumSales'}, inplace=True, axis=1)"
   ]
  },
  {
   "cell_type": "code",
   "execution_count": 23,
   "metadata": {},
   "outputs": [],
   "source": [
    "CustomerTotMonth=df.groupby(['CustomerID', 'Invoice_M'])[['Sales']].sum()\n",
    "CustomerTotMonth.rename({'Sales': 'ClientMonthCumSales'}, inplace=True, axis=1)"
   ]
  },
  {
   "cell_type": "code",
   "execution_count": 24,
   "metadata": {},
   "outputs": [],
   "source": [
    "CustomerTotQ=df.groupby(['CustomerID', 'Invoice_Q'])[['Sales']].sum()\n",
    "CustomerTotQ.rename({'Sales': 'ClientQCumSales'}, inplace=True, axis=1)"
   ]
  },
  {
   "cell_type": "code",
   "execution_count": 25,
   "metadata": {},
   "outputs": [
    {
     "data": {
      "text/html": [
       "<div>\n",
       "<style scoped>\n",
       "    .dataframe tbody tr th:only-of-type {\n",
       "        vertical-align: middle;\n",
       "    }\n",
       "\n",
       "    .dataframe tbody tr th {\n",
       "        vertical-align: top;\n",
       "    }\n",
       "\n",
       "    .dataframe thead th {\n",
       "        text-align: right;\n",
       "    }\n",
       "</style>\n",
       "<table border=\"1\" class=\"dataframe\">\n",
       "  <thead>\n",
       "    <tr style=\"text-align: right;\">\n",
       "      <th></th>\n",
       "      <th></th>\n",
       "      <th>ClientQCumSales</th>\n",
       "    </tr>\n",
       "    <tr>\n",
       "      <th>CustomerID</th>\n",
       "      <th>Invoice_Q</th>\n",
       "      <th></th>\n",
       "    </tr>\n",
       "  </thead>\n",
       "  <tbody>\n",
       "    <tr>\n",
       "      <th>12346.0</th>\n",
       "      <th>2011Q1</th>\n",
       "      <td>0.00</td>\n",
       "    </tr>\n",
       "    <tr>\n",
       "      <th rowspan=\"4\" valign=\"top\">12347.0</th>\n",
       "      <th>2010Q4</th>\n",
       "      <td>711.79</td>\n",
       "    </tr>\n",
       "    <tr>\n",
       "      <th>2011Q1</th>\n",
       "      <td>475.39</td>\n",
       "    </tr>\n",
       "    <tr>\n",
       "      <th>2011Q2</th>\n",
       "      <td>1018.77</td>\n",
       "    </tr>\n",
       "    <tr>\n",
       "      <th>2011Q3</th>\n",
       "      <td>584.91</td>\n",
       "    </tr>\n",
       "    <tr>\n",
       "      <th>...</th>\n",
       "      <th>...</th>\n",
       "      <td>...</td>\n",
       "    </tr>\n",
       "    <tr>\n",
       "      <th rowspan=\"3\" valign=\"top\">18283.0</th>\n",
       "      <th>2011Q2</th>\n",
       "      <td>524.68</td>\n",
       "    </tr>\n",
       "    <tr>\n",
       "      <th>2011Q3</th>\n",
       "      <td>278.09</td>\n",
       "    </tr>\n",
       "    <tr>\n",
       "      <th>2011Q4</th>\n",
       "      <td>974.21</td>\n",
       "    </tr>\n",
       "    <tr>\n",
       "      <th rowspan=\"2\" valign=\"top\">18287.0</th>\n",
       "      <th>2011Q2</th>\n",
       "      <td>765.28</td>\n",
       "    </tr>\n",
       "    <tr>\n",
       "      <th>2011Q4</th>\n",
       "      <td>1072.00</td>\n",
       "    </tr>\n",
       "  </tbody>\n",
       "</table>\n",
       "<p>9581 rows × 1 columns</p>\n",
       "</div>"
      ],
      "text/plain": [
       "                      ClientQCumSales\n",
       "CustomerID Invoice_Q                 \n",
       "12346.0    2011Q1                0.00\n",
       "12347.0    2010Q4              711.79\n",
       "           2011Q1              475.39\n",
       "           2011Q2             1018.77\n",
       "           2011Q3              584.91\n",
       "...                               ...\n",
       "18283.0    2011Q2              524.68\n",
       "           2011Q3              278.09\n",
       "           2011Q4              974.21\n",
       "18287.0    2011Q2              765.28\n",
       "           2011Q4             1072.00\n",
       "\n",
       "[9581 rows x 1 columns]"
      ]
     },
     "execution_count": 25,
     "metadata": {},
     "output_type": "execute_result"
    }
   ],
   "source": [
    "CustomerTotQ"
   ]
  },
  {
   "cell_type": "code",
   "execution_count": 26,
   "metadata": {},
   "outputs": [],
   "source": [
    "df=df.merge(CustomerTotDay, left_on=['CustomerID', 'Invoice_Date'], right_index=True)"
   ]
  },
  {
   "cell_type": "code",
   "execution_count": 27,
   "metadata": {},
   "outputs": [],
   "source": [
    "df=df.merge(CustomerTotMonth, left_on=['CustomerID', 'Invoice_M'], right_index=True)"
   ]
  },
  {
   "cell_type": "code",
   "execution_count": 28,
   "metadata": {},
   "outputs": [],
   "source": [
    "df=df.merge(CustomerTotQ, left_on=['CustomerID', 'Invoice_Q'], right_index=True)"
   ]
  },
  {
   "cell_type": "code",
   "execution_count": 29,
   "metadata": {},
   "outputs": [
    {
     "data": {
      "text/plain": [
       "Index(['key_0', 'InvoiceNo', 'StockCode', 'Description', 'Quantity',\n",
       "       'UnitPrice', 'CustomerID', 'Country', 'Invoice_Date', 'Invoice_Time',\n",
       "       'Sales', 'SumDaySale', 'Invoice_Q', 'SumQSale', 'Invoice_M',\n",
       "       'SumMonthSale', 'ClientDayCumSales', 'ClientMonthCumSales',\n",
       "       'ClientQCumSales'],\n",
       "      dtype='object')"
      ]
     },
     "execution_count": 29,
     "metadata": {},
     "output_type": "execute_result"
    }
   ],
   "source": [
    "df.columns"
   ]
  },
  {
   "cell_type": "markdown",
   "metadata": {},
   "source": [
    "### Customer's sales percentages"
   ]
  },
  {
   "cell_type": "code",
   "execution_count": 30,
   "metadata": {},
   "outputs": [],
   "source": [
    "df['ClientDaySalesPC']=df['ClientDayCumSales']/df['SumDaySale']*100\n",
    "df['ClientMonthSalesPC']=df['ClientMonthCumSales']/df['SumMonthSale']*100\n",
    "df['ClientQSalesPC']=df['ClientQCumSales']/df['SumQSale']*100"
   ]
  },
  {
   "cell_type": "code",
   "execution_count": 31,
   "metadata": {},
   "outputs": [
    {
     "data": {
      "text/plain": [
       "76.77927807784187"
      ]
     },
     "execution_count": 31,
     "metadata": {},
     "output_type": "execute_result"
    }
   ],
   "source": [
    "df['ClientDaySalesPC'].max()"
   ]
  },
  {
   "cell_type": "markdown",
   "metadata": {},
   "source": [
    "## Visualization"
   ]
  },
  {
   "cell_type": "code",
   "execution_count": 32,
   "metadata": {},
   "outputs": [
    {
     "data": {
      "text/plain": [
       "Index(['key_0', 'InvoiceNo', 'StockCode', 'Description', 'Quantity',\n",
       "       'UnitPrice', 'CustomerID', 'Country', 'Invoice_Date', 'Invoice_Time',\n",
       "       'Sales', 'SumDaySale', 'Invoice_Q', 'SumQSale', 'Invoice_M',\n",
       "       'SumMonthSale', 'ClientDayCumSales', 'ClientMonthCumSales',\n",
       "       'ClientQCumSales', 'ClientDaySalesPC', 'ClientMonthSalesPC',\n",
       "       'ClientQSalesPC'],\n",
       "      dtype='object')"
      ]
     },
     "execution_count": 32,
     "metadata": {},
     "output_type": "execute_result"
    }
   ],
   "source": [
    "df.columns"
   ]
  },
  {
   "cell_type": "code",
   "execution_count": 33,
   "metadata": {},
   "outputs": [],
   "source": [
    "import matplotlib.pyplot as plt\n",
    "%matplotlib inline\n",
    "import seaborn as sns\n"
   ]
  },
  {
   "cell_type": "code",
   "execution_count": 34,
   "metadata": {},
   "outputs": [
    {
     "data": {
      "text/plain": [
       "Text(0.5, 1.0, 'Cumulative Monthly Sales by Month')"
      ]
     },
     "execution_count": 34,
     "metadata": {},
     "output_type": "execute_result"
    },
    {
     "data": {
      "image/png": "[encoded data removed]",
      "text/plain": [
       "<Figure size 720x432 with 1 Axes>"
      ]
     },
     "metadata": {
      "needs_background": "light"
     },
     "output_type": "display_data"
    }
   ],
   "source": [
    "df.plot(x='Invoice_Date', y='SumMonthSale' ,kind='line', figsize=(10,6))\n",
    "plt.title('Cumulative Monthly Sales by Month',fontsize=20)"
   ]
  },
  {
   "cell_type": "code",
   "execution_count": 35,
   "metadata": {},
   "outputs": [
    {
     "data": {
      "image/png": "[encoded data removed]",
      "text/plain": [
       "<Figure size 864x432 with 3 Axes>"
      ]
     },
     "metadata": {
      "needs_background": "light"
     },
     "output_type": "display_data"
    }
   ],
   "source": [
    "f, axes=plt.subplots(nrows=3, ncols=1, figsize=(12,6), sharex=True)\n",
    "\n",
    "f.suptitle('Daily, Monthly and Quarterly Cumulative Sales', fontsize=20)\n",
    "labels= ['Daily', 'Monthly', 'Quarterly']\n",
    "colors=['b', 'r','g']\n",
    "axes[0].scatter(df.Invoice_Date, df.SumDaySale,color='b', label='Daily')\n",
    "axes[0].legend(loc='upper right')\n",
    "axes[1].scatter(df.Invoice_Date, df.SumMonthSale, color='r', label='Monthly')\n",
    "axes[1].legend(loc='upper right')\n",
    "axes[2].scatter(df.Invoice_Date, df.SumQSale, color='g', label='Quarterly')\n",
    "axes[2].legend(loc='upper right')\n",
    "\n",
    "plt.show()"
   ]
  },
  {
   "cell_type": "code",
   "execution_count": 36,
   "metadata": {},
   "outputs": [],
   "source": [
    "dfQ=df.groupby(by='Invoice_Q')['SumQSale'].mean()\n",
    "y_pos = np.arange(dfQ.shape[0])"
   ]
  },
  {
   "cell_type": "code",
   "execution_count": 37,
   "metadata": {},
   "outputs": [],
   "source": [
    "dfM=df.groupby(by='Invoice_M')['SumMonthSale'].mean()\n",
    "y_posM = np.arange(dfM.shape[0])\n",
    "y_posMb=df['Invoice_M'].unique()"
   ]
  },
  {
   "cell_type": "code",
   "execution_count": 38,
   "metadata": {},
   "outputs": [
    {
     "data": {
      "text/plain": [
       "<PeriodArray>\n",
       "['2010-12', '2011-01', '2011-02', '2011-03', '2011-04', '2011-05', '2011-06',\n",
       " '2011-07', '2011-08', '2011-09', '2011-10', '2011-11', '2011-12']\n",
       "Length: 13, dtype: period[M]"
      ]
     },
     "execution_count": 38,
     "metadata": {},
     "output_type": "execute_result"
    }
   ],
   "source": [
    "y_posMb"
   ]
  },
  {
   "cell_type": "code",
   "execution_count": 39,
   "metadata": {
    "scrolled": true
   },
   "outputs": [
    {
     "data": {
      "image/png": "[encoded data removed]",
      "text/plain": [
       "<Figure size 432x288 with 1 Axes>"
      ]
     },
     "metadata": {
      "needs_background": "light"
     },
     "output_type": "display_data"
    }
   ],
   "source": [
    "fig, ax=plt.subplots()\n",
    "ax.barh(y_pos, dfQ/1000)\n",
    "ax.set_yticks(y_pos)\n",
    "ax.set_yticklabels(['2010Q4', '2011Q1', '2011Q2', '2011Q3', '2011Q4'])\n",
    "ax.set_xlabel('Quarter Sales/1000')\n",
    "plt.show()"
   ]
  },
  {
   "cell_type": "code",
   "execution_count": 40,
   "metadata": {},
   "outputs": [
    {
     "data": {
      "image/png": "[encoded data removed]",
      "text/plain": [
       "<Figure size 432x288 with 1 Axes>"
      ]
     },
     "metadata": {
      "needs_background": "light"
     },
     "output_type": "display_data"
    }
   ],
   "source": [
    "fig, ax=plt.subplots()\n",
    "ax.barh(y_posM, dfM/1000)\n",
    "ax.set_yticks(y_posM)\n",
    "ax.set_yticklabels(['2010-12', '2011-01', '2011-02', '2011-03', '2011-04', '2011-05', '2011-06',\n",
    " '2011-07', '2011-08', '2011-09', '2011-10', '2011-11', '2011-12'])\n",
    "ax.set_xlabel('Cumulative Monthly Sales * 1000')\n",
    "plt.show()"
   ]
  },
  {
   "cell_type": "code",
   "execution_count": 41,
   "metadata": {},
   "outputs": [
    {
     "data": {
      "text/plain": [
       "Index(['key_0', 'InvoiceNo', 'StockCode', 'Description', 'Quantity',\n",
       "       'UnitPrice', 'CustomerID', 'Country', 'Invoice_Date', 'Invoice_Time',\n",
       "       'Sales', 'SumDaySale', 'Invoice_Q', 'SumQSale', 'Invoice_M',\n",
       "       'SumMonthSale', 'ClientDayCumSales', 'ClientMonthCumSales',\n",
       "       'ClientQCumSales', 'ClientDaySalesPC', 'ClientMonthSalesPC',\n",
       "       'ClientQSalesPC'],\n",
       "      dtype='object')"
      ]
     },
     "execution_count": 41,
     "metadata": {},
     "output_type": "execute_result"
    }
   ],
   "source": [
    "df.columns"
   ]
  },
  {
   "cell_type": "markdown",
   "metadata": {},
   "source": [
    "## Monthly Growth"
   ]
  },
  {
   "cell_type": "code",
   "execution_count": 42,
   "metadata": {},
   "outputs": [],
   "source": [
    "MG=df.groupby('Invoice_M')['SumMonthSale'].mean()"
   ]
  },
  {
   "cell_type": "code",
   "execution_count": 43,
   "metadata": {},
   "outputs": [
    {
     "data": {
      "text/plain": [
       "Invoice_M\n",
       "2010-12    7.489570e+05\n",
       "2011-01    5.600003e+05\n",
       "2011-02    4.980626e+05\n",
       "2011-03    6.832671e+05\n",
       "2011-04    4.932071e+05\n",
       "2011-05    7.233335e+05\n",
       "2011-06    6.911231e+05\n",
       "2011-07    6.813001e+05\n",
       "2011-08    6.826805e+05\n",
       "2011-09    1.019688e+06\n",
       "2011-10    1.070705e+06\n",
       "2011-11    1.461756e+06\n",
       "2011-12    4.336680e+05\n",
       "Freq: M, Name: SumMonthSale, dtype: float64"
      ]
     },
     "execution_count": 43,
     "metadata": {},
     "output_type": "execute_result"
    }
   ],
   "source": [
    "MG"
   ]
  },
  {
   "cell_type": "code",
   "execution_count": 44,
   "metadata": {},
   "outputs": [],
   "source": [
    "MG_pct=MG.pct_change()"
   ]
  },
  {
   "cell_type": "code",
   "execution_count": 45,
   "metadata": {},
   "outputs": [
    {
     "data": {
      "text/plain": [
       "Invoice_M\n",
       "2010-12         NaN\n",
       "2011-01   -0.252293\n",
       "2011-02   -0.110603\n",
       "2011-03    0.371850\n",
       "2011-04   -0.278163\n",
       "2011-05    0.466592\n",
       "2011-06   -0.044530\n",
       "2011-07   -0.014213\n",
       "2011-08    0.002026\n",
       "2011-09    0.493653\n",
       "2011-10    0.050032\n",
       "2011-11    0.365228\n",
       "2011-12   -0.703324\n",
       "Freq: M, Name: MGpct, dtype: float64"
      ]
     },
     "execution_count": 45,
     "metadata": {},
     "output_type": "execute_result"
    }
   ],
   "source": [
    "MG_pct.rename('MGpct', inplace=True)"
   ]
  },
  {
   "cell_type": "code",
   "execution_count": 46,
   "metadata": {},
   "outputs": [
    {
     "data": {
      "image/png": "[encoded data removed]",
      "text/plain": [
       "<Figure size 720x432 with 1 Axes>"
      ]
     },
     "metadata": {
      "needs_background": "light"
     },
     "output_type": "display_data"
    }
   ],
   "source": [
    "MG_pct.plot(figsize=(10,6))\n",
    "plt.title('Monthly Growth by Month', fontsize=15);"
   ]
  },
  {
   "cell_type": "code",
   "execution_count": 47,
   "metadata": {},
   "outputs": [],
   "source": [
    "df=df.merge(MG_pct, left_on='Invoice_M', right_index=True)"
   ]
  },
  {
   "cell_type": "code",
   "execution_count": 48,
   "metadata": {},
   "outputs": [],
   "source": [
    "Months=df.Invoice_M.unique()"
   ]
  },
  {
   "cell_type": "code",
   "execution_count": 49,
   "metadata": {},
   "outputs": [
    {
     "data": {
      "image/png": "[encoded data removed]",
      "text/plain": [
       "<Figure size 720x432 with 1 Axes>"
      ]
     },
     "metadata": {
      "needs_background": "light"
     },
     "output_type": "display_data"
    }
   ],
   "source": [
    "#Average sale per month\n",
    "df.groupby('Invoice_M')['Sales'].mean().reset_index().plot(figsize=(10,6))\n",
    "plt.title('Average Sale per Month', fontsize=20)\n",
    "plt.xticks(range(0,13), Months,  rotation=20);"
   ]
  },
  {
   "cell_type": "markdown",
   "metadata": {},
   "source": [
    "\n",
    "\n",
    "## Look at Clients"
   ]
  },
  {
   "cell_type": "code",
   "execution_count": 50,
   "metadata": {},
   "outputs": [],
   "source": [
    "ClientTotSale=df.groupby(by='CustomerID')['Sales'].sum()"
   ]
  },
  {
   "cell_type": "code",
   "execution_count": 51,
   "metadata": {},
   "outputs": [
    {
     "data": {
      "text/plain": [
       "CustomerID\n",
       "12346.0       0.00\n",
       "12347.0    4310.00\n",
       "12348.0    1797.24\n",
       "12349.0    1757.55\n",
       "12350.0     334.40\n",
       "            ...   \n",
       "18280.0     180.60\n",
       "18281.0      80.82\n",
       "18282.0     176.60\n",
       "18283.0    2094.88\n",
       "18287.0    1837.28\n",
       "Name: ClientTotSales, Length: 4372, dtype: float64"
      ]
     },
     "execution_count": 51,
     "metadata": {},
     "output_type": "execute_result"
    }
   ],
   "source": [
    "ClientTotSale.rename('ClientTotSales', inplace=True)"
   ]
  },
  {
   "cell_type": "code",
   "execution_count": 52,
   "metadata": {},
   "outputs": [],
   "source": [
    "df=df.merge(ClientTotSale, left_on='CustomerID', right_index=True)"
   ]
  },
  {
   "cell_type": "code",
   "execution_count": 53,
   "metadata": {},
   "outputs": [
    {
     "data": {
      "text/plain": [
       "Index(['key_0', 'InvoiceNo', 'StockCode', 'Description', 'Quantity',\n",
       "       'UnitPrice', 'CustomerID', 'Country', 'Invoice_Date', 'Invoice_Time',\n",
       "       'Sales', 'SumDaySale', 'Invoice_Q', 'SumQSale', 'Invoice_M',\n",
       "       'SumMonthSale', 'ClientDayCumSales', 'ClientMonthCumSales',\n",
       "       'ClientQCumSales', 'ClientDaySalesPC', 'ClientMonthSalesPC',\n",
       "       'ClientQSalesPC', 'MGpct', 'ClientTotSales'],\n",
       "      dtype='object')"
      ]
     },
     "execution_count": 53,
     "metadata": {},
     "output_type": "execute_result"
    }
   ],
   "source": [
    "df.columns"
   ]
  },
  {
   "cell_type": "code",
   "execution_count": 54,
   "metadata": {},
   "outputs": [
    {
     "data": {
      "image/png": "[encoded data removed]",
      "text/plain": [
       "<Figure size 720x432 with 1 Axes>"
      ]
     },
     "metadata": {
      "needs_background": "light"
     },
     "output_type": "display_data"
    }
   ],
   "source": [
    "df[(df['ClientTotSales'] > 100) & (df['ClientTotSales'] < 25000)]['ClientTotSales'].hist(bins=31, figsize=(10,6))\n",
    "plt.title('Distribution of Total Sales per Client (Interval £100-£25000)', fontsize=15);"
   ]
  },
  {
   "cell_type": "code",
   "execution_count": 55,
   "metadata": {},
   "outputs": [
    {
     "data": {
      "text/plain": [
       "<matplotlib.axes._subplots.AxesSubplot at 0x27861985948>"
      ]
     },
     "execution_count": 55,
     "metadata": {},
     "output_type": "execute_result"
    },
    {
     "data": {
      "image/png": "[encoded data removed]",
      "text/plain": [
       "<Figure size 720x432 with 1 Axes>"
      ]
     },
     "metadata": {
      "needs_background": "light"
     },
     "output_type": "display_data"
    }
   ],
   "source": [
    "df.groupby('CustomerID')['Sales'].sum().hist(bins=41, figsize=(10,6))"
   ]
  },
  {
   "cell_type": "code",
   "execution_count": 56,
   "metadata": {},
   "outputs": [],
   "source": [
    "returns=df[df['Sales']<0][['Quantity', 'CustomerID']].sort_values(by='Quantity')"
   ]
  },
  {
   "cell_type": "code",
   "execution_count": 57,
   "metadata": {},
   "outputs": [],
   "source": [
    "returns['MultiReturns']=returns.duplicated()"
   ]
  },
  {
   "cell_type": "code",
   "execution_count": 58,
   "metadata": {},
   "outputs": [],
   "source": [
    "returns['MultiReturns'].replace([False, True], [0,1],inplace=True)"
   ]
  },
  {
   "cell_type": "code",
   "execution_count": 59,
   "metadata": {},
   "outputs": [
    {
     "data": {
      "text/plain": [
       "array([[<matplotlib.axes._subplots.AxesSubplot object at 0x00000278618E8508>]],\n",
       "      dtype=object)"
      ]
     },
     "execution_count": 59,
     "metadata": {},
     "output_type": "execute_result"
    },
    {
     "data": {
      "image/png": "[encoded data removed]",
      "text/plain": [
       "<Figure size 432x288 with 1 Axes>"
      ]
     },
     "metadata": {
      "needs_background": "light"
     },
     "output_type": "display_data"
    }
   ],
   "source": [
    "returns.hist(column='MultiReturns')"
   ]
  },
  {
   "cell_type": "code",
   "execution_count": 60,
   "metadata": {},
   "outputs": [
    {
     "data": {
      "text/html": [
       "<div>\n",
       "<style scoped>\n",
       "    .dataframe tbody tr th:only-of-type {\n",
       "        vertical-align: middle;\n",
       "    }\n",
       "\n",
       "    .dataframe tbody tr th {\n",
       "        vertical-align: top;\n",
       "    }\n",
       "\n",
       "    .dataframe thead th {\n",
       "        text-align: right;\n",
       "    }\n",
       "</style>\n",
       "<table border=\"1\" class=\"dataframe\">\n",
       "  <thead>\n",
       "    <tr style=\"text-align: right;\">\n",
       "      <th></th>\n",
       "      <th>Quantity</th>\n",
       "      <th>CustomerID</th>\n",
       "      <th>MultiReturns</th>\n",
       "    </tr>\n",
       "  </thead>\n",
       "  <tbody>\n",
       "    <tr>\n",
       "      <th>61624</th>\n",
       "      <td>-74215</td>\n",
       "      <td>12346.0</td>\n",
       "      <td>0</td>\n",
       "    </tr>\n",
       "    <tr>\n",
       "      <th>129737</th>\n",
       "      <td>-12</td>\n",
       "      <td>12352.0</td>\n",
       "      <td>1</td>\n",
       "    </tr>\n",
       "    <tr>\n",
       "      <th>129738</th>\n",
       "      <td>-12</td>\n",
       "      <td>12352.0</td>\n",
       "      <td>1</td>\n",
       "    </tr>\n",
       "    <tr>\n",
       "      <th>129741</th>\n",
       "      <td>-12</td>\n",
       "      <td>12352.0</td>\n",
       "      <td>1</td>\n",
       "    </tr>\n",
       "    <tr>\n",
       "      <th>129743</th>\n",
       "      <td>-12</td>\n",
       "      <td>12352.0</td>\n",
       "      <td>0</td>\n",
       "    </tr>\n",
       "    <tr>\n",
       "      <th>...</th>\n",
       "      <td>...</td>\n",
       "      <td>...</td>\n",
       "      <td>...</td>\n",
       "    </tr>\n",
       "    <tr>\n",
       "      <th>488517</th>\n",
       "      <td>-4</td>\n",
       "      <td>18274.0</td>\n",
       "      <td>1</td>\n",
       "    </tr>\n",
       "    <tr>\n",
       "      <th>481908</th>\n",
       "      <td>-1</td>\n",
       "      <td>18276.0</td>\n",
       "      <td>1</td>\n",
       "    </tr>\n",
       "    <tr>\n",
       "      <th>481921</th>\n",
       "      <td>-1</td>\n",
       "      <td>18276.0</td>\n",
       "      <td>0</td>\n",
       "    </tr>\n",
       "    <tr>\n",
       "      <th>70604</th>\n",
       "      <td>-1</td>\n",
       "      <td>18277.0</td>\n",
       "      <td>0</td>\n",
       "    </tr>\n",
       "    <tr>\n",
       "      <th>295686</th>\n",
       "      <td>-5</td>\n",
       "      <td>18282.0</td>\n",
       "      <td>0</td>\n",
       "    </tr>\n",
       "  </tbody>\n",
       "</table>\n",
       "<p>8905 rows × 3 columns</p>\n",
       "</div>"
      ],
      "text/plain": [
       "        Quantity  CustomerID  MultiReturns\n",
       "61624     -74215     12346.0             0\n",
       "129737       -12     12352.0             1\n",
       "129738       -12     12352.0             1\n",
       "129741       -12     12352.0             1\n",
       "129743       -12     12352.0             0\n",
       "...          ...         ...           ...\n",
       "488517        -4     18274.0             1\n",
       "481908        -1     18276.0             1\n",
       "481921        -1     18276.0             0\n",
       "70604         -1     18277.0             0\n",
       "295686        -5     18282.0             0\n",
       "\n",
       "[8905 rows x 3 columns]"
      ]
     },
     "execution_count": 60,
     "metadata": {},
     "output_type": "execute_result"
    }
   ],
   "source": [
    "returns.sort_values('CustomerID')"
   ]
  },
  {
   "cell_type": "code",
   "execution_count": 61,
   "metadata": {},
   "outputs": [
    {
     "data": {
      "text/html": [
       "<div>\n",
       "<style scoped>\n",
       "    .dataframe tbody tr th:only-of-type {\n",
       "        vertical-align: middle;\n",
       "    }\n",
       "\n",
       "    .dataframe tbody tr th {\n",
       "        vertical-align: top;\n",
       "    }\n",
       "\n",
       "    .dataframe thead th {\n",
       "        text-align: right;\n",
       "    }\n",
       "</style>\n",
       "<table border=\"1\" class=\"dataframe\">\n",
       "  <thead>\n",
       "    <tr style=\"text-align: right;\">\n",
       "      <th></th>\n",
       "      <th>CustomerID</th>\n",
       "      <th>MultiReturns</th>\n",
       "    </tr>\n",
       "  </thead>\n",
       "  <tbody>\n",
       "    <tr>\n",
       "      <th>52774</th>\n",
       "      <td>15518.0</td>\n",
       "      <td>0</td>\n",
       "    </tr>\n",
       "    <tr>\n",
       "      <th>293404</th>\n",
       "      <td>15518.0</td>\n",
       "      <td>0</td>\n",
       "    </tr>\n",
       "    <tr>\n",
       "      <th>293097</th>\n",
       "      <td>15518.0</td>\n",
       "      <td>1</td>\n",
       "    </tr>\n",
       "    <tr>\n",
       "      <th>250163</th>\n",
       "      <td>15518.0</td>\n",
       "      <td>1</td>\n",
       "    </tr>\n",
       "    <tr>\n",
       "      <th>52708</th>\n",
       "      <td>15518.0</td>\n",
       "      <td>1</td>\n",
       "    </tr>\n",
       "    <tr>\n",
       "      <th>250162</th>\n",
       "      <td>15518.0</td>\n",
       "      <td>1</td>\n",
       "    </tr>\n",
       "  </tbody>\n",
       "</table>\n",
       "</div>"
      ],
      "text/plain": [
       "        CustomerID  MultiReturns\n",
       "52774      15518.0             0\n",
       "293404     15518.0             0\n",
       "293097     15518.0             1\n",
       "250163     15518.0             1\n",
       "52708      15518.0             1\n",
       "250162     15518.0             1"
      ]
     },
     "execution_count": 61,
     "metadata": {},
     "output_type": "execute_result"
    }
   ],
   "source": [
    "returns[returns['CustomerID']==15518.0][['CustomerID', 'MultiReturns']]"
   ]
  },
  {
   "cell_type": "code",
   "execution_count": 62,
   "metadata": {},
   "outputs": [],
   "source": [
    "has_returned=returns.groupby(by='CustomerID')['MultiReturns'].sum()"
   ]
  },
  {
   "cell_type": "code",
   "execution_count": 63,
   "metadata": {},
   "outputs": [],
   "source": [
    "df=df.merge(has_returned, on ='CustomerID')"
   ]
  },
  {
   "cell_type": "code",
   "execution_count": 64,
   "metadata": {},
   "outputs": [
    {
     "data": {
      "text/plain": [
       "Index(['key_0', 'InvoiceNo', 'StockCode', 'Description', 'Quantity',\n",
       "       'UnitPrice', 'CustomerID', 'Country', 'Invoice_Date', 'Invoice_Time',\n",
       "       'Sales', 'SumDaySale', 'Invoice_Q', 'SumQSale', 'Invoice_M',\n",
       "       'SumMonthSale', 'ClientDayCumSales', 'ClientMonthCumSales',\n",
       "       'ClientQCumSales', 'ClientDaySalesPC', 'ClientMonthSalesPC',\n",
       "       'ClientQSalesPC', 'MGpct', 'ClientTotSales', 'MultiReturns'],\n",
       "      dtype='object')"
      ]
     },
     "execution_count": 64,
     "metadata": {},
     "output_type": "execute_result"
    }
   ],
   "source": [
    "df.columns"
   ]
  },
  {
   "cell_type": "code",
   "execution_count": 65,
   "metadata": {},
   "outputs": [],
   "source": [
    "Customer_FirstPurch=df.groupby('CustomerID')['Invoice_M'].min().reset_index()"
   ]
  },
  {
   "cell_type": "code",
   "execution_count": 66,
   "metadata": {},
   "outputs": [],
   "source": [
    "Customer_FirstPurch=Customer_FirstPurch.rename(columns={'Invoice_M': 'First_InvoiceM'})"
   ]
  },
  {
   "cell_type": "code",
   "execution_count": 67,
   "metadata": {},
   "outputs": [
    {
     "data": {
      "text/html": [
       "<div>\n",
       "<style scoped>\n",
       "    .dataframe tbody tr th:only-of-type {\n",
       "        vertical-align: middle;\n",
       "    }\n",
       "\n",
       "    .dataframe tbody tr th {\n",
       "        vertical-align: top;\n",
       "    }\n",
       "\n",
       "    .dataframe thead th {\n",
       "        text-align: right;\n",
       "    }\n",
       "</style>\n",
       "<table border=\"1\" class=\"dataframe\">\n",
       "  <thead>\n",
       "    <tr style=\"text-align: right;\">\n",
       "      <th></th>\n",
       "      <th>CustomerID</th>\n",
       "      <th>First_InvoiceM</th>\n",
       "    </tr>\n",
       "  </thead>\n",
       "  <tbody>\n",
       "    <tr>\n",
       "      <th>0</th>\n",
       "      <td>12346.0</td>\n",
       "      <td>2011-01</td>\n",
       "    </tr>\n",
       "    <tr>\n",
       "      <th>1</th>\n",
       "      <td>12352.0</td>\n",
       "      <td>2011-02</td>\n",
       "    </tr>\n",
       "    <tr>\n",
       "      <th>2</th>\n",
       "      <td>12359.0</td>\n",
       "      <td>2011-01</td>\n",
       "    </tr>\n",
       "    <tr>\n",
       "      <th>3</th>\n",
       "      <td>12362.0</td>\n",
       "      <td>2011-02</td>\n",
       "    </tr>\n",
       "    <tr>\n",
       "      <th>4</th>\n",
       "      <td>12365.0</td>\n",
       "      <td>2011-02</td>\n",
       "    </tr>\n",
       "    <tr>\n",
       "      <th>...</th>\n",
       "      <td>...</td>\n",
       "      <td>...</td>\n",
       "    </tr>\n",
       "    <tr>\n",
       "      <th>1584</th>\n",
       "      <td>18272.0</td>\n",
       "      <td>2011-04</td>\n",
       "    </tr>\n",
       "    <tr>\n",
       "      <th>1585</th>\n",
       "      <td>18274.0</td>\n",
       "      <td>2011-11</td>\n",
       "    </tr>\n",
       "    <tr>\n",
       "      <th>1586</th>\n",
       "      <td>18276.0</td>\n",
       "      <td>2011-10</td>\n",
       "    </tr>\n",
       "    <tr>\n",
       "      <th>1587</th>\n",
       "      <td>18277.0</td>\n",
       "      <td>2011-01</td>\n",
       "    </tr>\n",
       "    <tr>\n",
       "      <th>1588</th>\n",
       "      <td>18282.0</td>\n",
       "      <td>2011-08</td>\n",
       "    </tr>\n",
       "  </tbody>\n",
       "</table>\n",
       "<p>1589 rows × 2 columns</p>\n",
       "</div>"
      ],
      "text/plain": [
       "      CustomerID First_InvoiceM\n",
       "0        12346.0        2011-01\n",
       "1        12352.0        2011-02\n",
       "2        12359.0        2011-01\n",
       "3        12362.0        2011-02\n",
       "4        12365.0        2011-02\n",
       "...          ...            ...\n",
       "1584     18272.0        2011-04\n",
       "1585     18274.0        2011-11\n",
       "1586     18276.0        2011-10\n",
       "1587     18277.0        2011-01\n",
       "1588     18282.0        2011-08\n",
       "\n",
       "[1589 rows x 2 columns]"
      ]
     },
     "execution_count": 67,
     "metadata": {},
     "output_type": "execute_result"
    }
   ],
   "source": [
    "Customer_FirstPurch"
   ]
  },
  {
   "cell_type": "code",
   "execution_count": 68,
   "metadata": {},
   "outputs": [],
   "source": [
    "df=df.merge(Customer_FirstPurch, on ='CustomerID')"
   ]
  },
  {
   "cell_type": "code",
   "execution_count": 69,
   "metadata": {},
   "outputs": [],
   "source": [
    "df.rename({'First_InvoiceM_x': 'First_InvoiceM'}, axis=1, inplace=True)"
   ]
  },
  {
   "cell_type": "code",
   "execution_count": 70,
   "metadata": {},
   "outputs": [],
   "source": [
    "df['CustomerType'] = np.where(df['First_InvoiceM']< df['Invoice_M'], True, False)"
   ]
  },
  {
   "cell_type": "code",
   "execution_count": 71,
   "metadata": {},
   "outputs": [],
   "source": [
    "df.CustomerType.replace([True, False], ['Existing', 'New'], inplace=True)"
   ]
  },
  {
   "cell_type": "code",
   "execution_count": 73,
   "metadata": {},
   "outputs": [
    {
     "data": {
      "text/html": [
       "<div>\n",
       "<style scoped>\n",
       "    .dataframe tbody tr th:only-of-type {\n",
       "        vertical-align: middle;\n",
       "    }\n",
       "\n",
       "    .dataframe tbody tr th {\n",
       "        vertical-align: top;\n",
       "    }\n",
       "\n",
       "    .dataframe thead th {\n",
       "        text-align: right;\n",
       "    }\n",
       "</style>\n",
       "<table border=\"1\" class=\"dataframe\">\n",
       "  <thead>\n",
       "    <tr style=\"text-align: right;\">\n",
       "      <th></th>\n",
       "      <th>key_0</th>\n",
       "      <th>InvoiceNo</th>\n",
       "      <th>StockCode</th>\n",
       "      <th>Description</th>\n",
       "      <th>Quantity</th>\n",
       "      <th>UnitPrice</th>\n",
       "      <th>CustomerID</th>\n",
       "      <th>Country</th>\n",
       "      <th>Invoice_Date</th>\n",
       "      <th>Invoice_Time</th>\n",
       "      <th>...</th>\n",
       "      <th>ClientMonthCumSales</th>\n",
       "      <th>ClientQCumSales</th>\n",
       "      <th>ClientDaySalesPC</th>\n",
       "      <th>ClientMonthSalesPC</th>\n",
       "      <th>ClientQSalesPC</th>\n",
       "      <th>MGpct</th>\n",
       "      <th>ClientTotSales</th>\n",
       "      <th>MultiReturns</th>\n",
       "      <th>First_InvoiceM</th>\n",
       "      <th>CustomerType</th>\n",
       "    </tr>\n",
       "  </thead>\n",
       "  <tbody>\n",
       "    <tr>\n",
       "      <th>0</th>\n",
       "      <td>2010-12-01</td>\n",
       "      <td>536365</td>\n",
       "      <td>85123A</td>\n",
       "      <td>WHITE HANGING HEART T-LIGHT HOLDER</td>\n",
       "      <td>6</td>\n",
       "      <td>2.55</td>\n",
       "      <td>17850.0</td>\n",
       "      <td>United Kingdom</td>\n",
       "      <td>2010-12-01</td>\n",
       "      <td>08:26:00</td>\n",
       "      <td>...</td>\n",
       "      <td>5391.21</td>\n",
       "      <td>5391.21</td>\n",
       "      <td>2.557049</td>\n",
       "      <td>0.719829</td>\n",
       "      <td>0.719829</td>\n",
       "      <td>NaN</td>\n",
       "      <td>5288.63</td>\n",
       "      <td>11</td>\n",
       "      <td>2010-12</td>\n",
       "      <td>New</td>\n",
       "    </tr>\n",
       "    <tr>\n",
       "      <th>1</th>\n",
       "      <td>2010-12-01</td>\n",
       "      <td>536365</td>\n",
       "      <td>71053</td>\n",
       "      <td>WHITE METAL LANTERN</td>\n",
       "      <td>6</td>\n",
       "      <td>3.39</td>\n",
       "      <td>17850.0</td>\n",
       "      <td>United Kingdom</td>\n",
       "      <td>2010-12-01</td>\n",
       "      <td>08:26:00</td>\n",
       "      <td>...</td>\n",
       "      <td>5391.21</td>\n",
       "      <td>5391.21</td>\n",
       "      <td>2.557049</td>\n",
       "      <td>0.719829</td>\n",
       "      <td>0.719829</td>\n",
       "      <td>NaN</td>\n",
       "      <td>5288.63</td>\n",
       "      <td>11</td>\n",
       "      <td>2010-12</td>\n",
       "      <td>New</td>\n",
       "    </tr>\n",
       "    <tr>\n",
       "      <th>2</th>\n",
       "      <td>2010-12-01</td>\n",
       "      <td>536365</td>\n",
       "      <td>84406B</td>\n",
       "      <td>CREAM CUPID HEARTS COAT HANGER</td>\n",
       "      <td>8</td>\n",
       "      <td>2.75</td>\n",
       "      <td>17850.0</td>\n",
       "      <td>United Kingdom</td>\n",
       "      <td>2010-12-01</td>\n",
       "      <td>08:26:00</td>\n",
       "      <td>...</td>\n",
       "      <td>5391.21</td>\n",
       "      <td>5391.21</td>\n",
       "      <td>2.557049</td>\n",
       "      <td>0.719829</td>\n",
       "      <td>0.719829</td>\n",
       "      <td>NaN</td>\n",
       "      <td>5288.63</td>\n",
       "      <td>11</td>\n",
       "      <td>2010-12</td>\n",
       "      <td>New</td>\n",
       "    </tr>\n",
       "    <tr>\n",
       "      <th>3</th>\n",
       "      <td>2010-12-01</td>\n",
       "      <td>536365</td>\n",
       "      <td>84029G</td>\n",
       "      <td>KNITTED UNION FLAG HOT WATER BOTTLE</td>\n",
       "      <td>6</td>\n",
       "      <td>3.39</td>\n",
       "      <td>17850.0</td>\n",
       "      <td>United Kingdom</td>\n",
       "      <td>2010-12-01</td>\n",
       "      <td>08:26:00</td>\n",
       "      <td>...</td>\n",
       "      <td>5391.21</td>\n",
       "      <td>5391.21</td>\n",
       "      <td>2.557049</td>\n",
       "      <td>0.719829</td>\n",
       "      <td>0.719829</td>\n",
       "      <td>NaN</td>\n",
       "      <td>5288.63</td>\n",
       "      <td>11</td>\n",
       "      <td>2010-12</td>\n",
       "      <td>New</td>\n",
       "    </tr>\n",
       "    <tr>\n",
       "      <th>4</th>\n",
       "      <td>2010-12-01</td>\n",
       "      <td>536365</td>\n",
       "      <td>84029E</td>\n",
       "      <td>RED WOOLLY HOTTIE WHITE HEART.</td>\n",
       "      <td>6</td>\n",
       "      <td>3.39</td>\n",
       "      <td>17850.0</td>\n",
       "      <td>United Kingdom</td>\n",
       "      <td>2010-12-01</td>\n",
       "      <td>08:26:00</td>\n",
       "      <td>...</td>\n",
       "      <td>5391.21</td>\n",
       "      <td>5391.21</td>\n",
       "      <td>2.557049</td>\n",
       "      <td>0.719829</td>\n",
       "      <td>0.719829</td>\n",
       "      <td>NaN</td>\n",
       "      <td>5288.63</td>\n",
       "      <td>11</td>\n",
       "      <td>2010-12</td>\n",
       "      <td>New</td>\n",
       "    </tr>\n",
       "  </tbody>\n",
       "</table>\n",
       "<p>5 rows × 27 columns</p>\n",
       "</div>"
      ],
      "text/plain": [
       "       key_0 InvoiceNo StockCode                          Description  \\\n",
       "0 2010-12-01    536365    85123A   WHITE HANGING HEART T-LIGHT HOLDER   \n",
       "1 2010-12-01    536365     71053                  WHITE METAL LANTERN   \n",
       "2 2010-12-01    536365    84406B       CREAM CUPID HEARTS COAT HANGER   \n",
       "3 2010-12-01    536365    84029G  KNITTED UNION FLAG HOT WATER BOTTLE   \n",
       "4 2010-12-01    536365    84029E       RED WOOLLY HOTTIE WHITE HEART.   \n",
       "\n",
       "   Quantity  UnitPrice  CustomerID         Country Invoice_Date Invoice_Time  \\\n",
       "0         6       2.55     17850.0  United Kingdom   2010-12-01     08:26:00   \n",
       "1         6       3.39     17850.0  United Kingdom   2010-12-01     08:26:00   \n",
       "2         8       2.75     17850.0  United Kingdom   2010-12-01     08:26:00   \n",
       "3         6       3.39     17850.0  United Kingdom   2010-12-01     08:26:00   \n",
       "4         6       3.39     17850.0  United Kingdom   2010-12-01     08:26:00   \n",
       "\n",
       "   ...  ClientMonthCumSales  ClientQCumSales ClientDaySalesPC  \\\n",
       "0  ...              5391.21          5391.21         2.557049   \n",
       "1  ...              5391.21          5391.21         2.557049   \n",
       "2  ...              5391.21          5391.21         2.557049   \n",
       "3  ...              5391.21          5391.21         2.557049   \n",
       "4  ...              5391.21          5391.21         2.557049   \n",
       "\n",
       "   ClientMonthSalesPC ClientQSalesPC  MGpct  ClientTotSales  MultiReturns  \\\n",
       "0            0.719829       0.719829    NaN         5288.63            11   \n",
       "1            0.719829       0.719829    NaN         5288.63            11   \n",
       "2            0.719829       0.719829    NaN         5288.63            11   \n",
       "3            0.719829       0.719829    NaN         5288.63            11   \n",
       "4            0.719829       0.719829    NaN         5288.63            11   \n",
       "\n",
       "   First_InvoiceM  CustomerType  \n",
       "0         2010-12           New  \n",
       "1         2010-12           New  \n",
       "2         2010-12           New  \n",
       "3         2010-12           New  \n",
       "4         2010-12           New  \n",
       "\n",
       "[5 rows x 27 columns]"
      ]
     },
     "execution_count": 73,
     "metadata": {},
     "output_type": "execute_result"
    }
   ],
   "source": [
    "df.head()"
   ]
  },
  {
   "cell_type": "code",
   "execution_count": 74,
   "metadata": {},
   "outputs": [],
   "source": [
    "DF_CType=df.groupby(['Invoice_M', 'CustomerType'])['Sales'].sum().reset_index()"
   ]
  },
  {
   "cell_type": "code",
   "execution_count": 75,
   "metadata": {},
   "outputs": [],
   "source": [
    "DF_CType.Invoice_M=DF_CType.Invoice_M.astype('string')"
   ]
  },
  {
   "cell_type": "code",
   "execution_count": 76,
   "metadata": {},
   "outputs": [],
   "source": [
    "DF_CustType_Red=DF_CType[DF_CType['Invoice_M']>'2010-12']"
   ]
  },
  {
   "cell_type": "code",
   "execution_count": 77,
   "metadata": {},
   "outputs": [],
   "source": [
    "DF_CustType_Red=DF_CustType_Red[DF_CustType_Red['Invoice_M']<'2011-12']"
   ]
  },
  {
   "cell_type": "code",
   "execution_count": 78,
   "metadata": {},
   "outputs": [
    {
     "data": {
      "text/plain": [
       "<matplotlib.axes._subplots.AxesSubplot at 0x278619b8308>"
      ]
     },
     "execution_count": 78,
     "metadata": {},
     "output_type": "execute_result"
    },
    {
     "data": {
      "image/png": "[encoded data removed]",
      "text/plain": [
       "<Figure size 864x360 with 1 Axes>"
      ]
     },
     "metadata": {
      "needs_background": "light"
     },
     "output_type": "display_data"
    }
   ],
   "source": [
    "plt.figure(figsize=(12,5))\n",
    "sns.lineplot(data=DF_CustType_Red, x=\"Invoice_M\", y=\"Sales\", hue=\"CustomerType\")"
   ]
  },
  {
   "cell_type": "code",
   "execution_count": 79,
   "metadata": {},
   "outputs": [
    {
     "data": {
      "text/plain": [
       "Index(['key_0', 'InvoiceNo', 'StockCode', 'Description', 'Quantity',\n",
       "       'UnitPrice', 'CustomerID', 'Country', 'Invoice_Date', 'Invoice_Time',\n",
       "       'Sales', 'SumDaySale', 'Invoice_Q', 'SumQSale', 'Invoice_M',\n",
       "       'SumMonthSale', 'ClientDayCumSales', 'ClientMonthCumSales',\n",
       "       'ClientQCumSales', 'ClientDaySalesPC', 'ClientMonthSalesPC',\n",
       "       'ClientQSalesPC', 'MGpct', 'ClientTotSales', 'MultiReturns',\n",
       "       'First_InvoiceM', 'CustomerType'],\n",
       "      dtype='object')"
      ]
     },
     "execution_count": 79,
     "metadata": {},
     "output_type": "execute_result"
    }
   ],
   "source": [
    "df.columns"
   ]
  },
  {
   "cell_type": "code",
   "execution_count": 80,
   "metadata": {},
   "outputs": [
    {
     "data": {
      "text/plain": [
       "2287.9733696295903"
      ]
     },
     "execution_count": 80,
     "metadata": {},
     "output_type": "execute_result"
    }
   ],
   "source": [
    "df['ClientMonthCumSales'].mean()"
   ]
  },
  {
   "cell_type": "code",
   "execution_count": 81,
   "metadata": {},
   "outputs": [],
   "source": [
    "df['ActiveMonth'] = np.where(df['ClientMonthCumSales'] > 0, 1,0)"
   ]
  },
  {
   "cell_type": "code",
   "execution_count": 82,
   "metadata": {},
   "outputs": [],
   "source": [
    "MActive=df.loc[df['ActiveMonth']== 1][['Invoice_M','CustomerID', 'ClientMonthCumSales' ]]"
   ]
  },
  {
   "cell_type": "code",
   "execution_count": 83,
   "metadata": {},
   "outputs": [
    {
     "data": {
      "text/plain": [
       "Invoice_M\n",
       "2010-12    475\n",
       "2011-01    440\n",
       "2011-02    438\n",
       "2011-03    524\n",
       "2011-04    479\n",
       "2011-05    615\n",
       "2011-06    569\n",
       "2011-07    515\n",
       "2011-08    525\n",
       "2011-09    654\n",
       "2011-10    655\n",
       "2011-11    798\n",
       "2011-12    344\n",
       "Freq: M, Name: ActiveCustomer_M, dtype: int64"
      ]
     },
     "execution_count": 83,
     "metadata": {},
     "output_type": "execute_result"
    }
   ],
   "source": [
    "active_monthly=MActive.groupby('Invoice_M')['CustomerID'].nunique()\n",
    "active_monthly.rename('ActiveCustomer_M', inplace=True)"
   ]
  },
  {
   "cell_type": "code",
   "execution_count": 84,
   "metadata": {
    "scrolled": true
   },
   "outputs": [
    {
     "data": {
      "image/png": "[encoded data removed]",
      "text/plain": [
       "<Figure size 720x288 with 1 Axes>"
      ]
     },
     "metadata": {
      "needs_background": "light"
     },
     "output_type": "display_data"
    }
   ],
   "source": [
    "active_monthly.plot(x='Invoice_M',  y='ActiveCustomer_M', kind='bar', rot=30, figsize=(10,4))\n",
    "plt.title('Number of customers active each month', fontsize=15);"
   ]
  },
  {
   "cell_type": "code",
   "execution_count": 85,
   "metadata": {},
   "outputs": [
    {
     "data": {
      "image/png": "[encoded data removed]",
      "text/plain": [
       "<Figure size 720x288 with 1 Axes>"
      ]
     },
     "metadata": {
      "needs_background": "light"
     },
     "output_type": "display_data"
    }
   ],
   "source": [
    "df.groupby('Invoice_M')[['Sales']].mean().plot(kind='bar', figsize=(10,4), rot=30)\n",
    "plt.title('Average Sales by month', fontsize=15);"
   ]
  },
  {
   "cell_type": "markdown",
   "metadata": {},
   "source": [
    "## Retention Rate"
   ]
  },
  {
   "cell_type": "code",
   "execution_count": 86,
   "metadata": {},
   "outputs": [],
   "source": [
    "dfRet=df.groupby(['CustomerID', 'Invoice_M'])['Sales'].sum().reset_index()"
   ]
  },
  {
   "cell_type": "code",
   "execution_count": 87,
   "metadata": {},
   "outputs": [
    {
     "data": {
      "text/html": [
       "<div>\n",
       "<style scoped>\n",
       "    .dataframe tbody tr th:only-of-type {\n",
       "        vertical-align: middle;\n",
       "    }\n",
       "\n",
       "    .dataframe tbody tr th {\n",
       "        vertical-align: top;\n",
       "    }\n",
       "\n",
       "    .dataframe thead th {\n",
       "        text-align: right;\n",
       "    }\n",
       "</style>\n",
       "<table border=\"1\" class=\"dataframe\">\n",
       "  <thead>\n",
       "    <tr style=\"text-align: right;\">\n",
       "      <th></th>\n",
       "      <th>CustomerID</th>\n",
       "      <th>Invoice_M</th>\n",
       "      <th>Sales</th>\n",
       "    </tr>\n",
       "  </thead>\n",
       "  <tbody>\n",
       "    <tr>\n",
       "      <th>0</th>\n",
       "      <td>12346.0</td>\n",
       "      <td>2011-01</td>\n",
       "      <td>0.00</td>\n",
       "    </tr>\n",
       "    <tr>\n",
       "      <th>1</th>\n",
       "      <td>12352.0</td>\n",
       "      <td>2011-02</td>\n",
       "      <td>296.50</td>\n",
       "    </tr>\n",
       "    <tr>\n",
       "      <th>2</th>\n",
       "      <td>12352.0</td>\n",
       "      <td>2011-03</td>\n",
       "      <td>304.68</td>\n",
       "    </tr>\n",
       "    <tr>\n",
       "      <th>3</th>\n",
       "      <td>12352.0</td>\n",
       "      <td>2011-09</td>\n",
       "      <td>632.50</td>\n",
       "    </tr>\n",
       "    <tr>\n",
       "      <th>4</th>\n",
       "      <td>12352.0</td>\n",
       "      <td>2011-11</td>\n",
       "      <td>311.73</td>\n",
       "    </tr>\n",
       "    <tr>\n",
       "      <th>...</th>\n",
       "      <td>...</td>\n",
       "      <td>...</td>\n",
       "      <td>...</td>\n",
       "    </tr>\n",
       "    <tr>\n",
       "      <th>7715</th>\n",
       "      <td>18276.0</td>\n",
       "      <td>2011-11</td>\n",
       "      <td>-12.50</td>\n",
       "    </tr>\n",
       "    <tr>\n",
       "      <th>7716</th>\n",
       "      <td>18277.0</td>\n",
       "      <td>2011-01</td>\n",
       "      <td>-12.75</td>\n",
       "    </tr>\n",
       "    <tr>\n",
       "      <th>7717</th>\n",
       "      <td>18277.0</td>\n",
       "      <td>2011-10</td>\n",
       "      <td>110.38</td>\n",
       "    </tr>\n",
       "    <tr>\n",
       "      <th>7718</th>\n",
       "      <td>18282.0</td>\n",
       "      <td>2011-08</td>\n",
       "      <td>98.76</td>\n",
       "    </tr>\n",
       "    <tr>\n",
       "      <th>7719</th>\n",
       "      <td>18282.0</td>\n",
       "      <td>2011-12</td>\n",
       "      <td>77.84</td>\n",
       "    </tr>\n",
       "  </tbody>\n",
       "</table>\n",
       "<p>7720 rows × 3 columns</p>\n",
       "</div>"
      ],
      "text/plain": [
       "      CustomerID Invoice_M   Sales\n",
       "0        12346.0   2011-01    0.00\n",
       "1        12352.0   2011-02  296.50\n",
       "2        12352.0   2011-03  304.68\n",
       "3        12352.0   2011-09  632.50\n",
       "4        12352.0   2011-11  311.73\n",
       "...          ...       ...     ...\n",
       "7715     18276.0   2011-11  -12.50\n",
       "7716     18277.0   2011-01  -12.75\n",
       "7717     18277.0   2011-10  110.38\n",
       "7718     18282.0   2011-08   98.76\n",
       "7719     18282.0   2011-12   77.84\n",
       "\n",
       "[7720 rows x 3 columns]"
      ]
     },
     "execution_count": 87,
     "metadata": {},
     "output_type": "execute_result"
    }
   ],
   "source": [
    "dfRet"
   ]
  },
  {
   "cell_type": "code",
   "execution_count": 88,
   "metadata": {},
   "outputs": [],
   "source": [
    "months=df.Invoice_M.drop_duplicates().reset_index()"
   ]
  },
  {
   "cell_type": "code",
   "execution_count": 89,
   "metadata": {},
   "outputs": [],
   "source": [
    "months=months.sort_values(by='Invoice_M').reset_index()"
   ]
  },
  {
   "cell_type": "code",
   "execution_count": 90,
   "metadata": {},
   "outputs": [],
   "source": [
    "months_c=months.Invoice_M"
   ]
  },
  {
   "cell_type": "code",
   "execution_count": 91,
   "metadata": {},
   "outputs": [
    {
     "data": {
      "text/html": [
       "<div>\n",
       "<style scoped>\n",
       "    .dataframe tbody tr th:only-of-type {\n",
       "        vertical-align: middle;\n",
       "    }\n",
       "\n",
       "    .dataframe tbody tr th {\n",
       "        vertical-align: top;\n",
       "    }\n",
       "\n",
       "    .dataframe thead th {\n",
       "        text-align: right;\n",
       "    }\n",
       "</style>\n",
       "<table border=\"1\" class=\"dataframe\">\n",
       "  <thead>\n",
       "    <tr style=\"text-align: right;\">\n",
       "      <th></th>\n",
       "      <th>level_0</th>\n",
       "      <th>index</th>\n",
       "      <th>Invoice_M</th>\n",
       "    </tr>\n",
       "  </thead>\n",
       "  <tbody>\n",
       "    <tr>\n",
       "      <th>0</th>\n",
       "      <td>0</td>\n",
       "      <td>0</td>\n",
       "      <td>2010-12</td>\n",
       "    </tr>\n",
       "    <tr>\n",
       "      <th>1</th>\n",
       "      <td>2</td>\n",
       "      <td>329</td>\n",
       "      <td>2011-01</td>\n",
       "    </tr>\n",
       "    <tr>\n",
       "      <th>2</th>\n",
       "      <td>1</td>\n",
       "      <td>297</td>\n",
       "      <td>2011-02</td>\n",
       "    </tr>\n",
       "    <tr>\n",
       "      <th>3</th>\n",
       "      <td>3</td>\n",
       "      <td>356</td>\n",
       "      <td>2011-03</td>\n",
       "    </tr>\n",
       "    <tr>\n",
       "      <th>4</th>\n",
       "      <td>12</td>\n",
       "      <td>820</td>\n",
       "      <td>2011-04</td>\n",
       "    </tr>\n",
       "    <tr>\n",
       "      <th>5</th>\n",
       "      <td>4</td>\n",
       "      <td>379</td>\n",
       "      <td>2011-05</td>\n",
       "    </tr>\n",
       "    <tr>\n",
       "      <th>6</th>\n",
       "      <td>5</td>\n",
       "      <td>398</td>\n",
       "      <td>2011-06</td>\n",
       "    </tr>\n",
       "    <tr>\n",
       "      <th>7</th>\n",
       "      <td>6</td>\n",
       "      <td>432</td>\n",
       "      <td>2011-07</td>\n",
       "    </tr>\n",
       "    <tr>\n",
       "      <th>8</th>\n",
       "      <td>7</td>\n",
       "      <td>443</td>\n",
       "      <td>2011-08</td>\n",
       "    </tr>\n",
       "    <tr>\n",
       "      <th>9</th>\n",
       "      <td>10</td>\n",
       "      <td>655</td>\n",
       "      <td>2011-09</td>\n",
       "    </tr>\n",
       "    <tr>\n",
       "      <th>10</th>\n",
       "      <td>8</td>\n",
       "      <td>471</td>\n",
       "      <td>2011-10</td>\n",
       "    </tr>\n",
       "    <tr>\n",
       "      <th>11</th>\n",
       "      <td>9</td>\n",
       "      <td>506</td>\n",
       "      <td>2011-11</td>\n",
       "    </tr>\n",
       "    <tr>\n",
       "      <th>12</th>\n",
       "      <td>11</td>\n",
       "      <td>740</td>\n",
       "      <td>2011-12</td>\n",
       "    </tr>\n",
       "  </tbody>\n",
       "</table>\n",
       "</div>"
      ],
      "text/plain": [
       "    level_0  index Invoice_M\n",
       "0         0      0   2010-12\n",
       "1         2    329   2011-01\n",
       "2         1    297   2011-02\n",
       "3         3    356   2011-03\n",
       "4        12    820   2011-04\n",
       "5         4    379   2011-05\n",
       "6         5    398   2011-06\n",
       "7         6    432   2011-07\n",
       "8         7    443   2011-08\n",
       "9        10    655   2011-09\n",
       "10        8    471   2011-10\n",
       "11        9    506   2011-11\n",
       "12       11    740   2011-12"
      ]
     },
     "execution_count": 91,
     "metadata": {},
     "output_type": "execute_result"
    }
   ],
   "source": [
    "months"
   ]
  },
  {
   "cell_type": "code",
   "execution_count": 92,
   "metadata": {},
   "outputs": [],
   "source": [
    "retained_customers=[]\n",
    "tot_customers=[]\n",
    "for i in range(len(months_c)-1):\n",
    "    month=months_c[i+1]\n",
    "    prev_month=months_c[i]\n",
    "    clients=df[df['Invoice_M']==months_c[i+1]]['CustomerID'].unique()\n",
    "    clients_prev=df[df['Invoice_M']==months_c[i]]['CustomerID'].unique()\n",
    "    ret_clients=len([client for client in clients if client in clients_prev ])\n",
    "    retained_customers.append(ret_clients)\n",
    "    tot_customers.append(len(clients))"
   ]
  },
  {
   "cell_type": "code",
   "execution_count": 93,
   "metadata": {},
   "outputs": [
    {
     "data": {
      "text/plain": [
       "[283, 243, 275, 282, 304, 363, 319, 319, 331, 390, 466, 324]"
      ]
     },
     "execution_count": 93,
     "metadata": {},
     "output_type": "execute_result"
    }
   ],
   "source": [
    "retained_customers"
   ]
  },
  {
   "cell_type": "code",
   "execution_count": 94,
   "metadata": {},
   "outputs": [
    {
     "data": {
      "text/plain": [
       "[487, 483, 576, 528, 642, 634, 566, 575, 694, 724, 850, 419]"
      ]
     },
     "execution_count": 94,
     "metadata": {},
     "output_type": "execute_result"
    }
   ],
   "source": [
    "tot_customers"
   ]
  },
  {
   "cell_type": "code",
   "execution_count": 95,
   "metadata": {},
   "outputs": [
    {
     "data": {
      "text/plain": [
       "419"
      ]
     },
     "execution_count": 95,
     "metadata": {},
     "output_type": "execute_result"
    }
   ],
   "source": [
    "len(df[df['Invoice_M']=='2011-12']['CustomerID'].unique())"
   ]
  },
  {
   "cell_type": "code",
   "execution_count": 96,
   "metadata": {},
   "outputs": [],
   "source": [
    "Retention=[]\n",
    "for item1, item2 in zip(retained_customers, tot_customers):\n",
    "    RR= (item1/item2)\n",
    "    Retention.append(RR)"
   ]
  },
  {
   "cell_type": "code",
   "execution_count": 97,
   "metadata": {},
   "outputs": [],
   "source": [
    "Retention=Retention[0:11]"
   ]
  },
  {
   "cell_type": "code",
   "execution_count": 98,
   "metadata": {},
   "outputs": [
    {
     "data": {
      "text/plain": [
       "[0.5811088295687885,\n",
       " 0.5031055900621118,\n",
       " 0.4774305555555556,\n",
       " 0.5340909090909091,\n",
       " 0.4735202492211838,\n",
       " 0.5725552050473186,\n",
       " 0.5636042402826855,\n",
       " 0.5547826086956522,\n",
       " 0.4769452449567723,\n",
       " 0.5386740331491713,\n",
       " 0.548235294117647]"
      ]
     },
     "execution_count": 98,
     "metadata": {},
     "output_type": "execute_result"
    }
   ],
   "source": [
    "Retention"
   ]
  },
  {
   "cell_type": "code",
   "execution_count": 99,
   "metadata": {},
   "outputs": [],
   "source": [
    "months_c.drop(labels=[0,12], inplace=True)"
   ]
  },
  {
   "cell_type": "code",
   "execution_count": 100,
   "metadata": {},
   "outputs": [],
   "source": [
    "RR=pd.DataFrame({'Invoice_M': months_c,\n",
    "              'RetentionRate': Retention})"
   ]
  },
  {
   "cell_type": "code",
   "execution_count": 101,
   "metadata": {},
   "outputs": [
    {
     "data": {
      "text/html": [
       "<div>\n",
       "<style scoped>\n",
       "    .dataframe tbody tr th:only-of-type {\n",
       "        vertical-align: middle;\n",
       "    }\n",
       "\n",
       "    .dataframe tbody tr th {\n",
       "        vertical-align: top;\n",
       "    }\n",
       "\n",
       "    .dataframe thead th {\n",
       "        text-align: right;\n",
       "    }\n",
       "</style>\n",
       "<table border=\"1\" class=\"dataframe\">\n",
       "  <thead>\n",
       "    <tr style=\"text-align: right;\">\n",
       "      <th></th>\n",
       "      <th>Invoice_M</th>\n",
       "      <th>RetentionRate</th>\n",
       "    </tr>\n",
       "  </thead>\n",
       "  <tbody>\n",
       "    <tr>\n",
       "      <th>1</th>\n",
       "      <td>2011-01</td>\n",
       "      <td>0.581109</td>\n",
       "    </tr>\n",
       "    <tr>\n",
       "      <th>2</th>\n",
       "      <td>2011-02</td>\n",
       "      <td>0.503106</td>\n",
       "    </tr>\n",
       "    <tr>\n",
       "      <th>3</th>\n",
       "      <td>2011-03</td>\n",
       "      <td>0.477431</td>\n",
       "    </tr>\n",
       "    <tr>\n",
       "      <th>4</th>\n",
       "      <td>2011-04</td>\n",
       "      <td>0.534091</td>\n",
       "    </tr>\n",
       "    <tr>\n",
       "      <th>5</th>\n",
       "      <td>2011-05</td>\n",
       "      <td>0.473520</td>\n",
       "    </tr>\n",
       "    <tr>\n",
       "      <th>6</th>\n",
       "      <td>2011-06</td>\n",
       "      <td>0.572555</td>\n",
       "    </tr>\n",
       "    <tr>\n",
       "      <th>7</th>\n",
       "      <td>2011-07</td>\n",
       "      <td>0.563604</td>\n",
       "    </tr>\n",
       "    <tr>\n",
       "      <th>8</th>\n",
       "      <td>2011-08</td>\n",
       "      <td>0.554783</td>\n",
       "    </tr>\n",
       "    <tr>\n",
       "      <th>9</th>\n",
       "      <td>2011-09</td>\n",
       "      <td>0.476945</td>\n",
       "    </tr>\n",
       "    <tr>\n",
       "      <th>10</th>\n",
       "      <td>2011-10</td>\n",
       "      <td>0.538674</td>\n",
       "    </tr>\n",
       "    <tr>\n",
       "      <th>11</th>\n",
       "      <td>2011-11</td>\n",
       "      <td>0.548235</td>\n",
       "    </tr>\n",
       "  </tbody>\n",
       "</table>\n",
       "</div>"
      ],
      "text/plain": [
       "   Invoice_M  RetentionRate\n",
       "1    2011-01       0.581109\n",
       "2    2011-02       0.503106\n",
       "3    2011-03       0.477431\n",
       "4    2011-04       0.534091\n",
       "5    2011-05       0.473520\n",
       "6    2011-06       0.572555\n",
       "7    2011-07       0.563604\n",
       "8    2011-08       0.554783\n",
       "9    2011-09       0.476945\n",
       "10   2011-10       0.538674\n",
       "11   2011-11       0.548235"
      ]
     },
     "execution_count": 101,
     "metadata": {},
     "output_type": "execute_result"
    }
   ],
   "source": [
    "RR"
   ]
  },
  {
   "cell_type": "code",
   "execution_count": 102,
   "metadata": {},
   "outputs": [
    {
     "data": {
      "text/plain": [
       "<matplotlib.axes._subplots.AxesSubplot at 0x27861a2f3c8>"
      ]
     },
     "execution_count": 102,
     "metadata": {},
     "output_type": "execute_result"
    },
    {
     "data": {
      "image/png": "[encoded data removed]",
      "text/plain": [
       "<Figure size 864x432 with 1 Axes>"
      ]
     },
     "metadata": {
      "needs_background": "light"
     },
     "output_type": "display_data"
    }
   ],
   "source": [
    "RR.RetentionRate.plot(figsize=(12,6))"
   ]
  },
  {
   "cell_type": "code",
   "execution_count": 103,
   "metadata": {},
   "outputs": [
    {
     "data": {
      "text/html": [
       "<div>\n",
       "<style scoped>\n",
       "    .dataframe tbody tr th:only-of-type {\n",
       "        vertical-align: middle;\n",
       "    }\n",
       "\n",
       "    .dataframe tbody tr th {\n",
       "        vertical-align: top;\n",
       "    }\n",
       "\n",
       "    .dataframe thead th {\n",
       "        text-align: right;\n",
       "    }\n",
       "</style>\n",
       "<table border=\"1\" class=\"dataframe\">\n",
       "  <thead>\n",
       "    <tr style=\"text-align: right;\">\n",
       "      <th>Invoice_M</th>\n",
       "      <th>CustomerID</th>\n",
       "      <th>2010-12</th>\n",
       "      <th>2011-01</th>\n",
       "      <th>2011-02</th>\n",
       "      <th>2011-03</th>\n",
       "      <th>2011-04</th>\n",
       "      <th>2011-05</th>\n",
       "      <th>2011-06</th>\n",
       "      <th>2011-07</th>\n",
       "      <th>2011-08</th>\n",
       "      <th>2011-09</th>\n",
       "      <th>2011-10</th>\n",
       "      <th>2011-11</th>\n",
       "      <th>2011-12</th>\n",
       "    </tr>\n",
       "  </thead>\n",
       "  <tbody>\n",
       "    <tr>\n",
       "      <th>0</th>\n",
       "      <td>12346.0</td>\n",
       "      <td>0</td>\n",
       "      <td>2</td>\n",
       "      <td>0</td>\n",
       "      <td>0</td>\n",
       "      <td>0</td>\n",
       "      <td>0</td>\n",
       "      <td>0</td>\n",
       "      <td>0</td>\n",
       "      <td>0</td>\n",
       "      <td>0</td>\n",
       "      <td>0</td>\n",
       "      <td>0</td>\n",
       "      <td>0</td>\n",
       "    </tr>\n",
       "    <tr>\n",
       "      <th>1</th>\n",
       "      <td>12352.0</td>\n",
       "      <td>0</td>\n",
       "      <td>0</td>\n",
       "      <td>15</td>\n",
       "      <td>33</td>\n",
       "      <td>0</td>\n",
       "      <td>0</td>\n",
       "      <td>0</td>\n",
       "      <td>0</td>\n",
       "      <td>0</td>\n",
       "      <td>32</td>\n",
       "      <td>0</td>\n",
       "      <td>15</td>\n",
       "      <td>0</td>\n",
       "    </tr>\n",
       "    <tr>\n",
       "      <th>2</th>\n",
       "      <td>12359.0</td>\n",
       "      <td>0</td>\n",
       "      <td>16</td>\n",
       "      <td>80</td>\n",
       "      <td>0</td>\n",
       "      <td>2</td>\n",
       "      <td>0</td>\n",
       "      <td>47</td>\n",
       "      <td>0</td>\n",
       "      <td>0</td>\n",
       "      <td>0</td>\n",
       "      <td>105</td>\n",
       "      <td>0</td>\n",
       "      <td>4</td>\n",
       "    </tr>\n",
       "    <tr>\n",
       "      <th>3</th>\n",
       "      <td>12362.0</td>\n",
       "      <td>0</td>\n",
       "      <td>0</td>\n",
       "      <td>29</td>\n",
       "      <td>0</td>\n",
       "      <td>29</td>\n",
       "      <td>0</td>\n",
       "      <td>0</td>\n",
       "      <td>19</td>\n",
       "      <td>33</td>\n",
       "      <td>40</td>\n",
       "      <td>75</td>\n",
       "      <td>19</td>\n",
       "      <td>30</td>\n",
       "    </tr>\n",
       "    <tr>\n",
       "      <th>4</th>\n",
       "      <td>12365.0</td>\n",
       "      <td>0</td>\n",
       "      <td>0</td>\n",
       "      <td>23</td>\n",
       "      <td>0</td>\n",
       "      <td>0</td>\n",
       "      <td>0</td>\n",
       "      <td>0</td>\n",
       "      <td>0</td>\n",
       "      <td>0</td>\n",
       "      <td>0</td>\n",
       "      <td>0</td>\n",
       "      <td>0</td>\n",
       "      <td>0</td>\n",
       "    </tr>\n",
       "    <tr>\n",
       "      <th>...</th>\n",
       "      <td>...</td>\n",
       "      <td>...</td>\n",
       "      <td>...</td>\n",
       "      <td>...</td>\n",
       "      <td>...</td>\n",
       "      <td>...</td>\n",
       "      <td>...</td>\n",
       "      <td>...</td>\n",
       "      <td>...</td>\n",
       "      <td>...</td>\n",
       "      <td>...</td>\n",
       "      <td>...</td>\n",
       "      <td>...</td>\n",
       "      <td>...</td>\n",
       "    </tr>\n",
       "    <tr>\n",
       "      <th>1584</th>\n",
       "      <td>18272.0</td>\n",
       "      <td>0</td>\n",
       "      <td>0</td>\n",
       "      <td>0</td>\n",
       "      <td>0</td>\n",
       "      <td>55</td>\n",
       "      <td>4</td>\n",
       "      <td>0</td>\n",
       "      <td>37</td>\n",
       "      <td>22</td>\n",
       "      <td>0</td>\n",
       "      <td>29</td>\n",
       "      <td>0</td>\n",
       "      <td>23</td>\n",
       "    </tr>\n",
       "    <tr>\n",
       "      <th>1585</th>\n",
       "      <td>18274.0</td>\n",
       "      <td>0</td>\n",
       "      <td>0</td>\n",
       "      <td>0</td>\n",
       "      <td>0</td>\n",
       "      <td>0</td>\n",
       "      <td>0</td>\n",
       "      <td>0</td>\n",
       "      <td>0</td>\n",
       "      <td>0</td>\n",
       "      <td>0</td>\n",
       "      <td>0</td>\n",
       "      <td>22</td>\n",
       "      <td>0</td>\n",
       "    </tr>\n",
       "    <tr>\n",
       "      <th>1586</th>\n",
       "      <td>18276.0</td>\n",
       "      <td>0</td>\n",
       "      <td>0</td>\n",
       "      <td>0</td>\n",
       "      <td>0</td>\n",
       "      <td>0</td>\n",
       "      <td>0</td>\n",
       "      <td>0</td>\n",
       "      <td>0</td>\n",
       "      <td>0</td>\n",
       "      <td>0</td>\n",
       "      <td>14</td>\n",
       "      <td>2</td>\n",
       "      <td>0</td>\n",
       "    </tr>\n",
       "    <tr>\n",
       "      <th>1587</th>\n",
       "      <td>18277.0</td>\n",
       "      <td>0</td>\n",
       "      <td>1</td>\n",
       "      <td>0</td>\n",
       "      <td>0</td>\n",
       "      <td>0</td>\n",
       "      <td>0</td>\n",
       "      <td>0</td>\n",
       "      <td>0</td>\n",
       "      <td>0</td>\n",
       "      <td>0</td>\n",
       "      <td>8</td>\n",
       "      <td>0</td>\n",
       "      <td>0</td>\n",
       "    </tr>\n",
       "    <tr>\n",
       "      <th>1588</th>\n",
       "      <td>18282.0</td>\n",
       "      <td>0</td>\n",
       "      <td>0</td>\n",
       "      <td>0</td>\n",
       "      <td>0</td>\n",
       "      <td>0</td>\n",
       "      <td>0</td>\n",
       "      <td>0</td>\n",
       "      <td>0</td>\n",
       "      <td>8</td>\n",
       "      <td>0</td>\n",
       "      <td>0</td>\n",
       "      <td>0</td>\n",
       "      <td>5</td>\n",
       "    </tr>\n",
       "  </tbody>\n",
       "</table>\n",
       "<p>1589 rows × 14 columns</p>\n",
       "</div>"
      ],
      "text/plain": [
       "Invoice_M  CustomerID  2010-12  2011-01  2011-02  2011-03  2011-04  2011-05  \\\n",
       "0             12346.0        0        2        0        0        0        0   \n",
       "1             12352.0        0        0       15       33        0        0   \n",
       "2             12359.0        0       16       80        0        2        0   \n",
       "3             12362.0        0        0       29        0       29        0   \n",
       "4             12365.0        0        0       23        0        0        0   \n",
       "...               ...      ...      ...      ...      ...      ...      ...   \n",
       "1584          18272.0        0        0        0        0       55        4   \n",
       "1585          18274.0        0        0        0        0        0        0   \n",
       "1586          18276.0        0        0        0        0        0        0   \n",
       "1587          18277.0        0        1        0        0        0        0   \n",
       "1588          18282.0        0        0        0        0        0        0   \n",
       "\n",
       "Invoice_M  2011-06  2011-07  2011-08  2011-09  2011-10  2011-11  2011-12  \n",
       "0                0        0        0        0        0        0        0  \n",
       "1                0        0        0       32        0       15        0  \n",
       "2               47        0        0        0      105        0        4  \n",
       "3                0       19       33       40       75       19       30  \n",
       "4                0        0        0        0        0        0        0  \n",
       "...            ...      ...      ...      ...      ...      ...      ...  \n",
       "1584             0       37       22        0       29        0       23  \n",
       "1585             0        0        0        0        0       22        0  \n",
       "1586             0        0        0        0       14        2        0  \n",
       "1587             0        0        0        0        8        0        0  \n",
       "1588             0        0        8        0        0        0        5  \n",
       "\n",
       "[1589 rows x 14 columns]"
      ]
     },
     "execution_count": 103,
     "metadata": {},
     "output_type": "execute_result"
    }
   ],
   "source": [
    "##Retention table: which customers are active every month\n",
    "pd.crosstab(df.CustomerID, df.Invoice_M).reset_index()"
   ]
  },
  {
   "cell_type": "markdown",
   "metadata": {},
   "source": [
    "## Recency - Frequency - Monetary Value (RFM)"
   ]
  },
  {
   "cell_type": "markdown",
   "metadata": {},
   "source": [
    "### Recency: how many days the customers are inactive"
   ]
  },
  {
   "cell_type": "code",
   "execution_count": 104,
   "metadata": {},
   "outputs": [],
   "source": [
    "RFM=df.groupby('CustomerID')['Invoice_Date'].max().reset_index()"
   ]
  },
  {
   "cell_type": "code",
   "execution_count": 105,
   "metadata": {},
   "outputs": [],
   "source": [
    "RFM.rename({'Invoice_Date':'InvoiceDateMax'},axis=1, inplace=True)"
   ]
  },
  {
   "cell_type": "code",
   "execution_count": 106,
   "metadata": {},
   "outputs": [],
   "source": [
    "RFM['Recency']=(RFM['InvoiceDateMax'].max()-RFM['InvoiceDateMax']).dt.days"
   ]
  },
  {
   "cell_type": "code",
   "execution_count": 107,
   "metadata": {},
   "outputs": [
    {
     "data": {
      "text/html": [
       "<div>\n",
       "<style scoped>\n",
       "    .dataframe tbody tr th:only-of-type {\n",
       "        vertical-align: middle;\n",
       "    }\n",
       "\n",
       "    .dataframe tbody tr th {\n",
       "        vertical-align: top;\n",
       "    }\n",
       "\n",
       "    .dataframe thead th {\n",
       "        text-align: right;\n",
       "    }\n",
       "</style>\n",
       "<table border=\"1\" class=\"dataframe\">\n",
       "  <thead>\n",
       "    <tr style=\"text-align: right;\">\n",
       "      <th></th>\n",
       "      <th>CustomerID</th>\n",
       "      <th>InvoiceDateMax</th>\n",
       "      <th>Recency</th>\n",
       "    </tr>\n",
       "  </thead>\n",
       "  <tbody>\n",
       "    <tr>\n",
       "      <th>485</th>\n",
       "      <td>14051.0</td>\n",
       "      <td>2011-12-09</td>\n",
       "      <td>0</td>\n",
       "    </tr>\n",
       "    <tr>\n",
       "      <th>228</th>\n",
       "      <td>13069.0</td>\n",
       "      <td>2011-12-09</td>\n",
       "      <td>0</td>\n",
       "    </tr>\n",
       "    <tr>\n",
       "      <th>1361</th>\n",
       "      <td>17364.0</td>\n",
       "      <td>2011-12-09</td>\n",
       "      <td>0</td>\n",
       "    </tr>\n",
       "    <tr>\n",
       "      <th>1470</th>\n",
       "      <td>17754.0</td>\n",
       "      <td>2011-12-09</td>\n",
       "      <td>0</td>\n",
       "    </tr>\n",
       "    <tr>\n",
       "      <th>949</th>\n",
       "      <td>15694.0</td>\n",
       "      <td>2011-12-09</td>\n",
       "      <td>0</td>\n",
       "    </tr>\n",
       "    <tr>\n",
       "      <th>...</th>\n",
       "      <td>...</td>\n",
       "      <td>...</td>\n",
       "      <td>...</td>\n",
       "    </tr>\n",
       "    <tr>\n",
       "      <th>674</th>\n",
       "      <td>14679.0</td>\n",
       "      <td>2010-12-03</td>\n",
       "      <td>371</td>\n",
       "    </tr>\n",
       "    <tr>\n",
       "      <th>1406</th>\n",
       "      <td>17547.0</td>\n",
       "      <td>2010-12-02</td>\n",
       "      <td>372</td>\n",
       "    </tr>\n",
       "    <tr>\n",
       "      <th>1279</th>\n",
       "      <td>16995.0</td>\n",
       "      <td>2010-12-02</td>\n",
       "      <td>372</td>\n",
       "    </tr>\n",
       "    <tr>\n",
       "      <th>459</th>\n",
       "      <td>13958.0</td>\n",
       "      <td>2010-12-02</td>\n",
       "      <td>372</td>\n",
       "    </tr>\n",
       "    <tr>\n",
       "      <th>1017</th>\n",
       "      <td>15922.0</td>\n",
       "      <td>2010-12-02</td>\n",
       "      <td>372</td>\n",
       "    </tr>\n",
       "  </tbody>\n",
       "</table>\n",
       "<p>1589 rows × 3 columns</p>\n",
       "</div>"
      ],
      "text/plain": [
       "      CustomerID InvoiceDateMax  Recency\n",
       "485      14051.0     2011-12-09        0\n",
       "228      13069.0     2011-12-09        0\n",
       "1361     17364.0     2011-12-09        0\n",
       "1470     17754.0     2011-12-09        0\n",
       "949      15694.0     2011-12-09        0\n",
       "...          ...            ...      ...\n",
       "674      14679.0     2010-12-03      371\n",
       "1406     17547.0     2010-12-02      372\n",
       "1279     16995.0     2010-12-02      372\n",
       "459      13958.0     2010-12-02      372\n",
       "1017     15922.0     2010-12-02      372\n",
       "\n",
       "[1589 rows x 3 columns]"
      ]
     },
     "execution_count": 107,
     "metadata": {},
     "output_type": "execute_result"
    }
   ],
   "source": [
    "RFM.sort_values(by='Recency')"
   ]
  },
  {
   "cell_type": "code",
   "execution_count": 108,
   "metadata": {},
   "outputs": [
    {
     "data": {
      "text/html": [
       "<div>\n",
       "<style scoped>\n",
       "    .dataframe tbody tr th:only-of-type {\n",
       "        vertical-align: middle;\n",
       "    }\n",
       "\n",
       "    .dataframe tbody tr th {\n",
       "        vertical-align: top;\n",
       "    }\n",
       "\n",
       "    .dataframe thead th {\n",
       "        text-align: right;\n",
       "    }\n",
       "</style>\n",
       "<table border=\"1\" class=\"dataframe\">\n",
       "  <thead>\n",
       "    <tr style=\"text-align: right;\">\n",
       "      <th></th>\n",
       "      <th>CustomerID</th>\n",
       "      <th>Recency</th>\n",
       "    </tr>\n",
       "  </thead>\n",
       "  <tbody>\n",
       "    <tr>\n",
       "      <th>count</th>\n",
       "      <td>1589.000000</td>\n",
       "      <td>1589.000000</td>\n",
       "    </tr>\n",
       "    <tr>\n",
       "      <th>mean</th>\n",
       "      <td>15183.020768</td>\n",
       "      <td>64.541221</td>\n",
       "    </tr>\n",
       "    <tr>\n",
       "      <th>std</th>\n",
       "      <td>1723.587032</td>\n",
       "      <td>87.432970</td>\n",
       "    </tr>\n",
       "    <tr>\n",
       "      <th>min</th>\n",
       "      <td>12346.000000</td>\n",
       "      <td>0.000000</td>\n",
       "    </tr>\n",
       "    <tr>\n",
       "      <th>25%</th>\n",
       "      <td>13709.000000</td>\n",
       "      <td>8.000000</td>\n",
       "    </tr>\n",
       "    <tr>\n",
       "      <th>50%</th>\n",
       "      <td>15135.000000</td>\n",
       "      <td>25.000000</td>\n",
       "    </tr>\n",
       "    <tr>\n",
       "      <th>75%</th>\n",
       "      <td>16660.000000</td>\n",
       "      <td>77.000000</td>\n",
       "    </tr>\n",
       "    <tr>\n",
       "      <th>max</th>\n",
       "      <td>18282.000000</td>\n",
       "      <td>372.000000</td>\n",
       "    </tr>\n",
       "  </tbody>\n",
       "</table>\n",
       "</div>"
      ],
      "text/plain": [
       "         CustomerID      Recency\n",
       "count   1589.000000  1589.000000\n",
       "mean   15183.020768    64.541221\n",
       "std     1723.587032    87.432970\n",
       "min    12346.000000     0.000000\n",
       "25%    13709.000000     8.000000\n",
       "50%    15135.000000    25.000000\n",
       "75%    16660.000000    77.000000\n",
       "max    18282.000000   372.000000"
      ]
     },
     "execution_count": 108,
     "metadata": {},
     "output_type": "execute_result"
    }
   ],
   "source": [
    "RFM.describe()"
   ]
  },
  {
   "cell_type": "code",
   "execution_count": 109,
   "metadata": {},
   "outputs": [
    {
     "data": {
      "image/png": "[encoded data removed]",
      "text/plain": [
       "<Figure size 720x288 with 1 Axes>"
      ]
     },
     "metadata": {
      "needs_background": "light"
     },
     "output_type": "display_data"
    }
   ],
   "source": [
    "RFM.Recency.hist(bins=21, figsize=(10,4))\n",
    "plt.title('Recency histograms', fontsize=15);"
   ]
  },
  {
   "cell_type": "markdown",
   "metadata": {},
   "source": [
    "### Frequency"
   ]
  },
  {
   "cell_type": "code",
   "execution_count": 110,
   "metadata": {},
   "outputs": [],
   "source": [
    "Freq=df.groupby('CustomerID')['Invoice_Date'].count().reset_index()\n",
    "Freq.rename({'Invoice_Date': 'Frequency'}, inplace=True, axis=1)"
   ]
  },
  {
   "cell_type": "code",
   "execution_count": 111,
   "metadata": {},
   "outputs": [
    {
     "data": {
      "text/html": [
       "<div>\n",
       "<style scoped>\n",
       "    .dataframe tbody tr th:only-of-type {\n",
       "        vertical-align: middle;\n",
       "    }\n",
       "\n",
       "    .dataframe tbody tr th {\n",
       "        vertical-align: top;\n",
       "    }\n",
       "\n",
       "    .dataframe thead th {\n",
       "        text-align: right;\n",
       "    }\n",
       "</style>\n",
       "<table border=\"1\" class=\"dataframe\">\n",
       "  <thead>\n",
       "    <tr style=\"text-align: right;\">\n",
       "      <th></th>\n",
       "      <th>CustomerID</th>\n",
       "      <th>Frequency</th>\n",
       "    </tr>\n",
       "  </thead>\n",
       "  <tbody>\n",
       "    <tr>\n",
       "      <th>0</th>\n",
       "      <td>12346.0</td>\n",
       "      <td>2</td>\n",
       "    </tr>\n",
       "    <tr>\n",
       "      <th>1</th>\n",
       "      <td>12352.0</td>\n",
       "      <td>95</td>\n",
       "    </tr>\n",
       "    <tr>\n",
       "      <th>2</th>\n",
       "      <td>12359.0</td>\n",
       "      <td>254</td>\n",
       "    </tr>\n",
       "    <tr>\n",
       "      <th>3</th>\n",
       "      <td>12362.0</td>\n",
       "      <td>274</td>\n",
       "    </tr>\n",
       "    <tr>\n",
       "      <th>4</th>\n",
       "      <td>12365.0</td>\n",
       "      <td>23</td>\n",
       "    </tr>\n",
       "    <tr>\n",
       "      <th>...</th>\n",
       "      <td>...</td>\n",
       "      <td>...</td>\n",
       "    </tr>\n",
       "    <tr>\n",
       "      <th>1584</th>\n",
       "      <td>18272.0</td>\n",
       "      <td>170</td>\n",
       "    </tr>\n",
       "    <tr>\n",
       "      <th>1585</th>\n",
       "      <td>18274.0</td>\n",
       "      <td>22</td>\n",
       "    </tr>\n",
       "    <tr>\n",
       "      <th>1586</th>\n",
       "      <td>18276.0</td>\n",
       "      <td>16</td>\n",
       "    </tr>\n",
       "    <tr>\n",
       "      <th>1587</th>\n",
       "      <td>18277.0</td>\n",
       "      <td>9</td>\n",
       "    </tr>\n",
       "    <tr>\n",
       "      <th>1588</th>\n",
       "      <td>18282.0</td>\n",
       "      <td>13</td>\n",
       "    </tr>\n",
       "  </tbody>\n",
       "</table>\n",
       "<p>1589 rows × 2 columns</p>\n",
       "</div>"
      ],
      "text/plain": [
       "      CustomerID  Frequency\n",
       "0        12346.0          2\n",
       "1        12352.0         95\n",
       "2        12359.0        254\n",
       "3        12362.0        274\n",
       "4        12365.0         23\n",
       "...          ...        ...\n",
       "1584     18272.0        170\n",
       "1585     18274.0         22\n",
       "1586     18276.0         16\n",
       "1587     18277.0          9\n",
       "1588     18282.0         13\n",
       "\n",
       "[1589 rows x 2 columns]"
      ]
     },
     "execution_count": 111,
     "metadata": {},
     "output_type": "execute_result"
    }
   ],
   "source": [
    "Freq"
   ]
  },
  {
   "cell_type": "code",
   "execution_count": 112,
   "metadata": {},
   "outputs": [
    {
     "data": {
      "text/html": [
       "<div>\n",
       "<style scoped>\n",
       "    .dataframe tbody tr th:only-of-type {\n",
       "        vertical-align: middle;\n",
       "    }\n",
       "\n",
       "    .dataframe tbody tr th {\n",
       "        vertical-align: top;\n",
       "    }\n",
       "\n",
       "    .dataframe thead th {\n",
       "        text-align: right;\n",
       "    }\n",
       "</style>\n",
       "<table border=\"1\" class=\"dataframe\">\n",
       "  <thead>\n",
       "    <tr style=\"text-align: right;\">\n",
       "      <th></th>\n",
       "      <th>CustomerID</th>\n",
       "      <th>InvoiceDateMax</th>\n",
       "      <th>Recency</th>\n",
       "    </tr>\n",
       "  </thead>\n",
       "  <tbody>\n",
       "    <tr>\n",
       "      <th>0</th>\n",
       "      <td>12346.0</td>\n",
       "      <td>2011-01-18</td>\n",
       "      <td>325</td>\n",
       "    </tr>\n",
       "    <tr>\n",
       "      <th>1</th>\n",
       "      <td>12352.0</td>\n",
       "      <td>2011-11-03</td>\n",
       "      <td>36</td>\n",
       "    </tr>\n",
       "    <tr>\n",
       "      <th>2</th>\n",
       "      <td>12359.0</td>\n",
       "      <td>2011-12-02</td>\n",
       "      <td>7</td>\n",
       "    </tr>\n",
       "    <tr>\n",
       "      <th>3</th>\n",
       "      <td>12362.0</td>\n",
       "      <td>2011-12-06</td>\n",
       "      <td>3</td>\n",
       "    </tr>\n",
       "    <tr>\n",
       "      <th>4</th>\n",
       "      <td>12365.0</td>\n",
       "      <td>2011-02-21</td>\n",
       "      <td>291</td>\n",
       "    </tr>\n",
       "    <tr>\n",
       "      <th>...</th>\n",
       "      <td>...</td>\n",
       "      <td>...</td>\n",
       "      <td>...</td>\n",
       "    </tr>\n",
       "    <tr>\n",
       "      <th>1584</th>\n",
       "      <td>18272.0</td>\n",
       "      <td>2011-12-07</td>\n",
       "      <td>2</td>\n",
       "    </tr>\n",
       "    <tr>\n",
       "      <th>1585</th>\n",
       "      <td>18274.0</td>\n",
       "      <td>2011-11-22</td>\n",
       "      <td>17</td>\n",
       "    </tr>\n",
       "    <tr>\n",
       "      <th>1586</th>\n",
       "      <td>18276.0</td>\n",
       "      <td>2011-11-18</td>\n",
       "      <td>21</td>\n",
       "    </tr>\n",
       "    <tr>\n",
       "      <th>1587</th>\n",
       "      <td>18277.0</td>\n",
       "      <td>2011-10-12</td>\n",
       "      <td>58</td>\n",
       "    </tr>\n",
       "    <tr>\n",
       "      <th>1588</th>\n",
       "      <td>18282.0</td>\n",
       "      <td>2011-12-02</td>\n",
       "      <td>7</td>\n",
       "    </tr>\n",
       "  </tbody>\n",
       "</table>\n",
       "<p>1589 rows × 3 columns</p>\n",
       "</div>"
      ],
      "text/plain": [
       "      CustomerID InvoiceDateMax  Recency\n",
       "0        12346.0     2011-01-18      325\n",
       "1        12352.0     2011-11-03       36\n",
       "2        12359.0     2011-12-02        7\n",
       "3        12362.0     2011-12-06        3\n",
       "4        12365.0     2011-02-21      291\n",
       "...          ...            ...      ...\n",
       "1584     18272.0     2011-12-07        2\n",
       "1585     18274.0     2011-11-22       17\n",
       "1586     18276.0     2011-11-18       21\n",
       "1587     18277.0     2011-10-12       58\n",
       "1588     18282.0     2011-12-02        7\n",
       "\n",
       "[1589 rows x 3 columns]"
      ]
     },
     "execution_count": 112,
     "metadata": {},
     "output_type": "execute_result"
    }
   ],
   "source": [
    "RFM"
   ]
  },
  {
   "cell_type": "code",
   "execution_count": 113,
   "metadata": {},
   "outputs": [],
   "source": [
    "RFM=RFM.merge(Freq, on='CustomerID')"
   ]
  },
  {
   "cell_type": "code",
   "execution_count": 114,
   "metadata": {},
   "outputs": [
    {
     "data": {
      "text/html": [
       "<div>\n",
       "<style scoped>\n",
       "    .dataframe tbody tr th:only-of-type {\n",
       "        vertical-align: middle;\n",
       "    }\n",
       "\n",
       "    .dataframe tbody tr th {\n",
       "        vertical-align: top;\n",
       "    }\n",
       "\n",
       "    .dataframe thead th {\n",
       "        text-align: right;\n",
       "    }\n",
       "</style>\n",
       "<table border=\"1\" class=\"dataframe\">\n",
       "  <thead>\n",
       "    <tr style=\"text-align: right;\">\n",
       "      <th></th>\n",
       "      <th>CustomerID</th>\n",
       "      <th>InvoiceDateMax</th>\n",
       "      <th>Recency</th>\n",
       "      <th>Frequency</th>\n",
       "    </tr>\n",
       "  </thead>\n",
       "  <tbody>\n",
       "    <tr>\n",
       "      <th>0</th>\n",
       "      <td>12346.0</td>\n",
       "      <td>2011-01-18</td>\n",
       "      <td>325</td>\n",
       "      <td>2</td>\n",
       "    </tr>\n",
       "    <tr>\n",
       "      <th>1</th>\n",
       "      <td>12352.0</td>\n",
       "      <td>2011-11-03</td>\n",
       "      <td>36</td>\n",
       "      <td>95</td>\n",
       "    </tr>\n",
       "    <tr>\n",
       "      <th>2</th>\n",
       "      <td>12359.0</td>\n",
       "      <td>2011-12-02</td>\n",
       "      <td>7</td>\n",
       "      <td>254</td>\n",
       "    </tr>\n",
       "    <tr>\n",
       "      <th>3</th>\n",
       "      <td>12362.0</td>\n",
       "      <td>2011-12-06</td>\n",
       "      <td>3</td>\n",
       "      <td>274</td>\n",
       "    </tr>\n",
       "    <tr>\n",
       "      <th>4</th>\n",
       "      <td>12365.0</td>\n",
       "      <td>2011-02-21</td>\n",
       "      <td>291</td>\n",
       "      <td>23</td>\n",
       "    </tr>\n",
       "    <tr>\n",
       "      <th>...</th>\n",
       "      <td>...</td>\n",
       "      <td>...</td>\n",
       "      <td>...</td>\n",
       "      <td>...</td>\n",
       "    </tr>\n",
       "    <tr>\n",
       "      <th>1584</th>\n",
       "      <td>18272.0</td>\n",
       "      <td>2011-12-07</td>\n",
       "      <td>2</td>\n",
       "      <td>170</td>\n",
       "    </tr>\n",
       "    <tr>\n",
       "      <th>1585</th>\n",
       "      <td>18274.0</td>\n",
       "      <td>2011-11-22</td>\n",
       "      <td>17</td>\n",
       "      <td>22</td>\n",
       "    </tr>\n",
       "    <tr>\n",
       "      <th>1586</th>\n",
       "      <td>18276.0</td>\n",
       "      <td>2011-11-18</td>\n",
       "      <td>21</td>\n",
       "      <td>16</td>\n",
       "    </tr>\n",
       "    <tr>\n",
       "      <th>1587</th>\n",
       "      <td>18277.0</td>\n",
       "      <td>2011-10-12</td>\n",
       "      <td>58</td>\n",
       "      <td>9</td>\n",
       "    </tr>\n",
       "    <tr>\n",
       "      <th>1588</th>\n",
       "      <td>18282.0</td>\n",
       "      <td>2011-12-02</td>\n",
       "      <td>7</td>\n",
       "      <td>13</td>\n",
       "    </tr>\n",
       "  </tbody>\n",
       "</table>\n",
       "<p>1589 rows × 4 columns</p>\n",
       "</div>"
      ],
      "text/plain": [
       "      CustomerID InvoiceDateMax  Recency  Frequency\n",
       "0        12346.0     2011-01-18      325          2\n",
       "1        12352.0     2011-11-03       36         95\n",
       "2        12359.0     2011-12-02        7        254\n",
       "3        12362.0     2011-12-06        3        274\n",
       "4        12365.0     2011-02-21      291         23\n",
       "...          ...            ...      ...        ...\n",
       "1584     18272.0     2011-12-07        2        170\n",
       "1585     18274.0     2011-11-22       17         22\n",
       "1586     18276.0     2011-11-18       21         16\n",
       "1587     18277.0     2011-10-12       58          9\n",
       "1588     18282.0     2011-12-02        7         13\n",
       "\n",
       "[1589 rows x 4 columns]"
      ]
     },
     "execution_count": 114,
     "metadata": {},
     "output_type": "execute_result"
    }
   ],
   "source": [
    "RFM"
   ]
  },
  {
   "cell_type": "code",
   "execution_count": 115,
   "metadata": {},
   "outputs": [],
   "source": [
    "MValue=df.groupby('CustomerID')['Sales'].sum().reset_index()\n",
    "MValue.rename({'Sales': 'MValue'}, inplace=True, axis=1)"
   ]
  },
  {
   "cell_type": "code",
   "execution_count": 116,
   "metadata": {},
   "outputs": [],
   "source": [
    "RFM=RFM.merge(MValue, on='CustomerID')"
   ]
  },
  {
   "cell_type": "code",
   "execution_count": 117,
   "metadata": {},
   "outputs": [
    {
     "data": {
      "text/html": [
       "<div>\n",
       "<style scoped>\n",
       "    .dataframe tbody tr th:only-of-type {\n",
       "        vertical-align: middle;\n",
       "    }\n",
       "\n",
       "    .dataframe tbody tr th {\n",
       "        vertical-align: top;\n",
       "    }\n",
       "\n",
       "    .dataframe thead th {\n",
       "        text-align: right;\n",
       "    }\n",
       "</style>\n",
       "<table border=\"1\" class=\"dataframe\">\n",
       "  <thead>\n",
       "    <tr style=\"text-align: right;\">\n",
       "      <th></th>\n",
       "      <th>CustomerID</th>\n",
       "      <th>InvoiceDateMax</th>\n",
       "      <th>Recency</th>\n",
       "      <th>Frequency</th>\n",
       "      <th>MValue</th>\n",
       "    </tr>\n",
       "  </thead>\n",
       "  <tbody>\n",
       "    <tr>\n",
       "      <th>0</th>\n",
       "      <td>12346.0</td>\n",
       "      <td>2011-01-18</td>\n",
       "      <td>325</td>\n",
       "      <td>2</td>\n",
       "      <td>0.00</td>\n",
       "    </tr>\n",
       "    <tr>\n",
       "      <th>1</th>\n",
       "      <td>12352.0</td>\n",
       "      <td>2011-11-03</td>\n",
       "      <td>36</td>\n",
       "      <td>95</td>\n",
       "      <td>1545.41</td>\n",
       "    </tr>\n",
       "    <tr>\n",
       "      <th>2</th>\n",
       "      <td>12359.0</td>\n",
       "      <td>2011-12-02</td>\n",
       "      <td>7</td>\n",
       "      <td>254</td>\n",
       "      <td>6245.53</td>\n",
       "    </tr>\n",
       "    <tr>\n",
       "      <th>3</th>\n",
       "      <td>12362.0</td>\n",
       "      <td>2011-12-06</td>\n",
       "      <td>3</td>\n",
       "      <td>274</td>\n",
       "      <td>5154.58</td>\n",
       "    </tr>\n",
       "    <tr>\n",
       "      <th>4</th>\n",
       "      <td>12365.0</td>\n",
       "      <td>2011-02-21</td>\n",
       "      <td>291</td>\n",
       "      <td>23</td>\n",
       "      <td>320.69</td>\n",
       "    </tr>\n",
       "  </tbody>\n",
       "</table>\n",
       "</div>"
      ],
      "text/plain": [
       "   CustomerID InvoiceDateMax  Recency  Frequency   MValue\n",
       "0     12346.0     2011-01-18      325          2     0.00\n",
       "1     12352.0     2011-11-03       36         95  1545.41\n",
       "2     12359.0     2011-12-02        7        254  6245.53\n",
       "3     12362.0     2011-12-06        3        274  5154.58\n",
       "4     12365.0     2011-02-21      291         23   320.69"
      ]
     },
     "execution_count": 117,
     "metadata": {},
     "output_type": "execute_result"
    }
   ],
   "source": [
    "RFM.head()"
   ]
  },
  {
   "cell_type": "code",
   "execution_count": 118,
   "metadata": {
    "scrolled": false
   },
   "outputs": [
    {
     "data": {
      "image/png": "[encoded data removed]",
      "text/plain": [
       "<Figure size 720x288 with 1 Axes>"
      ]
     },
     "metadata": {
      "needs_background": "light"
     },
     "output_type": "display_data"
    }
   ],
   "source": [
    "RFM.Frequency.hist(bins=31, figsize=(10,4))\n",
    "plt.title('Frequency histograms', fontsize=15);"
   ]
  },
  {
   "cell_type": "markdown",
   "metadata": {},
   "source": [
    "### Monetary Value corresponds to 'Sales' , already calculated"
   ]
  },
  {
   "cell_type": "markdown",
   "metadata": {},
   "source": [
    "## Clustering"
   ]
  },
  {
   "cell_type": "code",
   "execution_count": 119,
   "metadata": {},
   "outputs": [],
   "source": [
    "from sklearn.cluster import KMeans\n",
    "recency=RFM\n",
    "recency=recency.drop(['CustomerID', 'InvoiceDateMax', 'Frequency', 'MValue'], axis=1)"
   ]
  },
  {
   "cell_type": "code",
   "execution_count": 120,
   "metadata": {},
   "outputs": [
    {
     "data": {
      "text/html": [
       "<div>\n",
       "<style scoped>\n",
       "    .dataframe tbody tr th:only-of-type {\n",
       "        vertical-align: middle;\n",
       "    }\n",
       "\n",
       "    .dataframe tbody tr th {\n",
       "        vertical-align: top;\n",
       "    }\n",
       "\n",
       "    .dataframe thead th {\n",
       "        text-align: right;\n",
       "    }\n",
       "</style>\n",
       "<table border=\"1\" class=\"dataframe\">\n",
       "  <thead>\n",
       "    <tr style=\"text-align: right;\">\n",
       "      <th></th>\n",
       "      <th>Recency</th>\n",
       "    </tr>\n",
       "  </thead>\n",
       "  <tbody>\n",
       "    <tr>\n",
       "      <th>0</th>\n",
       "      <td>325</td>\n",
       "    </tr>\n",
       "    <tr>\n",
       "      <th>1</th>\n",
       "      <td>36</td>\n",
       "    </tr>\n",
       "    <tr>\n",
       "      <th>2</th>\n",
       "      <td>7</td>\n",
       "    </tr>\n",
       "    <tr>\n",
       "      <th>3</th>\n",
       "      <td>3</td>\n",
       "    </tr>\n",
       "    <tr>\n",
       "      <th>4</th>\n",
       "      <td>291</td>\n",
       "    </tr>\n",
       "    <tr>\n",
       "      <th>...</th>\n",
       "      <td>...</td>\n",
       "    </tr>\n",
       "    <tr>\n",
       "      <th>1584</th>\n",
       "      <td>2</td>\n",
       "    </tr>\n",
       "    <tr>\n",
       "      <th>1585</th>\n",
       "      <td>17</td>\n",
       "    </tr>\n",
       "    <tr>\n",
       "      <th>1586</th>\n",
       "      <td>21</td>\n",
       "    </tr>\n",
       "    <tr>\n",
       "      <th>1587</th>\n",
       "      <td>58</td>\n",
       "    </tr>\n",
       "    <tr>\n",
       "      <th>1588</th>\n",
       "      <td>7</td>\n",
       "    </tr>\n",
       "  </tbody>\n",
       "</table>\n",
       "<p>1589 rows × 1 columns</p>\n",
       "</div>"
      ],
      "text/plain": [
       "      Recency\n",
       "0         325\n",
       "1          36\n",
       "2           7\n",
       "3           3\n",
       "4         291\n",
       "...       ...\n",
       "1584        2\n",
       "1585       17\n",
       "1586       21\n",
       "1587       58\n",
       "1588        7\n",
       "\n",
       "[1589 rows x 1 columns]"
      ]
     },
     "execution_count": 120,
     "metadata": {},
     "output_type": "execute_result"
    }
   ],
   "source": [
    "recency"
   ]
  },
  {
   "cell_type": "code",
   "execution_count": 121,
   "metadata": {},
   "outputs": [
    {
     "data": {
      "image/png": "[encoded data removed]",
      "text/plain": [
       "<Figure size 432x288 with 1 Axes>"
      ]
     },
     "metadata": {
      "needs_background": "light"
     },
     "output_type": "display_data"
    }
   ],
   "source": [
    "##How many clusters? Apply Elbow method\n",
    "elbi={}\n",
    "for i in range(1,10):\n",
    "    km=KMeans(n_clusters=i, max_iter=500).fit(recency)\n",
    "    recency['cluster'] = km.labels_\n",
    "    elbi[i]= km.inertia_\n",
    "    \n",
    "plt.figure()\n",
    "plt.plot(list(elbi.keys()), list(elbi.values()))\n",
    "plt.xlabel(\"Number of cluster\")\n",
    "plt.show();"
   ]
  },
  {
   "cell_type": "code",
   "execution_count": 122,
   "metadata": {},
   "outputs": [],
   "source": [
    "# create recency clusters\n",
    "km=KMeans(n_clusters=4)\n",
    "km.fit(RFM[['Recency']])\n",
    "RFM['RecCluster'] =km.predict(RFM[['Recency']])"
   ]
  },
  {
   "cell_type": "code",
   "execution_count": 123,
   "metadata": {},
   "outputs": [],
   "source": [
    "# create frequency clusters\n",
    "km=KMeans(n_clusters=4)\n",
    "km.fit(RFM[['Frequency']])\n",
    "RFM['FreqCluster'] =km.predict(RFM[['Frequency']])"
   ]
  },
  {
   "cell_type": "code",
   "execution_count": 124,
   "metadata": {},
   "outputs": [],
   "source": [
    "# create value clusters\n",
    "km=KMeans(n_clusters=4)\n",
    "km.fit(RFM[['MValue']])\n",
    "RFM['MValCluster'] =km.predict(RFM[['MValue']])"
   ]
  },
  {
   "cell_type": "code",
   "execution_count": 125,
   "metadata": {},
   "outputs": [
    {
     "data": {
      "text/html": [
       "<div>\n",
       "<style scoped>\n",
       "    .dataframe tbody tr th:only-of-type {\n",
       "        vertical-align: middle;\n",
       "    }\n",
       "\n",
       "    .dataframe tbody tr th {\n",
       "        vertical-align: top;\n",
       "    }\n",
       "\n",
       "    .dataframe thead th {\n",
       "        text-align: right;\n",
       "    }\n",
       "</style>\n",
       "<table border=\"1\" class=\"dataframe\">\n",
       "  <thead>\n",
       "    <tr style=\"text-align: right;\">\n",
       "      <th></th>\n",
       "      <th>count</th>\n",
       "      <th>mean</th>\n",
       "      <th>std</th>\n",
       "      <th>min</th>\n",
       "      <th>25%</th>\n",
       "      <th>50%</th>\n",
       "      <th>75%</th>\n",
       "      <th>max</th>\n",
       "    </tr>\n",
       "    <tr>\n",
       "      <th>MValCluster</th>\n",
       "      <th></th>\n",
       "      <th></th>\n",
       "      <th></th>\n",
       "      <th></th>\n",
       "      <th></th>\n",
       "      <th></th>\n",
       "      <th></th>\n",
       "      <th></th>\n",
       "    </tr>\n",
       "  </thead>\n",
       "  <tbody>\n",
       "    <tr>\n",
       "      <th>0</th>\n",
       "      <td>1556.0</td>\n",
       "      <td>2406.601094</td>\n",
       "      <td>2992.443680</td>\n",
       "      <td>-4287.63</td>\n",
       "      <td>605.3075</td>\n",
       "      <td>1417.265</td>\n",
       "      <td>3005.4675</td>\n",
       "      <td>21535.90</td>\n",
       "    </tr>\n",
       "    <tr>\n",
       "      <th>1</th>\n",
       "      <td>2.0</td>\n",
       "      <td>267963.755000</td>\n",
       "      <td>16299.186073</td>\n",
       "      <td>256438.49</td>\n",
       "      <td>262201.1225</td>\n",
       "      <td>267963.755</td>\n",
       "      <td>273726.3875</td>\n",
       "      <td>279489.02</td>\n",
       "    </tr>\n",
       "    <tr>\n",
       "      <th>2</th>\n",
       "      <td>26.0</td>\n",
       "      <td>41478.871538</td>\n",
       "      <td>13270.137224</td>\n",
       "      <td>25748.35</td>\n",
       "      <td>29379.2800</td>\n",
       "      <td>35078.555</td>\n",
       "      <td>52519.0600</td>\n",
       "      <td>65892.08</td>\n",
       "    </tr>\n",
       "    <tr>\n",
       "      <th>3</th>\n",
       "      <td>5.0</td>\n",
       "      <td>129057.952000</td>\n",
       "      <td>36658.292209</td>\n",
       "      <td>88125.38</td>\n",
       "      <td>113384.1400</td>\n",
       "      <td>123725.450</td>\n",
       "      <td>132572.6200</td>\n",
       "      <td>187482.17</td>\n",
       "    </tr>\n",
       "  </tbody>\n",
       "</table>\n",
       "</div>"
      ],
      "text/plain": [
       "              count           mean           std        min          25%  \\\n",
       "MValCluster                                                                \n",
       "0            1556.0    2406.601094   2992.443680   -4287.63     605.3075   \n",
       "1               2.0  267963.755000  16299.186073  256438.49  262201.1225   \n",
       "2              26.0   41478.871538  13270.137224   25748.35   29379.2800   \n",
       "3               5.0  129057.952000  36658.292209   88125.38  113384.1400   \n",
       "\n",
       "                    50%          75%        max  \n",
       "MValCluster                                      \n",
       "0              1417.265    3005.4675   21535.90  \n",
       "1            267963.755  273726.3875  279489.02  \n",
       "2             35078.555   52519.0600   65892.08  \n",
       "3            123725.450  132572.6200  187482.17  "
      ]
     },
     "execution_count": 125,
     "metadata": {},
     "output_type": "execute_result"
    }
   ],
   "source": [
    "RFM.groupby('MValCluster')['MValue'].describe()\n"
   ]
  },
  {
   "cell_type": "code",
   "execution_count": 126,
   "metadata": {},
   "outputs": [],
   "source": [
    "#Function to re-order a column values based on ascending or descending order\n",
    "def reorder(data, v1, v2, keys=['asc', 'des']):\n",
    "    mydict=dict()\n",
    "    if keys== 'asc':\n",
    "        s1=data.groupby(v1)[v2].mean().sort_values().reset_index()\n",
    "    if keys == 'des':\n",
    "        s1=data.groupby(v1)[v2].mean().sort_values(ascending=False).reset_index()\n",
    "    mydict[s1[v1][0]]=0\n",
    "    mydict[s1[v1][1]]=1\n",
    "    mydict[s1[v1][2]]=2\n",
    "    mydict[s1[v1][3]]=3\n",
    "    \n",
    "    data[v1].replace(mydict, inplace=True)\n"
   ]
  },
  {
   "cell_type": "code",
   "execution_count": 127,
   "metadata": {},
   "outputs": [],
   "source": [
    "reorder(RFM, 'MValCluster','MValue', 'asc')"
   ]
  },
  {
   "cell_type": "code",
   "execution_count": 128,
   "metadata": {},
   "outputs": [
    {
     "data": {
      "text/html": [
       "<div>\n",
       "<style scoped>\n",
       "    .dataframe tbody tr th:only-of-type {\n",
       "        vertical-align: middle;\n",
       "    }\n",
       "\n",
       "    .dataframe tbody tr th {\n",
       "        vertical-align: top;\n",
       "    }\n",
       "\n",
       "    .dataframe thead th {\n",
       "        text-align: right;\n",
       "    }\n",
       "</style>\n",
       "<table border=\"1\" class=\"dataframe\">\n",
       "  <thead>\n",
       "    <tr style=\"text-align: right;\">\n",
       "      <th></th>\n",
       "      <th>count</th>\n",
       "      <th>mean</th>\n",
       "      <th>std</th>\n",
       "      <th>min</th>\n",
       "      <th>25%</th>\n",
       "      <th>50%</th>\n",
       "      <th>75%</th>\n",
       "      <th>max</th>\n",
       "    </tr>\n",
       "    <tr>\n",
       "      <th>MValCluster</th>\n",
       "      <th></th>\n",
       "      <th></th>\n",
       "      <th></th>\n",
       "      <th></th>\n",
       "      <th></th>\n",
       "      <th></th>\n",
       "      <th></th>\n",
       "      <th></th>\n",
       "    </tr>\n",
       "  </thead>\n",
       "  <tbody>\n",
       "    <tr>\n",
       "      <th>0</th>\n",
       "      <td>1556.0</td>\n",
       "      <td>2406.601094</td>\n",
       "      <td>2992.443680</td>\n",
       "      <td>-4287.63</td>\n",
       "      <td>605.3075</td>\n",
       "      <td>1417.265</td>\n",
       "      <td>3005.4675</td>\n",
       "      <td>21535.90</td>\n",
       "    </tr>\n",
       "    <tr>\n",
       "      <th>1</th>\n",
       "      <td>26.0</td>\n",
       "      <td>41478.871538</td>\n",
       "      <td>13270.137224</td>\n",
       "      <td>25748.35</td>\n",
       "      <td>29379.2800</td>\n",
       "      <td>35078.555</td>\n",
       "      <td>52519.0600</td>\n",
       "      <td>65892.08</td>\n",
       "    </tr>\n",
       "    <tr>\n",
       "      <th>2</th>\n",
       "      <td>5.0</td>\n",
       "      <td>129057.952000</td>\n",
       "      <td>36658.292209</td>\n",
       "      <td>88125.38</td>\n",
       "      <td>113384.1400</td>\n",
       "      <td>123725.450</td>\n",
       "      <td>132572.6200</td>\n",
       "      <td>187482.17</td>\n",
       "    </tr>\n",
       "    <tr>\n",
       "      <th>3</th>\n",
       "      <td>2.0</td>\n",
       "      <td>267963.755000</td>\n",
       "      <td>16299.186073</td>\n",
       "      <td>256438.49</td>\n",
       "      <td>262201.1225</td>\n",
       "      <td>267963.755</td>\n",
       "      <td>273726.3875</td>\n",
       "      <td>279489.02</td>\n",
       "    </tr>\n",
       "  </tbody>\n",
       "</table>\n",
       "</div>"
      ],
      "text/plain": [
       "              count           mean           std        min          25%  \\\n",
       "MValCluster                                                                \n",
       "0            1556.0    2406.601094   2992.443680   -4287.63     605.3075   \n",
       "1              26.0   41478.871538  13270.137224   25748.35   29379.2800   \n",
       "2               5.0  129057.952000  36658.292209   88125.38  113384.1400   \n",
       "3               2.0  267963.755000  16299.186073  256438.49  262201.1225   \n",
       "\n",
       "                    50%          75%        max  \n",
       "MValCluster                                      \n",
       "0              1417.265    3005.4675   21535.90  \n",
       "1             35078.555   52519.0600   65892.08  \n",
       "2            123725.450  132572.6200  187482.17  \n",
       "3            267963.755  273726.3875  279489.02  "
      ]
     },
     "execution_count": 128,
     "metadata": {},
     "output_type": "execute_result"
    }
   ],
   "source": [
    "RFM.groupby('MValCluster')['MValue'].describe()\n"
   ]
  },
  {
   "cell_type": "code",
   "execution_count": 129,
   "metadata": {},
   "outputs": [
    {
     "data": {
      "text/html": [
       "<div>\n",
       "<style scoped>\n",
       "    .dataframe tbody tr th:only-of-type {\n",
       "        vertical-align: middle;\n",
       "    }\n",
       "\n",
       "    .dataframe tbody tr th {\n",
       "        vertical-align: top;\n",
       "    }\n",
       "\n",
       "    .dataframe thead th {\n",
       "        text-align: right;\n",
       "    }\n",
       "</style>\n",
       "<table border=\"1\" class=\"dataframe\">\n",
       "  <thead>\n",
       "    <tr style=\"text-align: right;\">\n",
       "      <th></th>\n",
       "      <th>count</th>\n",
       "      <th>mean</th>\n",
       "      <th>std</th>\n",
       "      <th>min</th>\n",
       "      <th>25%</th>\n",
       "      <th>50%</th>\n",
       "      <th>75%</th>\n",
       "      <th>max</th>\n",
       "    </tr>\n",
       "    <tr>\n",
       "      <th>FreqCluster</th>\n",
       "      <th></th>\n",
       "      <th></th>\n",
       "      <th></th>\n",
       "      <th></th>\n",
       "      <th></th>\n",
       "      <th></th>\n",
       "      <th></th>\n",
       "      <th></th>\n",
       "    </tr>\n",
       "  </thead>\n",
       "  <tbody>\n",
       "    <tr>\n",
       "      <th>0</th>\n",
       "      <td>1299.0</td>\n",
       "      <td>77.115473</td>\n",
       "      <td>58.040371</td>\n",
       "      <td>1.0</td>\n",
       "      <td>28.00</td>\n",
       "      <td>65.0</td>\n",
       "      <td>116.0</td>\n",
       "      <td>230.0</td>\n",
       "    </tr>\n",
       "    <tr>\n",
       "      <th>1</th>\n",
       "      <td>4.0</td>\n",
       "      <td>5914.000000</td>\n",
       "      <td>1473.845537</td>\n",
       "      <td>4642.0</td>\n",
       "      <td>5006.50</td>\n",
       "      <td>5515.5</td>\n",
       "      <td>6423.0</td>\n",
       "      <td>7983.0</td>\n",
       "    </tr>\n",
       "    <tr>\n",
       "      <th>2</th>\n",
       "      <td>266.0</td>\n",
       "      <td>383.447368</td>\n",
       "      <td>132.269504</td>\n",
       "      <td>231.0</td>\n",
       "      <td>280.00</td>\n",
       "      <td>345.0</td>\n",
       "      <td>452.0</td>\n",
       "      <td>872.0</td>\n",
       "    </tr>\n",
       "    <tr>\n",
       "      <th>3</th>\n",
       "      <td>20.0</td>\n",
       "      <td>1398.300000</td>\n",
       "      <td>524.547434</td>\n",
       "      <td>925.0</td>\n",
       "      <td>1072.25</td>\n",
       "      <td>1162.5</td>\n",
       "      <td>1541.0</td>\n",
       "      <td>2782.0</td>\n",
       "    </tr>\n",
       "  </tbody>\n",
       "</table>\n",
       "</div>"
      ],
      "text/plain": [
       "              count         mean          std     min      25%     50%  \\\n",
       "FreqCluster                                                              \n",
       "0            1299.0    77.115473    58.040371     1.0    28.00    65.0   \n",
       "1               4.0  5914.000000  1473.845537  4642.0  5006.50  5515.5   \n",
       "2             266.0   383.447368   132.269504   231.0   280.00   345.0   \n",
       "3              20.0  1398.300000   524.547434   925.0  1072.25  1162.5   \n",
       "\n",
       "                75%     max  \n",
       "FreqCluster                  \n",
       "0             116.0   230.0  \n",
       "1            6423.0  7983.0  \n",
       "2             452.0   872.0  \n",
       "3            1541.0  2782.0  "
      ]
     },
     "execution_count": 129,
     "metadata": {},
     "output_type": "execute_result"
    }
   ],
   "source": [
    "RFM.groupby('FreqCluster')['Frequency'].describe()"
   ]
  },
  {
   "cell_type": "code",
   "execution_count": 130,
   "metadata": {},
   "outputs": [],
   "source": [
    "reorder(RFM, 'FreqCluster','Frequency', 'asc')"
   ]
  },
  {
   "cell_type": "code",
   "execution_count": 131,
   "metadata": {},
   "outputs": [
    {
     "data": {
      "text/html": [
       "<div>\n",
       "<style scoped>\n",
       "    .dataframe tbody tr th:only-of-type {\n",
       "        vertical-align: middle;\n",
       "    }\n",
       "\n",
       "    .dataframe tbody tr th {\n",
       "        vertical-align: top;\n",
       "    }\n",
       "\n",
       "    .dataframe thead th {\n",
       "        text-align: right;\n",
       "    }\n",
       "</style>\n",
       "<table border=\"1\" class=\"dataframe\">\n",
       "  <thead>\n",
       "    <tr style=\"text-align: right;\">\n",
       "      <th></th>\n",
       "      <th>count</th>\n",
       "      <th>mean</th>\n",
       "      <th>std</th>\n",
       "      <th>min</th>\n",
       "      <th>25%</th>\n",
       "      <th>50%</th>\n",
       "      <th>75%</th>\n",
       "      <th>max</th>\n",
       "    </tr>\n",
       "    <tr>\n",
       "      <th>FreqCluster</th>\n",
       "      <th></th>\n",
       "      <th></th>\n",
       "      <th></th>\n",
       "      <th></th>\n",
       "      <th></th>\n",
       "      <th></th>\n",
       "      <th></th>\n",
       "      <th></th>\n",
       "    </tr>\n",
       "  </thead>\n",
       "  <tbody>\n",
       "    <tr>\n",
       "      <th>0</th>\n",
       "      <td>1299.0</td>\n",
       "      <td>77.115473</td>\n",
       "      <td>58.040371</td>\n",
       "      <td>1.0</td>\n",
       "      <td>28.00</td>\n",
       "      <td>65.0</td>\n",
       "      <td>116.0</td>\n",
       "      <td>230.0</td>\n",
       "    </tr>\n",
       "    <tr>\n",
       "      <th>1</th>\n",
       "      <td>266.0</td>\n",
       "      <td>383.447368</td>\n",
       "      <td>132.269504</td>\n",
       "      <td>231.0</td>\n",
       "      <td>280.00</td>\n",
       "      <td>345.0</td>\n",
       "      <td>452.0</td>\n",
       "      <td>872.0</td>\n",
       "    </tr>\n",
       "    <tr>\n",
       "      <th>2</th>\n",
       "      <td>20.0</td>\n",
       "      <td>1398.300000</td>\n",
       "      <td>524.547434</td>\n",
       "      <td>925.0</td>\n",
       "      <td>1072.25</td>\n",
       "      <td>1162.5</td>\n",
       "      <td>1541.0</td>\n",
       "      <td>2782.0</td>\n",
       "    </tr>\n",
       "    <tr>\n",
       "      <th>3</th>\n",
       "      <td>4.0</td>\n",
       "      <td>5914.000000</td>\n",
       "      <td>1473.845537</td>\n",
       "      <td>4642.0</td>\n",
       "      <td>5006.50</td>\n",
       "      <td>5515.5</td>\n",
       "      <td>6423.0</td>\n",
       "      <td>7983.0</td>\n",
       "    </tr>\n",
       "  </tbody>\n",
       "</table>\n",
       "</div>"
      ],
      "text/plain": [
       "              count         mean          std     min      25%     50%  \\\n",
       "FreqCluster                                                              \n",
       "0            1299.0    77.115473    58.040371     1.0    28.00    65.0   \n",
       "1             266.0   383.447368   132.269504   231.0   280.00   345.0   \n",
       "2              20.0  1398.300000   524.547434   925.0  1072.25  1162.5   \n",
       "3               4.0  5914.000000  1473.845537  4642.0  5006.50  5515.5   \n",
       "\n",
       "                75%     max  \n",
       "FreqCluster                  \n",
       "0             116.0   230.0  \n",
       "1             452.0   872.0  \n",
       "2            1541.0  2782.0  \n",
       "3            6423.0  7983.0  "
      ]
     },
     "execution_count": 131,
     "metadata": {},
     "output_type": "execute_result"
    }
   ],
   "source": [
    "RFM.groupby('FreqCluster')['Frequency'].describe()"
   ]
  },
  {
   "cell_type": "code",
   "execution_count": 132,
   "metadata": {},
   "outputs": [
    {
     "data": {
      "text/html": [
       "<div>\n",
       "<style scoped>\n",
       "    .dataframe tbody tr th:only-of-type {\n",
       "        vertical-align: middle;\n",
       "    }\n",
       "\n",
       "    .dataframe tbody tr th {\n",
       "        vertical-align: top;\n",
       "    }\n",
       "\n",
       "    .dataframe thead th {\n",
       "        text-align: right;\n",
       "    }\n",
       "</style>\n",
       "<table border=\"1\" class=\"dataframe\">\n",
       "  <thead>\n",
       "    <tr style=\"text-align: right;\">\n",
       "      <th></th>\n",
       "      <th>count</th>\n",
       "      <th>mean</th>\n",
       "      <th>std</th>\n",
       "      <th>min</th>\n",
       "      <th>25%</th>\n",
       "      <th>50%</th>\n",
       "      <th>75%</th>\n",
       "      <th>max</th>\n",
       "    </tr>\n",
       "    <tr>\n",
       "      <th>RecCluster</th>\n",
       "      <th></th>\n",
       "      <th></th>\n",
       "      <th></th>\n",
       "      <th></th>\n",
       "      <th></th>\n",
       "      <th></th>\n",
       "      <th></th>\n",
       "      <th></th>\n",
       "    </tr>\n",
       "  </thead>\n",
       "  <tbody>\n",
       "    <tr>\n",
       "      <th>0</th>\n",
       "      <td>973.0</td>\n",
       "      <td>14.019527</td>\n",
       "      <td>11.373053</td>\n",
       "      <td>0.0</td>\n",
       "      <td>4.00</td>\n",
       "      <td>10.0</td>\n",
       "      <td>22.0</td>\n",
       "      <td>42.0</td>\n",
       "    </tr>\n",
       "    <tr>\n",
       "      <th>1</th>\n",
       "      <td>102.0</td>\n",
       "      <td>316.862745</td>\n",
       "      <td>36.227564</td>\n",
       "      <td>252.0</td>\n",
       "      <td>290.25</td>\n",
       "      <td>312.0</td>\n",
       "      <td>357.0</td>\n",
       "      <td>372.0</td>\n",
       "    </tr>\n",
       "    <tr>\n",
       "      <th>2</th>\n",
       "      <td>334.0</td>\n",
       "      <td>70.823353</td>\n",
       "      <td>21.682294</td>\n",
       "      <td>43.0</td>\n",
       "      <td>53.00</td>\n",
       "      <td>65.0</td>\n",
       "      <td>84.0</td>\n",
       "      <td>126.0</td>\n",
       "    </tr>\n",
       "    <tr>\n",
       "      <th>3</th>\n",
       "      <td>180.0</td>\n",
       "      <td>183.000000</td>\n",
       "      <td>34.102376</td>\n",
       "      <td>127.0</td>\n",
       "      <td>153.50</td>\n",
       "      <td>182.0</td>\n",
       "      <td>211.0</td>\n",
       "      <td>249.0</td>\n",
       "    </tr>\n",
       "  </tbody>\n",
       "</table>\n",
       "</div>"
      ],
      "text/plain": [
       "            count        mean        std    min     25%    50%    75%    max\n",
       "RecCluster                                                                  \n",
       "0           973.0   14.019527  11.373053    0.0    4.00   10.0   22.0   42.0\n",
       "1           102.0  316.862745  36.227564  252.0  290.25  312.0  357.0  372.0\n",
       "2           334.0   70.823353  21.682294   43.0   53.00   65.0   84.0  126.0\n",
       "3           180.0  183.000000  34.102376  127.0  153.50  182.0  211.0  249.0"
      ]
     },
     "execution_count": 132,
     "metadata": {},
     "output_type": "execute_result"
    }
   ],
   "source": [
    "RFM.groupby('RecCluster')['Recency'].describe()"
   ]
  },
  {
   "cell_type": "code",
   "execution_count": 133,
   "metadata": {},
   "outputs": [],
   "source": [
    "reorder(RFM, 'RecCluster','Recency', 'des')"
   ]
  },
  {
   "cell_type": "code",
   "execution_count": 134,
   "metadata": {},
   "outputs": [
    {
     "data": {
      "text/html": [
       "<div>\n",
       "<style scoped>\n",
       "    .dataframe tbody tr th:only-of-type {\n",
       "        vertical-align: middle;\n",
       "    }\n",
       "\n",
       "    .dataframe tbody tr th {\n",
       "        vertical-align: top;\n",
       "    }\n",
       "\n",
       "    .dataframe thead th {\n",
       "        text-align: right;\n",
       "    }\n",
       "</style>\n",
       "<table border=\"1\" class=\"dataframe\">\n",
       "  <thead>\n",
       "    <tr style=\"text-align: right;\">\n",
       "      <th></th>\n",
       "      <th>count</th>\n",
       "      <th>mean</th>\n",
       "      <th>std</th>\n",
       "      <th>min</th>\n",
       "      <th>25%</th>\n",
       "      <th>50%</th>\n",
       "      <th>75%</th>\n",
       "      <th>max</th>\n",
       "    </tr>\n",
       "    <tr>\n",
       "      <th>RecCluster</th>\n",
       "      <th></th>\n",
       "      <th></th>\n",
       "      <th></th>\n",
       "      <th></th>\n",
       "      <th></th>\n",
       "      <th></th>\n",
       "      <th></th>\n",
       "      <th></th>\n",
       "    </tr>\n",
       "  </thead>\n",
       "  <tbody>\n",
       "    <tr>\n",
       "      <th>0</th>\n",
       "      <td>102.0</td>\n",
       "      <td>316.862745</td>\n",
       "      <td>36.227564</td>\n",
       "      <td>252.0</td>\n",
       "      <td>290.25</td>\n",
       "      <td>312.0</td>\n",
       "      <td>357.0</td>\n",
       "      <td>372.0</td>\n",
       "    </tr>\n",
       "    <tr>\n",
       "      <th>1</th>\n",
       "      <td>180.0</td>\n",
       "      <td>183.000000</td>\n",
       "      <td>34.102376</td>\n",
       "      <td>127.0</td>\n",
       "      <td>153.50</td>\n",
       "      <td>182.0</td>\n",
       "      <td>211.0</td>\n",
       "      <td>249.0</td>\n",
       "    </tr>\n",
       "    <tr>\n",
       "      <th>2</th>\n",
       "      <td>334.0</td>\n",
       "      <td>70.823353</td>\n",
       "      <td>21.682294</td>\n",
       "      <td>43.0</td>\n",
       "      <td>53.00</td>\n",
       "      <td>65.0</td>\n",
       "      <td>84.0</td>\n",
       "      <td>126.0</td>\n",
       "    </tr>\n",
       "    <tr>\n",
       "      <th>3</th>\n",
       "      <td>973.0</td>\n",
       "      <td>14.019527</td>\n",
       "      <td>11.373053</td>\n",
       "      <td>0.0</td>\n",
       "      <td>4.00</td>\n",
       "      <td>10.0</td>\n",
       "      <td>22.0</td>\n",
       "      <td>42.0</td>\n",
       "    </tr>\n",
       "  </tbody>\n",
       "</table>\n",
       "</div>"
      ],
      "text/plain": [
       "            count        mean        std    min     25%    50%    75%    max\n",
       "RecCluster                                                                  \n",
       "0           102.0  316.862745  36.227564  252.0  290.25  312.0  357.0  372.0\n",
       "1           180.0  183.000000  34.102376  127.0  153.50  182.0  211.0  249.0\n",
       "2           334.0   70.823353  21.682294   43.0   53.00   65.0   84.0  126.0\n",
       "3           973.0   14.019527  11.373053    0.0    4.00   10.0   22.0   42.0"
      ]
     },
     "execution_count": 134,
     "metadata": {},
     "output_type": "execute_result"
    }
   ],
   "source": [
    "RFM.groupby('RecCluster')['Recency'].describe()"
   ]
  },
  {
   "cell_type": "code",
   "execution_count": 135,
   "metadata": {},
   "outputs": [],
   "source": [
    "RFM['TotalScore']=RFM.RecCluster  + RFM.FreqCluster + RFM.MValCluster"
   ]
  },
  {
   "cell_type": "code",
   "execution_count": 136,
   "metadata": {},
   "outputs": [
    {
     "data": {
      "text/html": [
       "<div>\n",
       "<style scoped>\n",
       "    .dataframe tbody tr th:only-of-type {\n",
       "        vertical-align: middle;\n",
       "    }\n",
       "\n",
       "    .dataframe tbody tr th {\n",
       "        vertical-align: top;\n",
       "    }\n",
       "\n",
       "    .dataframe thead th {\n",
       "        text-align: right;\n",
       "    }\n",
       "</style>\n",
       "<table border=\"1\" class=\"dataframe\">\n",
       "  <thead>\n",
       "    <tr style=\"text-align: right;\">\n",
       "      <th></th>\n",
       "      <th>Recency</th>\n",
       "      <th>Frequency</th>\n",
       "      <th>MValue</th>\n",
       "    </tr>\n",
       "    <tr>\n",
       "      <th>TotalScore</th>\n",
       "      <th></th>\n",
       "      <th></th>\n",
       "      <th></th>\n",
       "    </tr>\n",
       "  </thead>\n",
       "  <tbody>\n",
       "    <tr>\n",
       "      <th>0</th>\n",
       "      <td>317.009901</td>\n",
       "      <td>28.198020</td>\n",
       "      <td>429.330396</td>\n",
       "    </tr>\n",
       "    <tr>\n",
       "      <th>1</th>\n",
       "      <td>184.044944</td>\n",
       "      <td>41.539326</td>\n",
       "      <td>932.029556</td>\n",
       "    </tr>\n",
       "    <tr>\n",
       "      <th>2</th>\n",
       "      <td>71.919753</td>\n",
       "      <td>72.009259</td>\n",
       "      <td>1375.928673</td>\n",
       "    </tr>\n",
       "    <tr>\n",
       "      <th>3</th>\n",
       "      <td>16.259943</td>\n",
       "      <td>100.953125</td>\n",
       "      <td>2206.956365</td>\n",
       "    </tr>\n",
       "    <tr>\n",
       "      <th>4</th>\n",
       "      <td>11.248980</td>\n",
       "      <td>373.714286</td>\n",
       "      <td>7146.642163</td>\n",
       "    </tr>\n",
       "    <tr>\n",
       "      <th>5</th>\n",
       "      <td>9.434783</td>\n",
       "      <td>901.739130</td>\n",
       "      <td>23533.343478</td>\n",
       "    </tr>\n",
       "    <tr>\n",
       "      <th>6</th>\n",
       "      <td>6.333333</td>\n",
       "      <td>1363.000000</td>\n",
       "      <td>84473.293333</td>\n",
       "    </tr>\n",
       "    <tr>\n",
       "      <th>7</th>\n",
       "      <td>2.666667</td>\n",
       "      <td>3447.000000</td>\n",
       "      <td>97413.633333</td>\n",
       "    </tr>\n",
       "    <tr>\n",
       "      <th>8</th>\n",
       "      <td>1.000000</td>\n",
       "      <td>3994.000000</td>\n",
       "      <td>206030.820000</td>\n",
       "    </tr>\n",
       "  </tbody>\n",
       "</table>\n",
       "</div>"
      ],
      "text/plain": [
       "               Recency    Frequency         MValue\n",
       "TotalScore                                        \n",
       "0           317.009901    28.198020     429.330396\n",
       "1           184.044944    41.539326     932.029556\n",
       "2            71.919753    72.009259    1375.928673\n",
       "3            16.259943   100.953125    2206.956365\n",
       "4            11.248980   373.714286    7146.642163\n",
       "5             9.434783   901.739130   23533.343478\n",
       "6             6.333333  1363.000000   84473.293333\n",
       "7             2.666667  3447.000000   97413.633333\n",
       "8             1.000000  3994.000000  206030.820000"
      ]
     },
     "execution_count": 136,
     "metadata": {},
     "output_type": "execute_result"
    }
   ],
   "source": [
    "RFM.groupby('TotalScore')[['Recency', 'Frequency', 'MValue']].mean()"
   ]
  },
  {
   "cell_type": "code",
   "execution_count": 137,
   "metadata": {},
   "outputs": [],
   "source": [
    "RFM['ClientValue']=RFM.TotalScore"
   ]
  },
  {
   "cell_type": "code",
   "execution_count": 139,
   "metadata": {},
   "outputs": [],
   "source": [
    "RFM.ClientValue.replace({8:'High', 7:'High',6:'High',\n",
    "                         5:'Medium', 4:'Medium',3:'Medium',\n",
    "                         2:'Low', 1:'Low', 0:'Low'},inplace=True)"
   ]
  },
  {
   "cell_type": "code",
   "execution_count": 140,
   "metadata": {},
   "outputs": [
    {
     "data": {
      "text/html": [
       "<div>\n",
       "<style scoped>\n",
       "    .dataframe tbody tr th:only-of-type {\n",
       "        vertical-align: middle;\n",
       "    }\n",
       "\n",
       "    .dataframe tbody tr th {\n",
       "        vertical-align: top;\n",
       "    }\n",
       "\n",
       "    .dataframe thead th {\n",
       "        text-align: right;\n",
       "    }\n",
       "</style>\n",
       "<table border=\"1\" class=\"dataframe\">\n",
       "  <thead>\n",
       "    <tr style=\"text-align: right;\">\n",
       "      <th></th>\n",
       "      <th>CustomerID</th>\n",
       "      <th>InvoiceDateMax</th>\n",
       "      <th>Recency</th>\n",
       "      <th>Frequency</th>\n",
       "      <th>MValue</th>\n",
       "      <th>RecCluster</th>\n",
       "      <th>FreqCluster</th>\n",
       "      <th>MValCluster</th>\n",
       "      <th>TotalScore</th>\n",
       "      <th>ClientValue</th>\n",
       "    </tr>\n",
       "  </thead>\n",
       "  <tbody>\n",
       "    <tr>\n",
       "      <th>0</th>\n",
       "      <td>12346.0</td>\n",
       "      <td>2011-01-18</td>\n",
       "      <td>325</td>\n",
       "      <td>2</td>\n",
       "      <td>0.00</td>\n",
       "      <td>0</td>\n",
       "      <td>0</td>\n",
       "      <td>0</td>\n",
       "      <td>0</td>\n",
       "      <td>Low</td>\n",
       "    </tr>\n",
       "    <tr>\n",
       "      <th>1</th>\n",
       "      <td>12352.0</td>\n",
       "      <td>2011-11-03</td>\n",
       "      <td>36</td>\n",
       "      <td>95</td>\n",
       "      <td>1545.41</td>\n",
       "      <td>3</td>\n",
       "      <td>0</td>\n",
       "      <td>0</td>\n",
       "      <td>3</td>\n",
       "      <td>Low</td>\n",
       "    </tr>\n",
       "    <tr>\n",
       "      <th>2</th>\n",
       "      <td>12359.0</td>\n",
       "      <td>2011-12-02</td>\n",
       "      <td>7</td>\n",
       "      <td>254</td>\n",
       "      <td>6245.53</td>\n",
       "      <td>3</td>\n",
       "      <td>1</td>\n",
       "      <td>0</td>\n",
       "      <td>4</td>\n",
       "      <td>Medium</td>\n",
       "    </tr>\n",
       "    <tr>\n",
       "      <th>3</th>\n",
       "      <td>12362.0</td>\n",
       "      <td>2011-12-06</td>\n",
       "      <td>3</td>\n",
       "      <td>274</td>\n",
       "      <td>5154.58</td>\n",
       "      <td>3</td>\n",
       "      <td>1</td>\n",
       "      <td>0</td>\n",
       "      <td>4</td>\n",
       "      <td>Medium</td>\n",
       "    </tr>\n",
       "    <tr>\n",
       "      <th>4</th>\n",
       "      <td>12365.0</td>\n",
       "      <td>2011-02-21</td>\n",
       "      <td>291</td>\n",
       "      <td>23</td>\n",
       "      <td>320.69</td>\n",
       "      <td>0</td>\n",
       "      <td>0</td>\n",
       "      <td>0</td>\n",
       "      <td>0</td>\n",
       "      <td>Low</td>\n",
       "    </tr>\n",
       "  </tbody>\n",
       "</table>\n",
       "</div>"
      ],
      "text/plain": [
       "   CustomerID InvoiceDateMax  Recency  Frequency   MValue  RecCluster  \\\n",
       "0     12346.0     2011-01-18      325          2     0.00           0   \n",
       "1     12352.0     2011-11-03       36         95  1545.41           3   \n",
       "2     12359.0     2011-12-02        7        254  6245.53           3   \n",
       "3     12362.0     2011-12-06        3        274  5154.58           3   \n",
       "4     12365.0     2011-02-21      291         23   320.69           0   \n",
       "\n",
       "   FreqCluster  MValCluster  TotalScore ClientValue  \n",
       "0            0            0           0         Low  \n",
       "1            0            0           3         Low  \n",
       "2            1            0           4      Medium  \n",
       "3            1            0           4      Medium  \n",
       "4            0            0           0         Low  "
      ]
     },
     "execution_count": 140,
     "metadata": {},
     "output_type": "execute_result"
    }
   ],
   "source": [
    "RFM.head()"
   ]
  },
  {
   "cell_type": "code",
   "execution_count": 141,
   "metadata": {},
   "outputs": [
    {
     "data": {
      "text/plain": [
       "<seaborn.axisgrid.FacetGrid at 0x2786eb708c8>"
      ]
     },
     "execution_count": 141,
     "metadata": {},
     "output_type": "execute_result"
    },
    {
     "data": {
      "image/png": "[encoded data removed]",
      "text/plain": [
       "<Figure size 565.6x288 with 1 Axes>"
      ]
     },
     "metadata": {
      "needs_background": "light"
     },
     "output_type": "display_data"
    }
   ],
   "source": [
    "import seaborn as sns\n",
    "sns.lmplot('Recency', 'Frequency', data=RFM, hue='ClientValue', height=4, aspect=1.7,palette='bright',fit_reg=False)"
   ]
  },
  {
   "cell_type": "code",
   "execution_count": 142,
   "metadata": {},
   "outputs": [
    {
     "data": {
      "text/plain": [
       "<seaborn.axisgrid.FacetGrid at 0x27865eb7dc8>"
      ]
     },
     "execution_count": 142,
     "metadata": {},
     "output_type": "execute_result"
    },
    {
     "data": {
      "image/png": "[encoded data removed]",
      "text/plain": [
       "<Figure size 565.6x288 with 1 Axes>"
      ]
     },
     "metadata": {
      "needs_background": "light"
     },
     "output_type": "display_data"
    }
   ],
   "source": [
    "sns.lmplot('Recency', 'MValue', data=RFM, hue='ClientValue',height=4, aspect=1.7, palette='bright',fit_reg=False)"
   ]
  },
  {
   "cell_type": "code",
   "execution_count": 143,
   "metadata": {
    "scrolled": true
   },
   "outputs": [
    {
     "data": {
      "text/plain": [
       "<seaborn.axisgrid.FacetGrid at 0x27865f117c8>"
      ]
     },
     "execution_count": 143,
     "metadata": {},
     "output_type": "execute_result"
    },
    {
     "data": {
      "image/png": "[encoded data removed]",
      "text/plain": [
       "<Figure size 565.6x288 with 1 Axes>"
      ]
     },
     "metadata": {
      "needs_background": "light"
     },
     "output_type": "display_data"
    }
   ],
   "source": [
    "sns.lmplot('Frequency', 'MValue', data=RFM, hue='ClientValue', height=4, aspect=1.7,palette='bright',fit_reg=False)"
   ]
  },
  {
   "cell_type": "code",
   "execution_count": 144,
   "metadata": {},
   "outputs": [
    {
     "data": {
      "text/html": [
       "<div>\n",
       "<style scoped>\n",
       "    .dataframe tbody tr th:only-of-type {\n",
       "        vertical-align: middle;\n",
       "    }\n",
       "\n",
       "    .dataframe tbody tr th {\n",
       "        vertical-align: top;\n",
       "    }\n",
       "\n",
       "    .dataframe thead tr th {\n",
       "        text-align: left;\n",
       "    }\n",
       "\n",
       "    .dataframe thead tr:last-of-type th {\n",
       "        text-align: right;\n",
       "    }\n",
       "</style>\n",
       "<table border=\"1\" class=\"dataframe\">\n",
       "  <thead>\n",
       "    <tr>\n",
       "      <th></th>\n",
       "      <th colspan=\"2\" halign=\"left\">Frequency</th>\n",
       "      <th>MValue</th>\n",
       "      <th>Recency</th>\n",
       "    </tr>\n",
       "    <tr>\n",
       "      <th></th>\n",
       "      <th>mean</th>\n",
       "      <th>count</th>\n",
       "      <th>mean</th>\n",
       "      <th>mean</th>\n",
       "    </tr>\n",
       "    <tr>\n",
       "      <th>TotalScore</th>\n",
       "      <th></th>\n",
       "      <th></th>\n",
       "      <th></th>\n",
       "      <th></th>\n",
       "    </tr>\n",
       "  </thead>\n",
       "  <tbody>\n",
       "    <tr>\n",
       "      <th>0</th>\n",
       "      <td>28.198020</td>\n",
       "      <td>101</td>\n",
       "      <td>429.330396</td>\n",
       "      <td>317.009901</td>\n",
       "    </tr>\n",
       "    <tr>\n",
       "      <th>1</th>\n",
       "      <td>41.539326</td>\n",
       "      <td>178</td>\n",
       "      <td>932.029556</td>\n",
       "      <td>184.044944</td>\n",
       "    </tr>\n",
       "    <tr>\n",
       "      <th>2</th>\n",
       "      <td>72.009259</td>\n",
       "      <td>324</td>\n",
       "      <td>1375.928673</td>\n",
       "      <td>71.919753</td>\n",
       "    </tr>\n",
       "    <tr>\n",
       "      <th>3</th>\n",
       "      <td>100.953125</td>\n",
       "      <td>704</td>\n",
       "      <td>2206.956365</td>\n",
       "      <td>16.259943</td>\n",
       "    </tr>\n",
       "    <tr>\n",
       "      <th>4</th>\n",
       "      <td>373.714286</td>\n",
       "      <td>245</td>\n",
       "      <td>7146.642163</td>\n",
       "      <td>11.248980</td>\n",
       "    </tr>\n",
       "    <tr>\n",
       "      <th>5</th>\n",
       "      <td>901.739130</td>\n",
       "      <td>23</td>\n",
       "      <td>23533.343478</td>\n",
       "      <td>9.434783</td>\n",
       "    </tr>\n",
       "    <tr>\n",
       "      <th>6</th>\n",
       "      <td>1363.000000</td>\n",
       "      <td>6</td>\n",
       "      <td>84473.293333</td>\n",
       "      <td>6.333333</td>\n",
       "    </tr>\n",
       "    <tr>\n",
       "      <th>7</th>\n",
       "      <td>3447.000000</td>\n",
       "      <td>6</td>\n",
       "      <td>97413.633333</td>\n",
       "      <td>2.666667</td>\n",
       "    </tr>\n",
       "    <tr>\n",
       "      <th>8</th>\n",
       "      <td>3994.000000</td>\n",
       "      <td>2</td>\n",
       "      <td>206030.820000</td>\n",
       "      <td>1.000000</td>\n",
       "    </tr>\n",
       "  </tbody>\n",
       "</table>\n",
       "</div>"
      ],
      "text/plain": [
       "              Frequency               MValue     Recency\n",
       "                   mean count           mean        mean\n",
       "TotalScore                                              \n",
       "0             28.198020   101     429.330396  317.009901\n",
       "1             41.539326   178     932.029556  184.044944\n",
       "2             72.009259   324    1375.928673   71.919753\n",
       "3            100.953125   704    2206.956365   16.259943\n",
       "4            373.714286   245    7146.642163   11.248980\n",
       "5            901.739130    23   23533.343478    9.434783\n",
       "6           1363.000000     6   84473.293333    6.333333\n",
       "7           3447.000000     6   97413.633333    2.666667\n",
       "8           3994.000000     2  206030.820000    1.000000"
      ]
     },
     "execution_count": 144,
     "metadata": {},
     "output_type": "execute_result"
    }
   ],
   "source": [
    "RFM.groupby(['TotalScore']).agg({ 'Frequency': ('mean', 'count'),  \n",
    "      'MValue': 'mean',\n",
    "      'Recency': 'mean'})"
   ]
  },
  {
   "cell_type": "markdown",
   "metadata": {},
   "source": [
    "### Customer Lifetime Value"
   ]
  },
  {
   "cell_type": "markdown",
   "metadata": {},
   "source": [
    "#### CLV=Total Gross Revenue-Total Cost. We dont have total cost so we can take MValue as CLV"
   ]
  },
  {
   "cell_type": "code",
   "execution_count": 145,
   "metadata": {},
   "outputs": [
    {
     "name": "stdout",
     "output_type": "stream",
     "text": [
      "2010-12-01 00:00:00   2011-12-09 00:00:00\n"
     ]
    }
   ],
   "source": [
    "print(df.Invoice_Date.min(),\" \", df.Invoice_Date.max())"
   ]
  },
  {
   "cell_type": "code",
   "execution_count": 146,
   "metadata": {},
   "outputs": [
    {
     "data": {
      "text/plain": [
       "Index(['key_0', 'InvoiceNo', 'StockCode', 'Description', 'Quantity',\n",
       "       'UnitPrice', 'CustomerID', 'Country', 'Invoice_Date', 'Invoice_Time',\n",
       "       'Sales', 'SumDaySale', 'Invoice_Q', 'SumQSale', 'Invoice_M',\n",
       "       'SumMonthSale', 'ClientDayCumSales', 'ClientMonthCumSales',\n",
       "       'ClientQCumSales', 'ClientDaySalesPC', 'ClientMonthSalesPC',\n",
       "       'ClientQSalesPC', 'MGpct', 'ClientTotSales', 'MultiReturns',\n",
       "       'First_InvoiceM', 'CustomerType', 'ActiveMonth'],\n",
       "      dtype='object')"
      ]
     },
     "execution_count": 146,
     "metadata": {},
     "output_type": "execute_result"
    }
   ],
   "source": [
    "#df2=pd.read_csv(r'C:\\Users\\escag\\ESProjects\\OnlineRetail\\OnlineRetail.csv', encoding='latin1')\n",
    "df2=df\n",
    "df2.columns"
   ]
  },
  {
   "cell_type": "code",
   "execution_count": 147,
   "metadata": {},
   "outputs": [],
   "source": [
    "df2=df2.drop(['Invoice_Time', 'Invoice_Q', 'SumQSale', 'ClientQCumSales','ClientQSalesPC', 'MGpct', 'ClientTotSales', 'MultiReturns',\n",
    "       'First_InvoiceM','CustomerType', 'ActiveMonth', 'ClientDaySalesPC', 'ClientMonthSalesPC', 'SumDaySale','ClientDayCumSales','SumMonthSale', 'ClientMonthCumSales' ], axis=1)"
   ]
  },
  {
   "cell_type": "code",
   "execution_count": 148,
   "metadata": {},
   "outputs": [
    {
     "data": {
      "text/plain": [
       "Index(['key_0', 'InvoiceNo', 'StockCode', 'Description', 'Quantity',\n",
       "       'UnitPrice', 'CustomerID', 'Country', 'Invoice_Date', 'Sales',\n",
       "       'Invoice_M'],\n",
       "      dtype='object')"
      ]
     },
     "execution_count": 148,
     "metadata": {},
     "output_type": "execute_result"
    }
   ],
   "source": [
    "df2.columns"
   ]
  },
  {
   "cell_type": "code",
   "execution_count": 149,
   "metadata": {},
   "outputs": [],
   "source": [
    "#Split data set into Training and test data sets. We take 3 months for the training set\n",
    "df2_X=df2[df2.Invoice_Date < \"2011-03-01\"].reset_index()\n",
    "df2_y=df2[(df2.Invoice_Date >= \"2011-03-01\") ].reset_index()"
   ]
  },
  {
   "cell_type": "markdown",
   "metadata": {},
   "source": [
    "#### Recalculate the training set's RFM"
   ]
  },
  {
   "cell_type": "code",
   "execution_count": 150,
   "metadata": {},
   "outputs": [],
   "source": [
    "# Recency\n",
    "rfm_x=df2.groupby('CustomerID')['Invoice_Date'].max().reset_index()"
   ]
  },
  {
   "cell_type": "code",
   "execution_count": 151,
   "metadata": {},
   "outputs": [],
   "source": [
    "rfm_x.rename({'Invoice_Date':'InvoiceDateMax'},axis=1, inplace=True)"
   ]
  },
  {
   "cell_type": "code",
   "execution_count": 152,
   "metadata": {},
   "outputs": [],
   "source": [
    "rfm_x['Recency']=(rfm_x['InvoiceDateMax'].max()-rfm_x['InvoiceDateMax']).dt.days"
   ]
  },
  {
   "cell_type": "code",
   "execution_count": 153,
   "metadata": {},
   "outputs": [
    {
     "data": {
      "text/html": [
       "<div>\n",
       "<style scoped>\n",
       "    .dataframe tbody tr th:only-of-type {\n",
       "        vertical-align: middle;\n",
       "    }\n",
       "\n",
       "    .dataframe tbody tr th {\n",
       "        vertical-align: top;\n",
       "    }\n",
       "\n",
       "    .dataframe thead th {\n",
       "        text-align: right;\n",
       "    }\n",
       "</style>\n",
       "<table border=\"1\" class=\"dataframe\">\n",
       "  <thead>\n",
       "    <tr style=\"text-align: right;\">\n",
       "      <th></th>\n",
       "      <th>CustomerID</th>\n",
       "      <th>InvoiceDateMax</th>\n",
       "      <th>Recency</th>\n",
       "    </tr>\n",
       "  </thead>\n",
       "  <tbody>\n",
       "    <tr>\n",
       "      <th>485</th>\n",
       "      <td>14051.0</td>\n",
       "      <td>2011-12-09</td>\n",
       "      <td>0</td>\n",
       "    </tr>\n",
       "    <tr>\n",
       "      <th>228</th>\n",
       "      <td>13069.0</td>\n",
       "      <td>2011-12-09</td>\n",
       "      <td>0</td>\n",
       "    </tr>\n",
       "    <tr>\n",
       "      <th>1361</th>\n",
       "      <td>17364.0</td>\n",
       "      <td>2011-12-09</td>\n",
       "      <td>0</td>\n",
       "    </tr>\n",
       "    <tr>\n",
       "      <th>1470</th>\n",
       "      <td>17754.0</td>\n",
       "      <td>2011-12-09</td>\n",
       "      <td>0</td>\n",
       "    </tr>\n",
       "    <tr>\n",
       "      <th>949</th>\n",
       "      <td>15694.0</td>\n",
       "      <td>2011-12-09</td>\n",
       "      <td>0</td>\n",
       "    </tr>\n",
       "    <tr>\n",
       "      <th>...</th>\n",
       "      <td>...</td>\n",
       "      <td>...</td>\n",
       "      <td>...</td>\n",
       "    </tr>\n",
       "    <tr>\n",
       "      <th>674</th>\n",
       "      <td>14679.0</td>\n",
       "      <td>2010-12-03</td>\n",
       "      <td>371</td>\n",
       "    </tr>\n",
       "    <tr>\n",
       "      <th>1406</th>\n",
       "      <td>17547.0</td>\n",
       "      <td>2010-12-02</td>\n",
       "      <td>372</td>\n",
       "    </tr>\n",
       "    <tr>\n",
       "      <th>1279</th>\n",
       "      <td>16995.0</td>\n",
       "      <td>2010-12-02</td>\n",
       "      <td>372</td>\n",
       "    </tr>\n",
       "    <tr>\n",
       "      <th>459</th>\n",
       "      <td>13958.0</td>\n",
       "      <td>2010-12-02</td>\n",
       "      <td>372</td>\n",
       "    </tr>\n",
       "    <tr>\n",
       "      <th>1017</th>\n",
       "      <td>15922.0</td>\n",
       "      <td>2010-12-02</td>\n",
       "      <td>372</td>\n",
       "    </tr>\n",
       "  </tbody>\n",
       "</table>\n",
       "<p>1589 rows × 3 columns</p>\n",
       "</div>"
      ],
      "text/plain": [
       "      CustomerID InvoiceDateMax  Recency\n",
       "485      14051.0     2011-12-09        0\n",
       "228      13069.0     2011-12-09        0\n",
       "1361     17364.0     2011-12-09        0\n",
       "1470     17754.0     2011-12-09        0\n",
       "949      15694.0     2011-12-09        0\n",
       "...          ...            ...      ...\n",
       "674      14679.0     2010-12-03      371\n",
       "1406     17547.0     2010-12-02      372\n",
       "1279     16995.0     2010-12-02      372\n",
       "459      13958.0     2010-12-02      372\n",
       "1017     15922.0     2010-12-02      372\n",
       "\n",
       "[1589 rows x 3 columns]"
      ]
     },
     "execution_count": 153,
     "metadata": {},
     "output_type": "execute_result"
    }
   ],
   "source": [
    "rfm_x.sort_values(by='Recency')"
   ]
  },
  {
   "cell_type": "code",
   "execution_count": 154,
   "metadata": {},
   "outputs": [],
   "source": [
    "## Frequency"
   ]
  },
  {
   "cell_type": "code",
   "execution_count": 155,
   "metadata": {},
   "outputs": [],
   "source": [
    "Freq_x=df2.groupby('CustomerID')['Invoice_Date'].count().reset_index()\n",
    "Freq_x.rename({'Invoice_Date': 'Frequency'}, inplace=True, axis=1)"
   ]
  },
  {
   "cell_type": "code",
   "execution_count": 156,
   "metadata": {},
   "outputs": [],
   "source": [
    "rfm_x=rfm_x.merge(Freq_x, on='CustomerID')"
   ]
  },
  {
   "cell_type": "code",
   "execution_count": 157,
   "metadata": {},
   "outputs": [],
   "source": [
    "## Revenue "
   ]
  },
  {
   "cell_type": "code",
   "execution_count": 158,
   "metadata": {},
   "outputs": [],
   "source": [
    "MValue_x=df2.groupby('CustomerID')['Sales'].sum().reset_index()\n",
    "MValue_x.rename({'Sales': 'MValue'}, inplace=True, axis=1)"
   ]
  },
  {
   "cell_type": "code",
   "execution_count": 159,
   "metadata": {},
   "outputs": [],
   "source": [
    "rfm_x=rfm_x.merge(MValue_x, on='CustomerID')"
   ]
  },
  {
   "cell_type": "code",
   "execution_count": 160,
   "metadata": {},
   "outputs": [
    {
     "data": {
      "text/html": [
       "<div>\n",
       "<style scoped>\n",
       "    .dataframe tbody tr th:only-of-type {\n",
       "        vertical-align: middle;\n",
       "    }\n",
       "\n",
       "    .dataframe tbody tr th {\n",
       "        vertical-align: top;\n",
       "    }\n",
       "\n",
       "    .dataframe thead th {\n",
       "        text-align: right;\n",
       "    }\n",
       "</style>\n",
       "<table border=\"1\" class=\"dataframe\">\n",
       "  <thead>\n",
       "    <tr style=\"text-align: right;\">\n",
       "      <th></th>\n",
       "      <th>CustomerID</th>\n",
       "      <th>InvoiceDateMax</th>\n",
       "      <th>Recency</th>\n",
       "      <th>Frequency</th>\n",
       "      <th>MValue</th>\n",
       "    </tr>\n",
       "  </thead>\n",
       "  <tbody>\n",
       "    <tr>\n",
       "      <th>0</th>\n",
       "      <td>12346.0</td>\n",
       "      <td>2011-01-18</td>\n",
       "      <td>325</td>\n",
       "      <td>2</td>\n",
       "      <td>0.000000e+00</td>\n",
       "    </tr>\n",
       "    <tr>\n",
       "      <th>1</th>\n",
       "      <td>12352.0</td>\n",
       "      <td>2011-11-03</td>\n",
       "      <td>36</td>\n",
       "      <td>95</td>\n",
       "      <td>1.545410e+03</td>\n",
       "    </tr>\n",
       "    <tr>\n",
       "      <th>2</th>\n",
       "      <td>12359.0</td>\n",
       "      <td>2011-12-02</td>\n",
       "      <td>7</td>\n",
       "      <td>254</td>\n",
       "      <td>6.245530e+03</td>\n",
       "    </tr>\n",
       "    <tr>\n",
       "      <th>3</th>\n",
       "      <td>12362.0</td>\n",
       "      <td>2011-12-06</td>\n",
       "      <td>3</td>\n",
       "      <td>274</td>\n",
       "      <td>5.154580e+03</td>\n",
       "    </tr>\n",
       "    <tr>\n",
       "      <th>4</th>\n",
       "      <td>12365.0</td>\n",
       "      <td>2011-02-21</td>\n",
       "      <td>291</td>\n",
       "      <td>23</td>\n",
       "      <td>3.206900e+02</td>\n",
       "    </tr>\n",
       "    <tr>\n",
       "      <th>...</th>\n",
       "      <td>...</td>\n",
       "      <td>...</td>\n",
       "      <td>...</td>\n",
       "      <td>...</td>\n",
       "      <td>...</td>\n",
       "    </tr>\n",
       "    <tr>\n",
       "      <th>1584</th>\n",
       "      <td>18272.0</td>\n",
       "      <td>2011-12-07</td>\n",
       "      <td>2</td>\n",
       "      <td>170</td>\n",
       "      <td>3.064780e+03</td>\n",
       "    </tr>\n",
       "    <tr>\n",
       "      <th>1585</th>\n",
       "      <td>18274.0</td>\n",
       "      <td>2011-11-22</td>\n",
       "      <td>17</td>\n",
       "      <td>22</td>\n",
       "      <td>1.243450e-14</td>\n",
       "    </tr>\n",
       "    <tr>\n",
       "      <th>1586</th>\n",
       "      <td>18276.0</td>\n",
       "      <td>2011-11-18</td>\n",
       "      <td>21</td>\n",
       "      <td>16</td>\n",
       "      <td>3.233600e+02</td>\n",
       "    </tr>\n",
       "    <tr>\n",
       "      <th>1587</th>\n",
       "      <td>18277.0</td>\n",
       "      <td>2011-10-12</td>\n",
       "      <td>58</td>\n",
       "      <td>9</td>\n",
       "      <td>9.763000e+01</td>\n",
       "    </tr>\n",
       "    <tr>\n",
       "      <th>1588</th>\n",
       "      <td>18282.0</td>\n",
       "      <td>2011-12-02</td>\n",
       "      <td>7</td>\n",
       "      <td>13</td>\n",
       "      <td>1.766000e+02</td>\n",
       "    </tr>\n",
       "  </tbody>\n",
       "</table>\n",
       "<p>1589 rows × 5 columns</p>\n",
       "</div>"
      ],
      "text/plain": [
       "      CustomerID InvoiceDateMax  Recency  Frequency        MValue\n",
       "0        12346.0     2011-01-18      325          2  0.000000e+00\n",
       "1        12352.0     2011-11-03       36         95  1.545410e+03\n",
       "2        12359.0     2011-12-02        7        254  6.245530e+03\n",
       "3        12362.0     2011-12-06        3        274  5.154580e+03\n",
       "4        12365.0     2011-02-21      291         23  3.206900e+02\n",
       "...          ...            ...      ...        ...           ...\n",
       "1584     18272.0     2011-12-07        2        170  3.064780e+03\n",
       "1585     18274.0     2011-11-22       17         22  1.243450e-14\n",
       "1586     18276.0     2011-11-18       21         16  3.233600e+02\n",
       "1587     18277.0     2011-10-12       58          9  9.763000e+01\n",
       "1588     18282.0     2011-12-02        7         13  1.766000e+02\n",
       "\n",
       "[1589 rows x 5 columns]"
      ]
     },
     "execution_count": 160,
     "metadata": {},
     "output_type": "execute_result"
    }
   ],
   "source": [
    "rfm_x"
   ]
  },
  {
   "cell_type": "code",
   "execution_count": 162,
   "metadata": {},
   "outputs": [],
   "source": [
    "# create recency clusters\n",
    "km=KMeans(n_clusters=4)\n",
    "km.fit(rfm_x[['Recency']])\n",
    "rfm_x['RecCluster'] =km.predict(rfm_x[['Recency']])"
   ]
  },
  {
   "cell_type": "code",
   "execution_count": 163,
   "metadata": {},
   "outputs": [],
   "source": [
    "# create frequency clusters\n",
    "km=KMeans(n_clusters=4)\n",
    "km.fit(rfm_x[['Frequency']])\n",
    "rfm_x['FreqCluster'] =km.predict(rfm_x[['Frequency']])"
   ]
  },
  {
   "cell_type": "code",
   "execution_count": 164,
   "metadata": {},
   "outputs": [],
   "source": [
    "# create value clusters\n",
    "km=KMeans(n_clusters=4)\n",
    "km.fit(rfm_x[['MValue']])\n",
    "rfm_x['MValCluster'] =km.predict(rfm_x[['MValue']])"
   ]
  },
  {
   "cell_type": "code",
   "execution_count": 165,
   "metadata": {
    "scrolled": true
   },
   "outputs": [
    {
     "data": {
      "text/html": [
       "<div>\n",
       "<style scoped>\n",
       "    .dataframe tbody tr th:only-of-type {\n",
       "        vertical-align: middle;\n",
       "    }\n",
       "\n",
       "    .dataframe tbody tr th {\n",
       "        vertical-align: top;\n",
       "    }\n",
       "\n",
       "    .dataframe thead th {\n",
       "        text-align: right;\n",
       "    }\n",
       "</style>\n",
       "<table border=\"1\" class=\"dataframe\">\n",
       "  <thead>\n",
       "    <tr style=\"text-align: right;\">\n",
       "      <th></th>\n",
       "      <th>count</th>\n",
       "      <th>mean</th>\n",
       "      <th>std</th>\n",
       "      <th>min</th>\n",
       "      <th>25%</th>\n",
       "      <th>50%</th>\n",
       "      <th>75%</th>\n",
       "      <th>max</th>\n",
       "    </tr>\n",
       "    <tr>\n",
       "      <th>MValCluster</th>\n",
       "      <th></th>\n",
       "      <th></th>\n",
       "      <th></th>\n",
       "      <th></th>\n",
       "      <th></th>\n",
       "      <th></th>\n",
       "      <th></th>\n",
       "      <th></th>\n",
       "    </tr>\n",
       "  </thead>\n",
       "  <tbody>\n",
       "    <tr>\n",
       "      <th>0</th>\n",
       "      <td>1556.0</td>\n",
       "      <td>2406.601094</td>\n",
       "      <td>2992.443680</td>\n",
       "      <td>-4287.63</td>\n",
       "      <td>605.3075</td>\n",
       "      <td>1417.265</td>\n",
       "      <td>3005.4675</td>\n",
       "      <td>21535.90</td>\n",
       "    </tr>\n",
       "    <tr>\n",
       "      <th>1</th>\n",
       "      <td>2.0</td>\n",
       "      <td>267963.755000</td>\n",
       "      <td>16299.186073</td>\n",
       "      <td>256438.49</td>\n",
       "      <td>262201.1225</td>\n",
       "      <td>267963.755</td>\n",
       "      <td>273726.3875</td>\n",
       "      <td>279489.02</td>\n",
       "    </tr>\n",
       "    <tr>\n",
       "      <th>2</th>\n",
       "      <td>5.0</td>\n",
       "      <td>129057.952000</td>\n",
       "      <td>36658.292209</td>\n",
       "      <td>88125.38</td>\n",
       "      <td>113384.1400</td>\n",
       "      <td>123725.450</td>\n",
       "      <td>132572.6200</td>\n",
       "      <td>187482.17</td>\n",
       "    </tr>\n",
       "    <tr>\n",
       "      <th>3</th>\n",
       "      <td>26.0</td>\n",
       "      <td>41478.871538</td>\n",
       "      <td>13270.137224</td>\n",
       "      <td>25748.35</td>\n",
       "      <td>29379.2800</td>\n",
       "      <td>35078.555</td>\n",
       "      <td>52519.0600</td>\n",
       "      <td>65892.08</td>\n",
       "    </tr>\n",
       "  </tbody>\n",
       "</table>\n",
       "</div>"
      ],
      "text/plain": [
       "              count           mean           std        min          25%  \\\n",
       "MValCluster                                                                \n",
       "0            1556.0    2406.601094   2992.443680   -4287.63     605.3075   \n",
       "1               2.0  267963.755000  16299.186073  256438.49  262201.1225   \n",
       "2               5.0  129057.952000  36658.292209   88125.38  113384.1400   \n",
       "3              26.0   41478.871538  13270.137224   25748.35   29379.2800   \n",
       "\n",
       "                    50%          75%        max  \n",
       "MValCluster                                      \n",
       "0              1417.265    3005.4675   21535.90  \n",
       "1            267963.755  273726.3875  279489.02  \n",
       "2            123725.450  132572.6200  187482.17  \n",
       "3             35078.555   52519.0600   65892.08  "
      ]
     },
     "execution_count": 165,
     "metadata": {},
     "output_type": "execute_result"
    }
   ],
   "source": [
    "rfm_x.groupby('MValCluster')['MValue'].describe()\n"
   ]
  },
  {
   "cell_type": "code",
   "execution_count": 166,
   "metadata": {},
   "outputs": [],
   "source": [
    "reorder(rfm_x, 'MValCluster','MValue', 'asc')"
   ]
  },
  {
   "cell_type": "code",
   "execution_count": 167,
   "metadata": {
    "scrolled": true
   },
   "outputs": [
    {
     "data": {
      "text/html": [
       "<div>\n",
       "<style scoped>\n",
       "    .dataframe tbody tr th:only-of-type {\n",
       "        vertical-align: middle;\n",
       "    }\n",
       "\n",
       "    .dataframe tbody tr th {\n",
       "        vertical-align: top;\n",
       "    }\n",
       "\n",
       "    .dataframe thead th {\n",
       "        text-align: right;\n",
       "    }\n",
       "</style>\n",
       "<table border=\"1\" class=\"dataframe\">\n",
       "  <thead>\n",
       "    <tr style=\"text-align: right;\">\n",
       "      <th></th>\n",
       "      <th>count</th>\n",
       "      <th>mean</th>\n",
       "      <th>std</th>\n",
       "      <th>min</th>\n",
       "      <th>25%</th>\n",
       "      <th>50%</th>\n",
       "      <th>75%</th>\n",
       "      <th>max</th>\n",
       "    </tr>\n",
       "    <tr>\n",
       "      <th>MValCluster</th>\n",
       "      <th></th>\n",
       "      <th></th>\n",
       "      <th></th>\n",
       "      <th></th>\n",
       "      <th></th>\n",
       "      <th></th>\n",
       "      <th></th>\n",
       "      <th></th>\n",
       "    </tr>\n",
       "  </thead>\n",
       "  <tbody>\n",
       "    <tr>\n",
       "      <th>0</th>\n",
       "      <td>1556.0</td>\n",
       "      <td>2406.601094</td>\n",
       "      <td>2992.443680</td>\n",
       "      <td>-4287.63</td>\n",
       "      <td>605.3075</td>\n",
       "      <td>1417.265</td>\n",
       "      <td>3005.4675</td>\n",
       "      <td>21535.90</td>\n",
       "    </tr>\n",
       "    <tr>\n",
       "      <th>1</th>\n",
       "      <td>26.0</td>\n",
       "      <td>41478.871538</td>\n",
       "      <td>13270.137224</td>\n",
       "      <td>25748.35</td>\n",
       "      <td>29379.2800</td>\n",
       "      <td>35078.555</td>\n",
       "      <td>52519.0600</td>\n",
       "      <td>65892.08</td>\n",
       "    </tr>\n",
       "    <tr>\n",
       "      <th>2</th>\n",
       "      <td>5.0</td>\n",
       "      <td>129057.952000</td>\n",
       "      <td>36658.292209</td>\n",
       "      <td>88125.38</td>\n",
       "      <td>113384.1400</td>\n",
       "      <td>123725.450</td>\n",
       "      <td>132572.6200</td>\n",
       "      <td>187482.17</td>\n",
       "    </tr>\n",
       "    <tr>\n",
       "      <th>3</th>\n",
       "      <td>2.0</td>\n",
       "      <td>267963.755000</td>\n",
       "      <td>16299.186073</td>\n",
       "      <td>256438.49</td>\n",
       "      <td>262201.1225</td>\n",
       "      <td>267963.755</td>\n",
       "      <td>273726.3875</td>\n",
       "      <td>279489.02</td>\n",
       "    </tr>\n",
       "  </tbody>\n",
       "</table>\n",
       "</div>"
      ],
      "text/plain": [
       "              count           mean           std        min          25%  \\\n",
       "MValCluster                                                                \n",
       "0            1556.0    2406.601094   2992.443680   -4287.63     605.3075   \n",
       "1              26.0   41478.871538  13270.137224   25748.35   29379.2800   \n",
       "2               5.0  129057.952000  36658.292209   88125.38  113384.1400   \n",
       "3               2.0  267963.755000  16299.186073  256438.49  262201.1225   \n",
       "\n",
       "                    50%          75%        max  \n",
       "MValCluster                                      \n",
       "0              1417.265    3005.4675   21535.90  \n",
       "1             35078.555   52519.0600   65892.08  \n",
       "2            123725.450  132572.6200  187482.17  \n",
       "3            267963.755  273726.3875  279489.02  "
      ]
     },
     "execution_count": 167,
     "metadata": {},
     "output_type": "execute_result"
    }
   ],
   "source": [
    "rfm_x.groupby('MValCluster')['MValue'].describe()\n"
   ]
  },
  {
   "cell_type": "code",
   "execution_count": 168,
   "metadata": {},
   "outputs": [
    {
     "data": {
      "text/html": [
       "<div>\n",
       "<style scoped>\n",
       "    .dataframe tbody tr th:only-of-type {\n",
       "        vertical-align: middle;\n",
       "    }\n",
       "\n",
       "    .dataframe tbody tr th {\n",
       "        vertical-align: top;\n",
       "    }\n",
       "\n",
       "    .dataframe thead th {\n",
       "        text-align: right;\n",
       "    }\n",
       "</style>\n",
       "<table border=\"1\" class=\"dataframe\">\n",
       "  <thead>\n",
       "    <tr style=\"text-align: right;\">\n",
       "      <th></th>\n",
       "      <th>count</th>\n",
       "      <th>mean</th>\n",
       "      <th>std</th>\n",
       "      <th>min</th>\n",
       "      <th>25%</th>\n",
       "      <th>50%</th>\n",
       "      <th>75%</th>\n",
       "      <th>max</th>\n",
       "    </tr>\n",
       "    <tr>\n",
       "      <th>FreqCluster</th>\n",
       "      <th></th>\n",
       "      <th></th>\n",
       "      <th></th>\n",
       "      <th></th>\n",
       "      <th></th>\n",
       "      <th></th>\n",
       "      <th></th>\n",
       "      <th></th>\n",
       "    </tr>\n",
       "  </thead>\n",
       "  <tbody>\n",
       "    <tr>\n",
       "      <th>0</th>\n",
       "      <td>1299.0</td>\n",
       "      <td>77.115473</td>\n",
       "      <td>58.040371</td>\n",
       "      <td>1.0</td>\n",
       "      <td>28.00</td>\n",
       "      <td>65.0</td>\n",
       "      <td>116.0</td>\n",
       "      <td>230.0</td>\n",
       "    </tr>\n",
       "    <tr>\n",
       "      <th>1</th>\n",
       "      <td>4.0</td>\n",
       "      <td>5914.000000</td>\n",
       "      <td>1473.845537</td>\n",
       "      <td>4642.0</td>\n",
       "      <td>5006.50</td>\n",
       "      <td>5515.5</td>\n",
       "      <td>6423.0</td>\n",
       "      <td>7983.0</td>\n",
       "    </tr>\n",
       "    <tr>\n",
       "      <th>2</th>\n",
       "      <td>20.0</td>\n",
       "      <td>1398.300000</td>\n",
       "      <td>524.547434</td>\n",
       "      <td>925.0</td>\n",
       "      <td>1072.25</td>\n",
       "      <td>1162.5</td>\n",
       "      <td>1541.0</td>\n",
       "      <td>2782.0</td>\n",
       "    </tr>\n",
       "    <tr>\n",
       "      <th>3</th>\n",
       "      <td>266.0</td>\n",
       "      <td>383.447368</td>\n",
       "      <td>132.269504</td>\n",
       "      <td>231.0</td>\n",
       "      <td>280.00</td>\n",
       "      <td>345.0</td>\n",
       "      <td>452.0</td>\n",
       "      <td>872.0</td>\n",
       "    </tr>\n",
       "  </tbody>\n",
       "</table>\n",
       "</div>"
      ],
      "text/plain": [
       "              count         mean          std     min      25%     50%  \\\n",
       "FreqCluster                                                              \n",
       "0            1299.0    77.115473    58.040371     1.0    28.00    65.0   \n",
       "1               4.0  5914.000000  1473.845537  4642.0  5006.50  5515.5   \n",
       "2              20.0  1398.300000   524.547434   925.0  1072.25  1162.5   \n",
       "3             266.0   383.447368   132.269504   231.0   280.00   345.0   \n",
       "\n",
       "                75%     max  \n",
       "FreqCluster                  \n",
       "0             116.0   230.0  \n",
       "1            6423.0  7983.0  \n",
       "2            1541.0  2782.0  \n",
       "3             452.0   872.0  "
      ]
     },
     "execution_count": 168,
     "metadata": {},
     "output_type": "execute_result"
    }
   ],
   "source": [
    "rfm_x.groupby('FreqCluster')['Frequency'].describe()"
   ]
  },
  {
   "cell_type": "code",
   "execution_count": 169,
   "metadata": {},
   "outputs": [],
   "source": [
    "reorder(rfm_x, 'FreqCluster','Frequency', 'asc')"
   ]
  },
  {
   "cell_type": "code",
   "execution_count": 170,
   "metadata": {},
   "outputs": [
    {
     "data": {
      "text/html": [
       "<div>\n",
       "<style scoped>\n",
       "    .dataframe tbody tr th:only-of-type {\n",
       "        vertical-align: middle;\n",
       "    }\n",
       "\n",
       "    .dataframe tbody tr th {\n",
       "        vertical-align: top;\n",
       "    }\n",
       "\n",
       "    .dataframe thead th {\n",
       "        text-align: right;\n",
       "    }\n",
       "</style>\n",
       "<table border=\"1\" class=\"dataframe\">\n",
       "  <thead>\n",
       "    <tr style=\"text-align: right;\">\n",
       "      <th></th>\n",
       "      <th>count</th>\n",
       "      <th>mean</th>\n",
       "      <th>std</th>\n",
       "      <th>min</th>\n",
       "      <th>25%</th>\n",
       "      <th>50%</th>\n",
       "      <th>75%</th>\n",
       "      <th>max</th>\n",
       "    </tr>\n",
       "    <tr>\n",
       "      <th>FreqCluster</th>\n",
       "      <th></th>\n",
       "      <th></th>\n",
       "      <th></th>\n",
       "      <th></th>\n",
       "      <th></th>\n",
       "      <th></th>\n",
       "      <th></th>\n",
       "      <th></th>\n",
       "    </tr>\n",
       "  </thead>\n",
       "  <tbody>\n",
       "    <tr>\n",
       "      <th>0</th>\n",
       "      <td>1299.0</td>\n",
       "      <td>77.115473</td>\n",
       "      <td>58.040371</td>\n",
       "      <td>1.0</td>\n",
       "      <td>28.00</td>\n",
       "      <td>65.0</td>\n",
       "      <td>116.0</td>\n",
       "      <td>230.0</td>\n",
       "    </tr>\n",
       "    <tr>\n",
       "      <th>1</th>\n",
       "      <td>266.0</td>\n",
       "      <td>383.447368</td>\n",
       "      <td>132.269504</td>\n",
       "      <td>231.0</td>\n",
       "      <td>280.00</td>\n",
       "      <td>345.0</td>\n",
       "      <td>452.0</td>\n",
       "      <td>872.0</td>\n",
       "    </tr>\n",
       "    <tr>\n",
       "      <th>2</th>\n",
       "      <td>20.0</td>\n",
       "      <td>1398.300000</td>\n",
       "      <td>524.547434</td>\n",
       "      <td>925.0</td>\n",
       "      <td>1072.25</td>\n",
       "      <td>1162.5</td>\n",
       "      <td>1541.0</td>\n",
       "      <td>2782.0</td>\n",
       "    </tr>\n",
       "    <tr>\n",
       "      <th>3</th>\n",
       "      <td>4.0</td>\n",
       "      <td>5914.000000</td>\n",
       "      <td>1473.845537</td>\n",
       "      <td>4642.0</td>\n",
       "      <td>5006.50</td>\n",
       "      <td>5515.5</td>\n",
       "      <td>6423.0</td>\n",
       "      <td>7983.0</td>\n",
       "    </tr>\n",
       "  </tbody>\n",
       "</table>\n",
       "</div>"
      ],
      "text/plain": [
       "              count         mean          std     min      25%     50%  \\\n",
       "FreqCluster                                                              \n",
       "0            1299.0    77.115473    58.040371     1.0    28.00    65.0   \n",
       "1             266.0   383.447368   132.269504   231.0   280.00   345.0   \n",
       "2              20.0  1398.300000   524.547434   925.0  1072.25  1162.5   \n",
       "3               4.0  5914.000000  1473.845537  4642.0  5006.50  5515.5   \n",
       "\n",
       "                75%     max  \n",
       "FreqCluster                  \n",
       "0             116.0   230.0  \n",
       "1             452.0   872.0  \n",
       "2            1541.0  2782.0  \n",
       "3            6423.0  7983.0  "
      ]
     },
     "execution_count": 170,
     "metadata": {},
     "output_type": "execute_result"
    }
   ],
   "source": [
    "rfm_x.groupby('FreqCluster')['Frequency'].describe()"
   ]
  },
  {
   "cell_type": "code",
   "execution_count": 171,
   "metadata": {
    "scrolled": true
   },
   "outputs": [
    {
     "data": {
      "text/html": [
       "<div>\n",
       "<style scoped>\n",
       "    .dataframe tbody tr th:only-of-type {\n",
       "        vertical-align: middle;\n",
       "    }\n",
       "\n",
       "    .dataframe tbody tr th {\n",
       "        vertical-align: top;\n",
       "    }\n",
       "\n",
       "    .dataframe thead th {\n",
       "        text-align: right;\n",
       "    }\n",
       "</style>\n",
       "<table border=\"1\" class=\"dataframe\">\n",
       "  <thead>\n",
       "    <tr style=\"text-align: right;\">\n",
       "      <th></th>\n",
       "      <th>count</th>\n",
       "      <th>mean</th>\n",
       "      <th>std</th>\n",
       "      <th>min</th>\n",
       "      <th>25%</th>\n",
       "      <th>50%</th>\n",
       "      <th>75%</th>\n",
       "      <th>max</th>\n",
       "    </tr>\n",
       "    <tr>\n",
       "      <th>RecCluster</th>\n",
       "      <th></th>\n",
       "      <th></th>\n",
       "      <th></th>\n",
       "      <th></th>\n",
       "      <th></th>\n",
       "      <th></th>\n",
       "      <th></th>\n",
       "      <th></th>\n",
       "    </tr>\n",
       "  </thead>\n",
       "  <tbody>\n",
       "    <tr>\n",
       "      <th>0</th>\n",
       "      <td>984.0</td>\n",
       "      <td>14.343496</td>\n",
       "      <td>11.712906</td>\n",
       "      <td>0.0</td>\n",
       "      <td>4.00</td>\n",
       "      <td>10.5</td>\n",
       "      <td>22.25</td>\n",
       "      <td>43.0</td>\n",
       "    </tr>\n",
       "    <tr>\n",
       "      <th>1</th>\n",
       "      <td>176.0</td>\n",
       "      <td>184.261364</td>\n",
       "      <td>33.429668</td>\n",
       "      <td>129.0</td>\n",
       "      <td>154.00</td>\n",
       "      <td>183.0</td>\n",
       "      <td>211.00</td>\n",
       "      <td>249.0</td>\n",
       "    </tr>\n",
       "    <tr>\n",
       "      <th>2</th>\n",
       "      <td>102.0</td>\n",
       "      <td>316.862745</td>\n",
       "      <td>36.227564</td>\n",
       "      <td>252.0</td>\n",
       "      <td>290.25</td>\n",
       "      <td>312.0</td>\n",
       "      <td>357.00</td>\n",
       "      <td>372.0</td>\n",
       "    </tr>\n",
       "    <tr>\n",
       "      <th>3</th>\n",
       "      <td>327.0</td>\n",
       "      <td>72.452599</td>\n",
       "      <td>22.155129</td>\n",
       "      <td>44.0</td>\n",
       "      <td>56.00</td>\n",
       "      <td>66.0</td>\n",
       "      <td>85.00</td>\n",
       "      <td>128.0</td>\n",
       "    </tr>\n",
       "  </tbody>\n",
       "</table>\n",
       "</div>"
      ],
      "text/plain": [
       "            count        mean        std    min     25%    50%     75%    max\n",
       "RecCluster                                                                   \n",
       "0           984.0   14.343496  11.712906    0.0    4.00   10.5   22.25   43.0\n",
       "1           176.0  184.261364  33.429668  129.0  154.00  183.0  211.00  249.0\n",
       "2           102.0  316.862745  36.227564  252.0  290.25  312.0  357.00  372.0\n",
       "3           327.0   72.452599  22.155129   44.0   56.00   66.0   85.00  128.0"
      ]
     },
     "execution_count": 171,
     "metadata": {},
     "output_type": "execute_result"
    }
   ],
   "source": [
    "rfm_x.groupby('RecCluster')['Recency'].describe()"
   ]
  },
  {
   "cell_type": "code",
   "execution_count": 172,
   "metadata": {},
   "outputs": [],
   "source": [
    "reorder(rfm_x, 'RecCluster','Recency', 'des')"
   ]
  },
  {
   "cell_type": "code",
   "execution_count": 173,
   "metadata": {
    "scrolled": true
   },
   "outputs": [
    {
     "data": {
      "text/html": [
       "<div>\n",
       "<style scoped>\n",
       "    .dataframe tbody tr th:only-of-type {\n",
       "        vertical-align: middle;\n",
       "    }\n",
       "\n",
       "    .dataframe tbody tr th {\n",
       "        vertical-align: top;\n",
       "    }\n",
       "\n",
       "    .dataframe thead th {\n",
       "        text-align: right;\n",
       "    }\n",
       "</style>\n",
       "<table border=\"1\" class=\"dataframe\">\n",
       "  <thead>\n",
       "    <tr style=\"text-align: right;\">\n",
       "      <th></th>\n",
       "      <th>count</th>\n",
       "      <th>mean</th>\n",
       "      <th>std</th>\n",
       "      <th>min</th>\n",
       "      <th>25%</th>\n",
       "      <th>50%</th>\n",
       "      <th>75%</th>\n",
       "      <th>max</th>\n",
       "    </tr>\n",
       "    <tr>\n",
       "      <th>RecCluster</th>\n",
       "      <th></th>\n",
       "      <th></th>\n",
       "      <th></th>\n",
       "      <th></th>\n",
       "      <th></th>\n",
       "      <th></th>\n",
       "      <th></th>\n",
       "      <th></th>\n",
       "    </tr>\n",
       "  </thead>\n",
       "  <tbody>\n",
       "    <tr>\n",
       "      <th>0</th>\n",
       "      <td>102.0</td>\n",
       "      <td>316.862745</td>\n",
       "      <td>36.227564</td>\n",
       "      <td>252.0</td>\n",
       "      <td>290.25</td>\n",
       "      <td>312.0</td>\n",
       "      <td>357.00</td>\n",
       "      <td>372.0</td>\n",
       "    </tr>\n",
       "    <tr>\n",
       "      <th>1</th>\n",
       "      <td>176.0</td>\n",
       "      <td>184.261364</td>\n",
       "      <td>33.429668</td>\n",
       "      <td>129.0</td>\n",
       "      <td>154.00</td>\n",
       "      <td>183.0</td>\n",
       "      <td>211.00</td>\n",
       "      <td>249.0</td>\n",
       "    </tr>\n",
       "    <tr>\n",
       "      <th>2</th>\n",
       "      <td>327.0</td>\n",
       "      <td>72.452599</td>\n",
       "      <td>22.155129</td>\n",
       "      <td>44.0</td>\n",
       "      <td>56.00</td>\n",
       "      <td>66.0</td>\n",
       "      <td>85.00</td>\n",
       "      <td>128.0</td>\n",
       "    </tr>\n",
       "    <tr>\n",
       "      <th>3</th>\n",
       "      <td>984.0</td>\n",
       "      <td>14.343496</td>\n",
       "      <td>11.712906</td>\n",
       "      <td>0.0</td>\n",
       "      <td>4.00</td>\n",
       "      <td>10.5</td>\n",
       "      <td>22.25</td>\n",
       "      <td>43.0</td>\n",
       "    </tr>\n",
       "  </tbody>\n",
       "</table>\n",
       "</div>"
      ],
      "text/plain": [
       "            count        mean        std    min     25%    50%     75%    max\n",
       "RecCluster                                                                   \n",
       "0           102.0  316.862745  36.227564  252.0  290.25  312.0  357.00  372.0\n",
       "1           176.0  184.261364  33.429668  129.0  154.00  183.0  211.00  249.0\n",
       "2           327.0   72.452599  22.155129   44.0   56.00   66.0   85.00  128.0\n",
       "3           984.0   14.343496  11.712906    0.0    4.00   10.5   22.25   43.0"
      ]
     },
     "execution_count": 173,
     "metadata": {},
     "output_type": "execute_result"
    }
   ],
   "source": [
    "rfm_x.groupby('RecCluster')['Recency'].describe()"
   ]
  },
  {
   "cell_type": "code",
   "execution_count": 174,
   "metadata": {},
   "outputs": [],
   "source": [
    "rfm_x['TotalScore']=rfm_x.RecCluster  + rfm_x.FreqCluster + rfm_x.MValCluster"
   ]
  },
  {
   "cell_type": "code",
   "execution_count": 175,
   "metadata": {},
   "outputs": [
    {
     "data": {
      "text/html": [
       "<div>\n",
       "<style scoped>\n",
       "    .dataframe tbody tr th:only-of-type {\n",
       "        vertical-align: middle;\n",
       "    }\n",
       "\n",
       "    .dataframe tbody tr th {\n",
       "        vertical-align: top;\n",
       "    }\n",
       "\n",
       "    .dataframe thead th {\n",
       "        text-align: right;\n",
       "    }\n",
       "</style>\n",
       "<table border=\"1\" class=\"dataframe\">\n",
       "  <thead>\n",
       "    <tr style=\"text-align: right;\">\n",
       "      <th></th>\n",
       "      <th>Recency</th>\n",
       "      <th>Frequency</th>\n",
       "      <th>MValue</th>\n",
       "    </tr>\n",
       "    <tr>\n",
       "      <th>TotalScore</th>\n",
       "      <th></th>\n",
       "      <th></th>\n",
       "      <th></th>\n",
       "    </tr>\n",
       "  </thead>\n",
       "  <tbody>\n",
       "    <tr>\n",
       "      <th>0</th>\n",
       "      <td>101</td>\n",
       "      <td>101</td>\n",
       "      <td>101</td>\n",
       "    </tr>\n",
       "    <tr>\n",
       "      <th>1</th>\n",
       "      <td>174</td>\n",
       "      <td>174</td>\n",
       "      <td>174</td>\n",
       "    </tr>\n",
       "    <tr>\n",
       "      <th>2</th>\n",
       "      <td>318</td>\n",
       "      <td>318</td>\n",
       "      <td>318</td>\n",
       "    </tr>\n",
       "    <tr>\n",
       "      <th>3</th>\n",
       "      <td>713</td>\n",
       "      <td>713</td>\n",
       "      <td>713</td>\n",
       "    </tr>\n",
       "    <tr>\n",
       "      <th>4</th>\n",
       "      <td>246</td>\n",
       "      <td>246</td>\n",
       "      <td>246</td>\n",
       "    </tr>\n",
       "    <tr>\n",
       "      <th>5</th>\n",
       "      <td>23</td>\n",
       "      <td>23</td>\n",
       "      <td>23</td>\n",
       "    </tr>\n",
       "    <tr>\n",
       "      <th>6</th>\n",
       "      <td>6</td>\n",
       "      <td>6</td>\n",
       "      <td>6</td>\n",
       "    </tr>\n",
       "    <tr>\n",
       "      <th>7</th>\n",
       "      <td>6</td>\n",
       "      <td>6</td>\n",
       "      <td>6</td>\n",
       "    </tr>\n",
       "    <tr>\n",
       "      <th>8</th>\n",
       "      <td>2</td>\n",
       "      <td>2</td>\n",
       "      <td>2</td>\n",
       "    </tr>\n",
       "  </tbody>\n",
       "</table>\n",
       "</div>"
      ],
      "text/plain": [
       "            Recency  Frequency  MValue\n",
       "TotalScore                            \n",
       "0               101        101     101\n",
       "1               174        174     174\n",
       "2               318        318     318\n",
       "3               713        713     713\n",
       "4               246        246     246\n",
       "5                23         23      23\n",
       "6                 6          6       6\n",
       "7                 6          6       6\n",
       "8                 2          2       2"
      ]
     },
     "execution_count": 175,
     "metadata": {},
     "output_type": "execute_result"
    }
   ],
   "source": [
    "rfm_x.groupby('TotalScore')[['Recency', 'Frequency', 'MValue']].count()"
   ]
  },
  {
   "cell_type": "code",
   "execution_count": 176,
   "metadata": {
    "scrolled": true
   },
   "outputs": [
    {
     "data": {
      "text/html": [
       "<div>\n",
       "<style scoped>\n",
       "    .dataframe tbody tr th:only-of-type {\n",
       "        vertical-align: middle;\n",
       "    }\n",
       "\n",
       "    .dataframe tbody tr th {\n",
       "        vertical-align: top;\n",
       "    }\n",
       "\n",
       "    .dataframe thead th {\n",
       "        text-align: right;\n",
       "    }\n",
       "</style>\n",
       "<table border=\"1\" class=\"dataframe\">\n",
       "  <thead>\n",
       "    <tr style=\"text-align: right;\">\n",
       "      <th></th>\n",
       "      <th>Recency</th>\n",
       "      <th>Frequency</th>\n",
       "      <th>MValue</th>\n",
       "    </tr>\n",
       "    <tr>\n",
       "      <th>TotalScore</th>\n",
       "      <th></th>\n",
       "      <th></th>\n",
       "      <th></th>\n",
       "    </tr>\n",
       "  </thead>\n",
       "  <tbody>\n",
       "    <tr>\n",
       "      <th>0</th>\n",
       "      <td>317.009901</td>\n",
       "      <td>28.198020</td>\n",
       "      <td>429.330396</td>\n",
       "    </tr>\n",
       "    <tr>\n",
       "      <th>1</th>\n",
       "      <td>185.344828</td>\n",
       "      <td>41.798851</td>\n",
       "      <td>940.300236</td>\n",
       "    </tr>\n",
       "    <tr>\n",
       "      <th>2</th>\n",
       "      <td>73.528302</td>\n",
       "      <td>71.955975</td>\n",
       "      <td>1372.305597</td>\n",
       "    </tr>\n",
       "    <tr>\n",
       "      <th>3</th>\n",
       "      <td>16.597475</td>\n",
       "      <td>100.085554</td>\n",
       "      <td>2188.723438</td>\n",
       "    </tr>\n",
       "    <tr>\n",
       "      <th>4</th>\n",
       "      <td>11.378049</td>\n",
       "      <td>373.333333</td>\n",
       "      <td>7137.241992</td>\n",
       "    </tr>\n",
       "    <tr>\n",
       "      <th>5</th>\n",
       "      <td>9.434783</td>\n",
       "      <td>901.739130</td>\n",
       "      <td>23533.343478</td>\n",
       "    </tr>\n",
       "    <tr>\n",
       "      <th>6</th>\n",
       "      <td>6.333333</td>\n",
       "      <td>1363.000000</td>\n",
       "      <td>84473.293333</td>\n",
       "    </tr>\n",
       "    <tr>\n",
       "      <th>7</th>\n",
       "      <td>2.666667</td>\n",
       "      <td>3447.000000</td>\n",
       "      <td>97413.633333</td>\n",
       "    </tr>\n",
       "    <tr>\n",
       "      <th>8</th>\n",
       "      <td>1.000000</td>\n",
       "      <td>3994.000000</td>\n",
       "      <td>206030.820000</td>\n",
       "    </tr>\n",
       "  </tbody>\n",
       "</table>\n",
       "</div>"
      ],
      "text/plain": [
       "               Recency    Frequency         MValue\n",
       "TotalScore                                        \n",
       "0           317.009901    28.198020     429.330396\n",
       "1           185.344828    41.798851     940.300236\n",
       "2            73.528302    71.955975    1372.305597\n",
       "3            16.597475   100.085554    2188.723438\n",
       "4            11.378049   373.333333    7137.241992\n",
       "5             9.434783   901.739130   23533.343478\n",
       "6             6.333333  1363.000000   84473.293333\n",
       "7             2.666667  3447.000000   97413.633333\n",
       "8             1.000000  3994.000000  206030.820000"
      ]
     },
     "execution_count": 176,
     "metadata": {},
     "output_type": "execute_result"
    }
   ],
   "source": [
    "rfm_x.groupby('TotalScore')[['Recency', 'Frequency', 'MValue']].mean()"
   ]
  },
  {
   "cell_type": "code",
   "execution_count": 178,
   "metadata": {},
   "outputs": [],
   "source": [
    "rfm_x['ClientValue']=rfm_x.TotalScore"
   ]
  },
  {
   "cell_type": "code",
   "execution_count": 179,
   "metadata": {},
   "outputs": [],
   "source": [
    "rfm_x.ClientValue.replace({8:'High', 7:'High', 6:'High',\n",
    "                         5:'High', 4:'Medium', 3:'Medium',\n",
    "                         2:'Low', 1:'Low', 0:'Low'},inplace=True)"
   ]
  },
  {
   "cell_type": "code",
   "execution_count": 180,
   "metadata": {},
   "outputs": [
    {
     "data": {
      "text/html": [
       "<div>\n",
       "<style scoped>\n",
       "    .dataframe tbody tr th:only-of-type {\n",
       "        vertical-align: middle;\n",
       "    }\n",
       "\n",
       "    .dataframe tbody tr th {\n",
       "        vertical-align: top;\n",
       "    }\n",
       "\n",
       "    .dataframe thead th {\n",
       "        text-align: right;\n",
       "    }\n",
       "</style>\n",
       "<table border=\"1\" class=\"dataframe\">\n",
       "  <thead>\n",
       "    <tr style=\"text-align: right;\">\n",
       "      <th></th>\n",
       "      <th>CustomerID</th>\n",
       "      <th>InvoiceDateMax</th>\n",
       "      <th>Recency</th>\n",
       "      <th>Frequency</th>\n",
       "      <th>MValue</th>\n",
       "      <th>RecCluster</th>\n",
       "      <th>FreqCluster</th>\n",
       "      <th>MValCluster</th>\n",
       "      <th>TotalScore</th>\n",
       "      <th>ClientValue</th>\n",
       "    </tr>\n",
       "  </thead>\n",
       "  <tbody>\n",
       "    <tr>\n",
       "      <th>0</th>\n",
       "      <td>12346.0</td>\n",
       "      <td>2011-01-18</td>\n",
       "      <td>325</td>\n",
       "      <td>2</td>\n",
       "      <td>0.00</td>\n",
       "      <td>0</td>\n",
       "      <td>0</td>\n",
       "      <td>0</td>\n",
       "      <td>0</td>\n",
       "      <td>Low</td>\n",
       "    </tr>\n",
       "    <tr>\n",
       "      <th>1</th>\n",
       "      <td>12352.0</td>\n",
       "      <td>2011-11-03</td>\n",
       "      <td>36</td>\n",
       "      <td>95</td>\n",
       "      <td>1545.41</td>\n",
       "      <td>3</td>\n",
       "      <td>0</td>\n",
       "      <td>0</td>\n",
       "      <td>3</td>\n",
       "      <td>Medium</td>\n",
       "    </tr>\n",
       "    <tr>\n",
       "      <th>2</th>\n",
       "      <td>12359.0</td>\n",
       "      <td>2011-12-02</td>\n",
       "      <td>7</td>\n",
       "      <td>254</td>\n",
       "      <td>6245.53</td>\n",
       "      <td>3</td>\n",
       "      <td>1</td>\n",
       "      <td>0</td>\n",
       "      <td>4</td>\n",
       "      <td>Medium</td>\n",
       "    </tr>\n",
       "    <tr>\n",
       "      <th>3</th>\n",
       "      <td>12362.0</td>\n",
       "      <td>2011-12-06</td>\n",
       "      <td>3</td>\n",
       "      <td>274</td>\n",
       "      <td>5154.58</td>\n",
       "      <td>3</td>\n",
       "      <td>1</td>\n",
       "      <td>0</td>\n",
       "      <td>4</td>\n",
       "      <td>Medium</td>\n",
       "    </tr>\n",
       "    <tr>\n",
       "      <th>4</th>\n",
       "      <td>12365.0</td>\n",
       "      <td>2011-02-21</td>\n",
       "      <td>291</td>\n",
       "      <td>23</td>\n",
       "      <td>320.69</td>\n",
       "      <td>0</td>\n",
       "      <td>0</td>\n",
       "      <td>0</td>\n",
       "      <td>0</td>\n",
       "      <td>Low</td>\n",
       "    </tr>\n",
       "  </tbody>\n",
       "</table>\n",
       "</div>"
      ],
      "text/plain": [
       "   CustomerID InvoiceDateMax  Recency  Frequency   MValue  RecCluster  \\\n",
       "0     12346.0     2011-01-18      325          2     0.00           0   \n",
       "1     12352.0     2011-11-03       36         95  1545.41           3   \n",
       "2     12359.0     2011-12-02        7        254  6245.53           3   \n",
       "3     12362.0     2011-12-06        3        274  5154.58           3   \n",
       "4     12365.0     2011-02-21      291         23   320.69           0   \n",
       "\n",
       "   FreqCluster  MValCluster  TotalScore ClientValue  \n",
       "0            0            0           0         Low  \n",
       "1            0            0           3      Medium  \n",
       "2            1            0           4      Medium  \n",
       "3            1            0           4      Medium  \n",
       "4            0            0           0         Low  "
      ]
     },
     "execution_count": 180,
     "metadata": {},
     "output_type": "execute_result"
    }
   ],
   "source": [
    "rfm_x.head()"
   ]
  },
  {
   "cell_type": "code",
   "execution_count": 181,
   "metadata": {
    "scrolled": true
   },
   "outputs": [
    {
     "data": {
      "text/plain": [
       "Index(['index', 'key_0', 'InvoiceNo', 'StockCode', 'Description', 'Quantity',\n",
       "       'UnitPrice', 'CustomerID', 'Country', 'Invoice_Date', 'Sales',\n",
       "       'Invoice_M'],\n",
       "      dtype='object')"
      ]
     },
     "execution_count": 181,
     "metadata": {},
     "output_type": "execute_result"
    }
   ],
   "source": [
    "df2_y.columns"
   ]
  },
  {
   "cell_type": "code",
   "execution_count": 237,
   "metadata": {},
   "outputs": [],
   "source": [
    "df_yUser=df2_y.groupby('CustomerID')['Sales'].sum().reset_index()"
   ]
  },
  {
   "cell_type": "code",
   "execution_count": 238,
   "metadata": {},
   "outputs": [],
   "source": [
    "df_yUser.columns=['CustomerID','y_Sales']"
   ]
  },
  {
   "cell_type": "code",
   "execution_count": 239,
   "metadata": {},
   "outputs": [
    {
     "data": {
      "text/html": [
       "<div>\n",
       "<style scoped>\n",
       "    .dataframe tbody tr th:only-of-type {\n",
       "        vertical-align: middle;\n",
       "    }\n",
       "\n",
       "    .dataframe tbody tr th {\n",
       "        vertical-align: top;\n",
       "    }\n",
       "\n",
       "    .dataframe thead th {\n",
       "        text-align: right;\n",
       "    }\n",
       "</style>\n",
       "<table border=\"1\" class=\"dataframe\">\n",
       "  <thead>\n",
       "    <tr style=\"text-align: right;\">\n",
       "      <th></th>\n",
       "      <th>CustomerID</th>\n",
       "      <th>y_Sales</th>\n",
       "    </tr>\n",
       "  </thead>\n",
       "  <tbody>\n",
       "    <tr>\n",
       "      <th>0</th>\n",
       "      <td>12352.0</td>\n",
       "      <td>1248.91</td>\n",
       "    </tr>\n",
       "    <tr>\n",
       "      <th>1</th>\n",
       "      <td>12359.0</td>\n",
       "      <td>3859.12</td>\n",
       "    </tr>\n",
       "    <tr>\n",
       "      <th>2</th>\n",
       "      <td>12362.0</td>\n",
       "      <td>4680.38</td>\n",
       "    </tr>\n",
       "    <tr>\n",
       "      <th>3</th>\n",
       "      <td>12375.0</td>\n",
       "      <td>455.42</td>\n",
       "    </tr>\n",
       "    <tr>\n",
       "      <th>4</th>\n",
       "      <td>12379.0</td>\n",
       "      <td>850.29</td>\n",
       "    </tr>\n",
       "  </tbody>\n",
       "</table>\n",
       "</div>"
      ],
      "text/plain": [
       "   CustomerID  y_Sales\n",
       "0     12352.0  1248.91\n",
       "1     12359.0  3859.12\n",
       "2     12362.0  4680.38\n",
       "3     12375.0   455.42\n",
       "4     12379.0   850.29"
      ]
     },
     "execution_count": 239,
     "metadata": {},
     "output_type": "execute_result"
    }
   ],
   "source": [
    "df_yUser.head()"
   ]
  },
  {
   "cell_type": "code",
   "execution_count": 240,
   "metadata": {},
   "outputs": [],
   "source": [
    "df_ym=pd.merge(rfm_x, df_yUser, on='CustomerID', how='left')"
   ]
  },
  {
   "cell_type": "code",
   "execution_count": 241,
   "metadata": {},
   "outputs": [
    {
     "data": {
      "text/html": [
       "<div>\n",
       "<style scoped>\n",
       "    .dataframe tbody tr th:only-of-type {\n",
       "        vertical-align: middle;\n",
       "    }\n",
       "\n",
       "    .dataframe tbody tr th {\n",
       "        vertical-align: top;\n",
       "    }\n",
       "\n",
       "    .dataframe thead th {\n",
       "        text-align: right;\n",
       "    }\n",
       "</style>\n",
       "<table border=\"1\" class=\"dataframe\">\n",
       "  <thead>\n",
       "    <tr style=\"text-align: right;\">\n",
       "      <th></th>\n",
       "      <th>CustomerID</th>\n",
       "      <th>InvoiceDateMax</th>\n",
       "      <th>Recency</th>\n",
       "      <th>Frequency</th>\n",
       "      <th>MValue</th>\n",
       "      <th>RecCluster</th>\n",
       "      <th>FreqCluster</th>\n",
       "      <th>MValCluster</th>\n",
       "      <th>TotalScore</th>\n",
       "      <th>ClientValue</th>\n",
       "      <th>y_Sales</th>\n",
       "    </tr>\n",
       "  </thead>\n",
       "  <tbody>\n",
       "    <tr>\n",
       "      <th>0</th>\n",
       "      <td>12346.0</td>\n",
       "      <td>2011-01-18</td>\n",
       "      <td>325</td>\n",
       "      <td>2</td>\n",
       "      <td>0.00</td>\n",
       "      <td>0</td>\n",
       "      <td>0</td>\n",
       "      <td>0</td>\n",
       "      <td>0</td>\n",
       "      <td>Low</td>\n",
       "      <td>NaN</td>\n",
       "    </tr>\n",
       "    <tr>\n",
       "      <th>1</th>\n",
       "      <td>12352.0</td>\n",
       "      <td>2011-11-03</td>\n",
       "      <td>36</td>\n",
       "      <td>95</td>\n",
       "      <td>1545.41</td>\n",
       "      <td>3</td>\n",
       "      <td>0</td>\n",
       "      <td>0</td>\n",
       "      <td>3</td>\n",
       "      <td>Medium</td>\n",
       "      <td>1248.91</td>\n",
       "    </tr>\n",
       "    <tr>\n",
       "      <th>2</th>\n",
       "      <td>12359.0</td>\n",
       "      <td>2011-12-02</td>\n",
       "      <td>7</td>\n",
       "      <td>254</td>\n",
       "      <td>6245.53</td>\n",
       "      <td>3</td>\n",
       "      <td>1</td>\n",
       "      <td>0</td>\n",
       "      <td>4</td>\n",
       "      <td>Medium</td>\n",
       "      <td>3859.12</td>\n",
       "    </tr>\n",
       "    <tr>\n",
       "      <th>3</th>\n",
       "      <td>12362.0</td>\n",
       "      <td>2011-12-06</td>\n",
       "      <td>3</td>\n",
       "      <td>274</td>\n",
       "      <td>5154.58</td>\n",
       "      <td>3</td>\n",
       "      <td>1</td>\n",
       "      <td>0</td>\n",
       "      <td>4</td>\n",
       "      <td>Medium</td>\n",
       "      <td>4680.38</td>\n",
       "    </tr>\n",
       "    <tr>\n",
       "      <th>4</th>\n",
       "      <td>12365.0</td>\n",
       "      <td>2011-02-21</td>\n",
       "      <td>291</td>\n",
       "      <td>23</td>\n",
       "      <td>320.69</td>\n",
       "      <td>0</td>\n",
       "      <td>0</td>\n",
       "      <td>0</td>\n",
       "      <td>0</td>\n",
       "      <td>Low</td>\n",
       "      <td>NaN</td>\n",
       "    </tr>\n",
       "  </tbody>\n",
       "</table>\n",
       "</div>"
      ],
      "text/plain": [
       "   CustomerID InvoiceDateMax  Recency  Frequency   MValue  RecCluster  \\\n",
       "0     12346.0     2011-01-18      325          2     0.00           0   \n",
       "1     12352.0     2011-11-03       36         95  1545.41           3   \n",
       "2     12359.0     2011-12-02        7        254  6245.53           3   \n",
       "3     12362.0     2011-12-06        3        274  5154.58           3   \n",
       "4     12365.0     2011-02-21      291         23   320.69           0   \n",
       "\n",
       "   FreqCluster  MValCluster  TotalScore ClientValue  y_Sales  \n",
       "0            0            0           0         Low      NaN  \n",
       "1            0            0           3      Medium  1248.91  \n",
       "2            1            0           4      Medium  3859.12  \n",
       "3            1            0           4      Medium  4680.38  \n",
       "4            0            0           0         Low      NaN  "
      ]
     },
     "execution_count": 241,
     "metadata": {},
     "output_type": "execute_result"
    }
   ],
   "source": [
    "df_ym.head()"
   ]
  },
  {
   "cell_type": "code",
   "execution_count": 242,
   "metadata": {},
   "outputs": [
    {
     "data": {
      "text/plain": [
       "CustomerID         0\n",
       "InvoiceDateMax     0\n",
       "Recency            0\n",
       "Frequency          0\n",
       "MValue             0\n",
       "RecCluster         0\n",
       "FreqCluster        0\n",
       "MValCluster        0\n",
       "TotalScore         0\n",
       "ClientValue        0\n",
       "y_Sales           80\n",
       "dtype: int64"
      ]
     },
     "execution_count": 242,
     "metadata": {},
     "output_type": "execute_result"
    }
   ],
   "source": [
    "df_ym.isnull().sum()"
   ]
  },
  {
   "cell_type": "code",
   "execution_count": 243,
   "metadata": {},
   "outputs": [],
   "source": [
    "#df_ym=df_ym.fillna(0)\n",
    "#df_ym"
   ]
  },
  {
   "cell_type": "code",
   "execution_count": 246,
   "metadata": {},
   "outputs": [
    {
     "data": {
      "image/png": "[encoded data removed]",
      "text/plain": [
       "<Figure size 720x432 with 1 Axes>"
      ]
     },
     "metadata": {
      "needs_background": "light"
     },
     "output_type": "display_data"
    }
   ],
   "source": [
    "plt.figure(figsize=(10,6))\n",
    "sns.scatterplot(data=df_ym, x='TotalScore',y='y_Sales',hue=\"ClientValue\")\n",
    "plt.legend(bbox_to_anchor=(1.05, 1), loc=2, borderaxespad=0.)\n",
    "plt.title('Client Value vs Sales', fontsize=15);"
   ]
  },
  {
   "cell_type": "code",
   "execution_count": 245,
   "metadata": {},
   "outputs": [],
   "source": [
    "# Remove outliers\n",
    "df_ym=df_ym[df_ym['y_Sales'] < df_ym['y_Sales'].quantile(0.99)]"
   ]
  },
  {
   "cell_type": "code",
   "execution_count": 247,
   "metadata": {},
   "outputs": [
    {
     "data": {
      "text/plain": [
       "KMeans(algorithm='auto', copy_x=True, init='k-means++', max_iter=300,\n",
       "       n_clusters=3, n_init=10, n_jobs=None, precompute_distances='auto',\n",
       "       random_state=None, tol=0.0001, verbose=0)"
      ]
     },
     "execution_count": 247,
     "metadata": {},
     "output_type": "execute_result"
    }
   ],
   "source": [
    "# Create CLV clusters\n",
    "km=KMeans(n_clusters=3)\n",
    "km.fit(df_ym[[\"y_Sales\"]])"
   ]
  },
  {
   "cell_type": "code",
   "execution_count": 248,
   "metadata": {},
   "outputs": [],
   "source": [
    "df_ym=df_ym.assign(CLVScore=np.nan)"
   ]
  },
  {
   "cell_type": "code",
   "execution_count": 249,
   "metadata": {
    "scrolled": true
   },
   "outputs": [],
   "source": [
    "df_ym['CLVScore']=km.predict(df_ym[['y_Sales']])"
   ]
  },
  {
   "cell_type": "code",
   "execution_count": 250,
   "metadata": {},
   "outputs": [
    {
     "data": {
      "text/html": [
       "<div>\n",
       "<style scoped>\n",
       "    .dataframe tbody tr th:only-of-type {\n",
       "        vertical-align: middle;\n",
       "    }\n",
       "\n",
       "    .dataframe tbody tr th {\n",
       "        vertical-align: top;\n",
       "    }\n",
       "\n",
       "    .dataframe thead th {\n",
       "        text-align: right;\n",
       "    }\n",
       "</style>\n",
       "<table border=\"1\" class=\"dataframe\">\n",
       "  <thead>\n",
       "    <tr style=\"text-align: right;\">\n",
       "      <th></th>\n",
       "      <th>count</th>\n",
       "      <th>mean</th>\n",
       "      <th>std</th>\n",
       "      <th>min</th>\n",
       "      <th>25%</th>\n",
       "      <th>50%</th>\n",
       "      <th>75%</th>\n",
       "      <th>max</th>\n",
       "    </tr>\n",
       "    <tr>\n",
       "      <th>CLVScore</th>\n",
       "      <th></th>\n",
       "      <th></th>\n",
       "      <th></th>\n",
       "      <th></th>\n",
       "      <th></th>\n",
       "      <th></th>\n",
       "      <th></th>\n",
       "      <th></th>\n",
       "    </tr>\n",
       "  </thead>\n",
       "  <tbody>\n",
       "    <tr>\n",
       "      <th>0</th>\n",
       "      <td>1264.0</td>\n",
       "      <td>1256.256497</td>\n",
       "      <td>1001.984548</td>\n",
       "      <td>-4287.63</td>\n",
       "      <td>473.065</td>\n",
       "      <td>1022.335</td>\n",
       "      <td>1863.5575</td>\n",
       "      <td>3886.67</td>\n",
       "    </tr>\n",
       "    <tr>\n",
       "      <th>1</th>\n",
       "      <td>22.0</td>\n",
       "      <td>24355.958636</td>\n",
       "      <td>6284.315956</td>\n",
       "      <td>15875.56</td>\n",
       "      <td>18085.085</td>\n",
       "      <td>24675.780</td>\n",
       "      <td>30197.7625</td>\n",
       "      <td>34971.02</td>\n",
       "    </tr>\n",
       "    <tr>\n",
       "      <th>2</th>\n",
       "      <td>207.0</td>\n",
       "      <td>6590.972029</td>\n",
       "      <td>2688.177709</td>\n",
       "      <td>3953.80</td>\n",
       "      <td>4519.200</td>\n",
       "      <td>5669.650</td>\n",
       "      <td>7926.9300</td>\n",
       "      <td>14547.08</td>\n",
       "    </tr>\n",
       "  </tbody>\n",
       "</table>\n",
       "</div>"
      ],
      "text/plain": [
       "           count          mean          std       min        25%        50%  \\\n",
       "CLVScore                                                                      \n",
       "0         1264.0   1256.256497  1001.984548  -4287.63    473.065   1022.335   \n",
       "1           22.0  24355.958636  6284.315956  15875.56  18085.085  24675.780   \n",
       "2          207.0   6590.972029  2688.177709   3953.80   4519.200   5669.650   \n",
       "\n",
       "                 75%       max  \n",
       "CLVScore                        \n",
       "0          1863.5575   3886.67  \n",
       "1         30197.7625  34971.02  \n",
       "2          7926.9300  14547.08  "
      ]
     },
     "execution_count": 250,
     "metadata": {},
     "output_type": "execute_result"
    }
   ],
   "source": [
    "df_ym.groupby('CLVScore')['y_Sales'].describe()"
   ]
  },
  {
   "cell_type": "code",
   "execution_count": 251,
   "metadata": {},
   "outputs": [],
   "source": [
    "df_ym['CLVScore'].replace({1:2, 2:1, 0:0},  inplace=True)"
   ]
  },
  {
   "cell_type": "code",
   "execution_count": 252,
   "metadata": {},
   "outputs": [
    {
     "data": {
      "text/html": [
       "<div>\n",
       "<style scoped>\n",
       "    .dataframe tbody tr th:only-of-type {\n",
       "        vertical-align: middle;\n",
       "    }\n",
       "\n",
       "    .dataframe tbody tr th {\n",
       "        vertical-align: top;\n",
       "    }\n",
       "\n",
       "    .dataframe thead th {\n",
       "        text-align: right;\n",
       "    }\n",
       "</style>\n",
       "<table border=\"1\" class=\"dataframe\">\n",
       "  <thead>\n",
       "    <tr style=\"text-align: right;\">\n",
       "      <th></th>\n",
       "      <th>count</th>\n",
       "      <th>mean</th>\n",
       "      <th>std</th>\n",
       "      <th>min</th>\n",
       "      <th>25%</th>\n",
       "      <th>50%</th>\n",
       "      <th>75%</th>\n",
       "      <th>max</th>\n",
       "    </tr>\n",
       "    <tr>\n",
       "      <th>CLVScore</th>\n",
       "      <th></th>\n",
       "      <th></th>\n",
       "      <th></th>\n",
       "      <th></th>\n",
       "      <th></th>\n",
       "      <th></th>\n",
       "      <th></th>\n",
       "      <th></th>\n",
       "    </tr>\n",
       "  </thead>\n",
       "  <tbody>\n",
       "    <tr>\n",
       "      <th>0</th>\n",
       "      <td>1264.0</td>\n",
       "      <td>1256.256497</td>\n",
       "      <td>1001.984548</td>\n",
       "      <td>-4287.63</td>\n",
       "      <td>473.065</td>\n",
       "      <td>1022.335</td>\n",
       "      <td>1863.5575</td>\n",
       "      <td>3886.67</td>\n",
       "    </tr>\n",
       "    <tr>\n",
       "      <th>1</th>\n",
       "      <td>207.0</td>\n",
       "      <td>6590.972029</td>\n",
       "      <td>2688.177709</td>\n",
       "      <td>3953.80</td>\n",
       "      <td>4519.200</td>\n",
       "      <td>5669.650</td>\n",
       "      <td>7926.9300</td>\n",
       "      <td>14547.08</td>\n",
       "    </tr>\n",
       "    <tr>\n",
       "      <th>2</th>\n",
       "      <td>22.0</td>\n",
       "      <td>24355.958636</td>\n",
       "      <td>6284.315956</td>\n",
       "      <td>15875.56</td>\n",
       "      <td>18085.085</td>\n",
       "      <td>24675.780</td>\n",
       "      <td>30197.7625</td>\n",
       "      <td>34971.02</td>\n",
       "    </tr>\n",
       "  </tbody>\n",
       "</table>\n",
       "</div>"
      ],
      "text/plain": [
       "           count          mean          std       min        25%        50%  \\\n",
       "CLVScore                                                                      \n",
       "0         1264.0   1256.256497  1001.984548  -4287.63    473.065   1022.335   \n",
       "1          207.0   6590.972029  2688.177709   3953.80   4519.200   5669.650   \n",
       "2           22.0  24355.958636  6284.315956  15875.56  18085.085  24675.780   \n",
       "\n",
       "                 75%       max  \n",
       "CLVScore                        \n",
       "0          1863.5575   3886.67  \n",
       "1          7926.9300  14547.08  \n",
       "2         30197.7625  34971.02  "
      ]
     },
     "execution_count": 252,
     "metadata": {},
     "output_type": "execute_result"
    }
   ],
   "source": [
    "df_ym.groupby('CLVScore')['y_Sales'].describe()"
   ]
  },
  {
   "cell_type": "code",
   "execution_count": 253,
   "metadata": {},
   "outputs": [
    {
     "data": {
      "text/html": [
       "<div>\n",
       "<style scoped>\n",
       "    .dataframe tbody tr th:only-of-type {\n",
       "        vertical-align: middle;\n",
       "    }\n",
       "\n",
       "    .dataframe tbody tr th {\n",
       "        vertical-align: top;\n",
       "    }\n",
       "\n",
       "    .dataframe thead th {\n",
       "        text-align: right;\n",
       "    }\n",
       "</style>\n",
       "<table border=\"1\" class=\"dataframe\">\n",
       "  <thead>\n",
       "    <tr style=\"text-align: right;\">\n",
       "      <th></th>\n",
       "      <th>count</th>\n",
       "      <th>mean</th>\n",
       "      <th>std</th>\n",
       "      <th>min</th>\n",
       "      <th>25%</th>\n",
       "      <th>50%</th>\n",
       "      <th>75%</th>\n",
       "      <th>max</th>\n",
       "    </tr>\n",
       "    <tr>\n",
       "      <th>CLVScore</th>\n",
       "      <th></th>\n",
       "      <th></th>\n",
       "      <th></th>\n",
       "      <th></th>\n",
       "      <th></th>\n",
       "      <th></th>\n",
       "      <th></th>\n",
       "      <th></th>\n",
       "    </tr>\n",
       "  </thead>\n",
       "  <tbody>\n",
       "    <tr>\n",
       "      <th>0</th>\n",
       "      <td>1264.0</td>\n",
       "      <td>1256.256497</td>\n",
       "      <td>1001.984548</td>\n",
       "      <td>-4287.63</td>\n",
       "      <td>473.065</td>\n",
       "      <td>1022.335</td>\n",
       "      <td>1863.5575</td>\n",
       "      <td>3886.67</td>\n",
       "    </tr>\n",
       "    <tr>\n",
       "      <th>1</th>\n",
       "      <td>207.0</td>\n",
       "      <td>6590.972029</td>\n",
       "      <td>2688.177709</td>\n",
       "      <td>3953.80</td>\n",
       "      <td>4519.200</td>\n",
       "      <td>5669.650</td>\n",
       "      <td>7926.9300</td>\n",
       "      <td>14547.08</td>\n",
       "    </tr>\n",
       "    <tr>\n",
       "      <th>2</th>\n",
       "      <td>22.0</td>\n",
       "      <td>24355.958636</td>\n",
       "      <td>6284.315956</td>\n",
       "      <td>15875.56</td>\n",
       "      <td>18085.085</td>\n",
       "      <td>24675.780</td>\n",
       "      <td>30197.7625</td>\n",
       "      <td>34971.02</td>\n",
       "    </tr>\n",
       "  </tbody>\n",
       "</table>\n",
       "</div>"
      ],
      "text/plain": [
       "           count          mean          std       min        25%        50%  \\\n",
       "CLVScore                                                                      \n",
       "0         1264.0   1256.256497  1001.984548  -4287.63    473.065   1022.335   \n",
       "1          207.0   6590.972029  2688.177709   3953.80   4519.200   5669.650   \n",
       "2           22.0  24355.958636  6284.315956  15875.56  18085.085  24675.780   \n",
       "\n",
       "                 75%       max  \n",
       "CLVScore                        \n",
       "0          1863.5575   3886.67  \n",
       "1          7926.9300  14547.08  \n",
       "2         30197.7625  34971.02  "
      ]
     },
     "execution_count": 253,
     "metadata": {},
     "output_type": "execute_result"
    }
   ],
   "source": [
    "df_ym.groupby('CLVScore')['y_Sales'].describe()"
   ]
  },
  {
   "cell_type": "code",
   "execution_count": 254,
   "metadata": {},
   "outputs": [
    {
     "data": {
      "text/html": [
       "<div>\n",
       "<style scoped>\n",
       "    .dataframe tbody tr th:only-of-type {\n",
       "        vertical-align: middle;\n",
       "    }\n",
       "\n",
       "    .dataframe tbody tr th {\n",
       "        vertical-align: top;\n",
       "    }\n",
       "\n",
       "    .dataframe thead th {\n",
       "        text-align: right;\n",
       "    }\n",
       "</style>\n",
       "<table border=\"1\" class=\"dataframe\">\n",
       "  <thead>\n",
       "    <tr style=\"text-align: right;\">\n",
       "      <th></th>\n",
       "      <th>CustomerID</th>\n",
       "      <th>InvoiceDateMax</th>\n",
       "      <th>Recency</th>\n",
       "      <th>Frequency</th>\n",
       "      <th>MValue</th>\n",
       "      <th>RecCluster</th>\n",
       "      <th>FreqCluster</th>\n",
       "      <th>MValCluster</th>\n",
       "      <th>TotalScore</th>\n",
       "      <th>ClientValue</th>\n",
       "      <th>y_Sales</th>\n",
       "      <th>CLVScore</th>\n",
       "    </tr>\n",
       "  </thead>\n",
       "  <tbody>\n",
       "    <tr>\n",
       "      <th>1</th>\n",
       "      <td>12352.0</td>\n",
       "      <td>2011-11-03</td>\n",
       "      <td>36</td>\n",
       "      <td>95</td>\n",
       "      <td>1545.41</td>\n",
       "      <td>3</td>\n",
       "      <td>0</td>\n",
       "      <td>0</td>\n",
       "      <td>3</td>\n",
       "      <td>Medium</td>\n",
       "      <td>1248.91</td>\n",
       "      <td>0</td>\n",
       "    </tr>\n",
       "    <tr>\n",
       "      <th>2</th>\n",
       "      <td>12359.0</td>\n",
       "      <td>2011-12-02</td>\n",
       "      <td>7</td>\n",
       "      <td>254</td>\n",
       "      <td>6245.53</td>\n",
       "      <td>3</td>\n",
       "      <td>1</td>\n",
       "      <td>0</td>\n",
       "      <td>4</td>\n",
       "      <td>Medium</td>\n",
       "      <td>3859.12</td>\n",
       "      <td>0</td>\n",
       "    </tr>\n",
       "    <tr>\n",
       "      <th>3</th>\n",
       "      <td>12362.0</td>\n",
       "      <td>2011-12-06</td>\n",
       "      <td>3</td>\n",
       "      <td>274</td>\n",
       "      <td>5154.58</td>\n",
       "      <td>3</td>\n",
       "      <td>1</td>\n",
       "      <td>0</td>\n",
       "      <td>4</td>\n",
       "      <td>Medium</td>\n",
       "      <td>4680.38</td>\n",
       "      <td>1</td>\n",
       "    </tr>\n",
       "    <tr>\n",
       "      <th>5</th>\n",
       "      <td>12375.0</td>\n",
       "      <td>2011-12-07</td>\n",
       "      <td>2</td>\n",
       "      <td>18</td>\n",
       "      <td>455.42</td>\n",
       "      <td>3</td>\n",
       "      <td>0</td>\n",
       "      <td>0</td>\n",
       "      <td>3</td>\n",
       "      <td>Medium</td>\n",
       "      <td>455.42</td>\n",
       "      <td>0</td>\n",
       "    </tr>\n",
       "    <tr>\n",
       "      <th>6</th>\n",
       "      <td>12379.0</td>\n",
       "      <td>2011-09-19</td>\n",
       "      <td>81</td>\n",
       "      <td>41</td>\n",
       "      <td>850.29</td>\n",
       "      <td>2</td>\n",
       "      <td>0</td>\n",
       "      <td>0</td>\n",
       "      <td>2</td>\n",
       "      <td>Low</td>\n",
       "      <td>850.29</td>\n",
       "      <td>0</td>\n",
       "    </tr>\n",
       "  </tbody>\n",
       "</table>\n",
       "</div>"
      ],
      "text/plain": [
       "   CustomerID InvoiceDateMax  Recency  Frequency   MValue  RecCluster  \\\n",
       "1     12352.0     2011-11-03       36         95  1545.41           3   \n",
       "2     12359.0     2011-12-02        7        254  6245.53           3   \n",
       "3     12362.0     2011-12-06        3        274  5154.58           3   \n",
       "5     12375.0     2011-12-07        2         18   455.42           3   \n",
       "6     12379.0     2011-09-19       81         41   850.29           2   \n",
       "\n",
       "   FreqCluster  MValCluster  TotalScore ClientValue  y_Sales  CLVScore  \n",
       "1            0            0           3      Medium  1248.91         0  \n",
       "2            1            0           4      Medium  3859.12         0  \n",
       "3            1            0           4      Medium  4680.38         1  \n",
       "5            0            0           3      Medium   455.42         0  \n",
       "6            0            0           2         Low   850.29         0  "
      ]
     },
     "execution_count": 254,
     "metadata": {},
     "output_type": "execute_result"
    }
   ],
   "source": [
    "df_ym.head()"
   ]
  },
  {
   "cell_type": "code",
   "execution_count": 255,
   "metadata": {},
   "outputs": [],
   "source": [
    "## Classification using XGB\n",
    "from sklearn.metrics import plot_confusion_matrix\n",
    "from sklearn.metrics import classification_report\n",
    "from sklearn.metrics import f1_score\n",
    "import xgboost as xgb\n",
    "from sklearn.model_selection import cross_val_score, train_test_split\n",
    "from xgboost import XGBClassifier\n",
    "from sklearn.ensemble import GradientBoostingClassifier\n",
    "import category_encoders as ce\n",
    "from category_encoders import OrdinalEncoder, OneHotEncoder\n",
    "from sklearn.pipeline import make_pipeline\n",
    "from sklearn.metrics import accuracy_score\n",
    "from sklearn.model_selection  import RepeatedStratifiedKFold"
   ]
  },
  {
   "cell_type": "code",
   "execution_count": 256,
   "metadata": {},
   "outputs": [],
   "source": [
    "mod1=xgb.XGBClassifier()\n",
    "pipe=make_pipeline(OrdinalEncoder(), mod1)\n",
    "X=df_ym.drop(['CLVScore', 'y_Sales', 'InvoiceDateMax'], axis=1)\n",
    "y=df_ym[\"CLVScore\"]"
   ]
  },
  {
   "cell_type": "code",
   "execution_count": 263,
   "metadata": {},
   "outputs": [],
   "source": [
    "X_train, X_test, y_train, y_test=train_test_split(X,y, test_size=0.20, random_state=5)"
   ]
  },
  {
   "cell_type": "code",
   "execution_count": 264,
   "metadata": {},
   "outputs": [
    {
     "data": {
      "text/plain": [
       "XGBClassifier(base_score=0.5, booster='gbtree', colsample_bylevel=1,\n",
       "              colsample_bynode=1, colsample_bytree=1, gamma=0, gpu_id=-1,\n",
       "              importance_type='gain', interaction_constraints='',\n",
       "              learning_rate=0.1, max_delta_step=0, max_depth=5,\n",
       "              min_child_weight=1, missing=nan, monotone_constraints='()',\n",
       "              n_estimators=100, n_jobs=0, num_parallel_tree=1,\n",
       "              objective='multi:softprob', random_state=0, reg_alpha=0,\n",
       "              reg_lambda=1, scale_pos_weight=None, subsample=1,\n",
       "              tree_method='exact', validate_parameters=1, verbosity=None)"
      ]
     },
     "execution_count": 264,
     "metadata": {},
     "output_type": "execute_result"
    }
   ],
   "source": [
    "pipe.steps[1][1].set_params(objective='multi:softprob', learning_rate=0.1, max_depth=5)"
   ]
  },
  {
   "cell_type": "code",
   "execution_count": 265,
   "metadata": {
    "scrolled": true
   },
   "outputs": [
    {
     "data": {
      "text/plain": [
       "0.9498327759197325"
      ]
     },
     "execution_count": 265,
     "metadata": {},
     "output_type": "execute_result"
    }
   ],
   "source": [
    "pipe.fit(X_train, y_train)\n",
    "pipe.score(X_test, y_test)"
   ]
  },
  {
   "cell_type": "code",
   "execution_count": 266,
   "metadata": {},
   "outputs": [
    {
     "data": {
      "text/html": [
       "<div>\n",
       "<style scoped>\n",
       "    .dataframe tbody tr th:only-of-type {\n",
       "        vertical-align: middle;\n",
       "    }\n",
       "\n",
       "    .dataframe tbody tr th {\n",
       "        vertical-align: top;\n",
       "    }\n",
       "\n",
       "    .dataframe thead th {\n",
       "        text-align: right;\n",
       "    }\n",
       "</style>\n",
       "<table border=\"1\" class=\"dataframe\">\n",
       "  <thead>\n",
       "    <tr style=\"text-align: right;\">\n",
       "      <th></th>\n",
       "      <th>Importance</th>\n",
       "      <th>Column</th>\n",
       "    </tr>\n",
       "  </thead>\n",
       "  <tbody>\n",
       "    <tr>\n",
       "      <th>3</th>\n",
       "      <td>0.801309</td>\n",
       "      <td>MValue</td>\n",
       "    </tr>\n",
       "    <tr>\n",
       "      <th>1</th>\n",
       "      <td>0.058766</td>\n",
       "      <td>Recency</td>\n",
       "    </tr>\n",
       "    <tr>\n",
       "      <th>0</th>\n",
       "      <td>0.058558</td>\n",
       "      <td>CustomerID</td>\n",
       "    </tr>\n",
       "    <tr>\n",
       "      <th>2</th>\n",
       "      <td>0.050499</td>\n",
       "      <td>Frequency</td>\n",
       "    </tr>\n",
       "    <tr>\n",
       "      <th>7</th>\n",
       "      <td>0.030868</td>\n",
       "      <td>TotalScore</td>\n",
       "    </tr>\n",
       "    <tr>\n",
       "      <th>4</th>\n",
       "      <td>0.000000</td>\n",
       "      <td>RecCluster</td>\n",
       "    </tr>\n",
       "    <tr>\n",
       "      <th>5</th>\n",
       "      <td>0.000000</td>\n",
       "      <td>FreqCluster</td>\n",
       "    </tr>\n",
       "    <tr>\n",
       "      <th>6</th>\n",
       "      <td>0.000000</td>\n",
       "      <td>MValCluster</td>\n",
       "    </tr>\n",
       "    <tr>\n",
       "      <th>8</th>\n",
       "      <td>0.000000</td>\n",
       "      <td>ClientValue</td>\n",
       "    </tr>\n",
       "  </tbody>\n",
       "</table>\n",
       "</div>"
      ],
      "text/plain": [
       "   Importance       Column\n",
       "3    0.801309       MValue\n",
       "1    0.058766      Recency\n",
       "0    0.058558   CustomerID\n",
       "2    0.050499    Frequency\n",
       "7    0.030868   TotalScore\n",
       "4    0.000000   RecCluster\n",
       "5    0.000000  FreqCluster\n",
       "6    0.000000  MValCluster\n",
       "8    0.000000  ClientValue"
      ]
     },
     "execution_count": 266,
     "metadata": {},
     "output_type": "execute_result"
    }
   ],
   "source": [
    "feats = pd.DataFrame({ 'Importance': pipe.steps[1][1].feature_importances_, 'Column': X.columns})\n",
    "feats.sort_values(by='Importance', ascending=False)"
   ]
  },
  {
   "cell_type": "code",
   "execution_count": 267,
   "metadata": {},
   "outputs": [
    {
     "data": {
      "image/png": "[encoded data removed]",
      "text/plain": [
       "<Figure size 432x288 with 2 Axes>"
      ]
     },
     "metadata": {
      "needs_background": "light"
     },
     "output_type": "display_data"
    }
   ],
   "source": [
    "plot_confusion_matrix(pipe, X_test, y_test,cmap=plt.cm.Blues,normalize='pred');"
   ]
  },
  {
   "cell_type": "code",
   "execution_count": 268,
   "metadata": {},
   "outputs": [
    {
     "name": "stdout",
     "output_type": "stream",
     "text": [
      "              precision    recall  f1-score   support\n",
      "\n",
      "           0       0.98      0.97      0.98       250\n",
      "           1       0.78      0.88      0.83        41\n",
      "           2       0.86      0.75      0.80         8\n",
      "\n",
      "    accuracy                           0.95       299\n",
      "   macro avg       0.87      0.87      0.87       299\n",
      "weighted avg       0.95      0.95      0.95       299\n",
      "\n"
     ]
    }
   ],
   "source": [
    "print(classification_report(y_test, pipe.predict(X_test)))"
   ]
  },
  {
   "cell_type": "markdown",
   "metadata": {},
   "source": [
    "## **References**\n",
    "### https://towardsdatascience.com/data-driven-growth-with-python-part-2-customer-segmentation-5c019d150444"
   ]
  }
 ],
 "metadata": {
  "kernelspec": {
   "display_name": "Python 3",
   "language": "python",
   "name": "python3"
  },
  "language_info": {
   "codemirror_mode": {
    "name": "ipython",
    "version": 3
   },
   "file_extension": ".py",
   "mimetype": "text/x-python",
   "name": "python",
   "nbconvert_exporter": "python",
   "pygments_lexer": "ipython3",
   "version": "3.7.6"
  }
 },
 "nbformat": 4,
 "nbformat_minor": 4
}
